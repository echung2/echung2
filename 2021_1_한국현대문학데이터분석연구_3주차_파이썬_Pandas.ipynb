{
  "nbformat": 4,
  "nbformat_minor": 0,
  "metadata": {
    "colab": {
      "provenance": [],
      "toc_visible": true,
      "include_colab_link": true
    },
    "kernelspec": {
      "name": "python3",
      "display_name": "Python 3"
    }
  },
  "cells": [
    {
      "cell_type": "markdown",
      "metadata": {
        "id": "view-in-github",
        "colab_type": "text"
      },
      "source": [
        "<a href=\"https://colab.research.google.com/github/echung2/echung2/blob/master/2021_1_%ED%95%9C%EA%B5%AD%ED%98%84%EB%8C%80%EB%AC%B8%ED%95%99%EB%8D%B0%EC%9D%B4%ED%84%B0%EB%B6%84%EC%84%9D%EC%97%B0%EA%B5%AC_3%EC%A3%BC%EC%B0%A8_%ED%8C%8C%EC%9D%B4%EC%8D%AC_Pandas.ipynb\" target=\"_parent\"><img src=\"https://colab.research.google.com/assets/colab-badge.svg\" alt=\"Open In Colab\"/></a>"
      ]
    },
    {
      "cell_type": "markdown",
      "metadata": {
        "id": "p-X2RLO6PKez"
      },
      "source": [
        "# 파이썬 기초와 Pandas 활용\n",
        "참고 자료 링크 \\\n",
        "점프 투 파이썬 : https://wikidocs.net/book/1 \\\n",
        "왕초보를 위한 Python : https://wikidocs.net/book/2 \\\n",
        "파이썬 기본을 갈고 닦자! : https://wikidocs.net/book/1553 \\"
      ]
    },
    {
      "cell_type": "markdown",
      "metadata": {
        "id": "4qtTmyq7YJPA"
      },
      "source": [
        "## 0. 연산자"
      ]
    },
    {
      "cell_type": "markdown",
      "metadata": {
        "id": "WIGgUpWxQtAc"
      },
      "source": [
        "### a. 변수할당(assign)"
      ]
    },
    {
      "cell_type": "code",
      "metadata": {
        "id": "3ARwf7KCYSGJ"
      },
      "source": [
        "# '='은 등호가 아니다\n",
        "a = 3\n",
        "a"
      ],
      "execution_count": null,
      "outputs": []
    },
    {
      "cell_type": "code",
      "metadata": {
        "id": "7QoFHYsnZS0g"
      },
      "source": [
        "# 등호는 ==\n",
        "a == 5"
      ],
      "execution_count": null,
      "outputs": []
    },
    {
      "cell_type": "code",
      "metadata": {
        "id": "7FhavFMMbG9V"
      },
      "source": [
        "a is 3"
      ],
      "execution_count": null,
      "outputs": []
    },
    {
      "cell_type": "code",
      "metadata": {
        "id": "tuOnZL2_bAGK"
      },
      "source": [
        "# !=\n",
        "a!=5"
      ],
      "execution_count": null,
      "outputs": []
    },
    {
      "cell_type": "code",
      "metadata": {
        "id": "4g9L4qO6bEih"
      },
      "source": [
        "a is not 5"
      ],
      "execution_count": null,
      "outputs": []
    },
    {
      "cell_type": "markdown",
      "metadata": {
        "id": "TLqme8biaXn1"
      },
      "source": [
        "### b. 부등호"
      ]
    },
    {
      "cell_type": "code",
      "metadata": {
        "id": "rA7gym9Ba9Ie"
      },
      "source": [
        "a = 123\n",
        "b = 12\n",
        "\n",
        "print(a > b) # True\n",
        "print(a < b) # False\n",
        "print(a >= b) # True\n",
        "print(a <= b) # False\n",
        "print(a == b) # False\n",
        "print(a != b) # True\n",
        "\n",
        "c = a > b\n",
        "\n",
        "print(type(c))\n",
        "print(c)"
      ],
      "execution_count": null,
      "outputs": []
    },
    {
      "cell_type": "markdown",
      "metadata": {
        "id": "Z5klbXeqOcJj"
      },
      "source": [
        "## 1. 파이썬 자료형\n",
        "\n"
      ]
    },
    {
      "cell_type": "markdown",
      "metadata": {
        "id": "g2bPt-j20v-0"
      },
      "source": [
        "### a. 숫자형 \n",
        "*   정수 (int)\n",
        "*   실수 (float, double)"
      ]
    },
    {
      "cell_type": "code",
      "metadata": {
        "id": "f8OqnNUYQPZp"
      },
      "source": [
        "a = 1\n",
        "type(a)"
      ],
      "execution_count": null,
      "outputs": []
    },
    {
      "cell_type": "code",
      "metadata": {
        "id": "bjF1hiGeRerz"
      },
      "source": [
        "b = 1.6\n",
        "type(b)"
      ],
      "execution_count": null,
      "outputs": []
    },
    {
      "cell_type": "code",
      "metadata": {
        "id": "sjlaZ6buR23Q"
      },
      "source": [
        "# 형변환 (실수 -> 정수)\n",
        "int(b)"
      ],
      "execution_count": null,
      "outputs": []
    },
    {
      "cell_type": "code",
      "metadata": {
        "id": "nJKrfemsSlnx"
      },
      "source": [
        "# 형변환 (실수 -> 정수)\n",
        "float(a)"
      ],
      "execution_count": null,
      "outputs": []
    },
    {
      "cell_type": "markdown",
      "metadata": {
        "id": "8tpyoMw1SowP"
      },
      "source": [
        "### b. 문자열 자료형 (String)\n",
        "*텍스트 데이터를 자주 다루게되기 때문에 매우 중요한 자료형*"
      ]
    },
    {
      "cell_type": "code",
      "metadata": {
        "id": "IAX1v03BS5Ue"
      },
      "source": [
        "# '1'과 1의 차이\n",
        "str(a)"
      ],
      "execution_count": null,
      "outputs": []
    },
    {
      "cell_type": "code",
      "metadata": {
        "id": "zZIDf1EAS8M-"
      },
      "source": [
        "# 문자열 안에 따옴표를 포함하고 싶을때 (\"Python's favorite food is perl\")\n",
        "c = 'Python's favorite food is perl'"
      ],
      "execution_count": null,
      "outputs": []
    },
    {
      "cell_type": "code",
      "metadata": {
        "id": "0eWv-DONUdZM"
      },
      "source": [
        "c = \"Python's favorite food is perl\"\n",
        "print(c)"
      ],
      "execution_count": null,
      "outputs": []
    },
    {
      "cell_type": "code",
      "metadata": {
        "id": "UWxiNWkEWAsx"
      },
      "source": [
        "# 문자열 더하기\n",
        "life = \"life\"\n",
        "short = \" is short!\""
      ],
      "execution_count": null,
      "outputs": []
    },
    {
      "cell_type": "code",
      "metadata": {
        "id": "lL99xixOWaOk"
      },
      "source": [
        "life_short = life + short\n",
        "life_short"
      ],
      "execution_count": null,
      "outputs": []
    },
    {
      "cell_type": "code",
      "metadata": {
        "id": "yAAB1foYWcO2"
      },
      "source": [
        "# 문자열 곱하기\n",
        "life*4"
      ],
      "execution_count": null,
      "outputs": []
    },
    {
      "cell_type": "code",
      "metadata": {
        "id": "Pk40IioxX5ZM"
      },
      "source": [
        "# 문자열 길이 구하기\n",
        "len(life_short)"
      ],
      "execution_count": null,
      "outputs": []
    },
    {
      "cell_type": "markdown",
      "metadata": {
        "id": "lY1TmIXWdqwJ"
      },
      "source": [
        "![python-list-index](https://qph.fs.quoracdn.net/main-qimg-a380b1bc159589df5e0b9842e5b56b6d)\n",
        "\n",
        "https://www.quora.com/What-is-negative-index-in-Python"
      ]
    },
    {
      "cell_type": "code",
      "metadata": {
        "id": "DWK-rO0SYBPc"
      },
      "source": [
        "# 문자열 인덱싱 (위치)\n",
        "## 파이썬은 0부터 시작\n",
        "life_short[0]"
      ],
      "execution_count": null,
      "outputs": []
    },
    {
      "cell_type": "code",
      "metadata": {
        "id": "WJZs5E6bdc32"
      },
      "source": [
        "life_short[5]"
      ],
      "execution_count": null,
      "outputs": []
    },
    {
      "cell_type": "code",
      "metadata": {
        "id": "fCYvP_pOcUWv"
      },
      "source": [
        "# 음수를 넣는다면?\n",
        "life_short[-1]"
      ],
      "execution_count": null,
      "outputs": []
    },
    {
      "cell_type": "code",
      "metadata": {
        "id": "yNYp7YjkgDly"
      },
      "source": [
        "# 문자열 슬라이싱(slicing)\n",
        "## 파이썬에서는 범위를 표현할 때 우측 끝 자리는 포함하지 않음.\n",
        "### 0:4 == 0,1,2,3\n",
        "life_short[0:4]"
      ],
      "execution_count": null,
      "outputs": []
    },
    {
      "cell_type": "code",
      "metadata": {
        "id": "5NRcCfV1gJ4u"
      },
      "source": [
        "life_short[:4]"
      ],
      "execution_count": null,
      "outputs": []
    },
    {
      "cell_type": "code",
      "metadata": {
        "id": "0j3ejjZaglzm"
      },
      "source": [
        "life_short[8:]"
      ],
      "execution_count": null,
      "outputs": []
    },
    {
      "cell_type": "code",
      "metadata": {
        "id": "sWuECBDFgMGH"
      },
      "source": [
        "# 문자열 관련 함수\n",
        "# 문자 개수 세기(count)\n",
        "life_short.count('s')"
      ],
      "execution_count": null,
      "outputs": []
    },
    {
      "cell_type": "code",
      "metadata": {
        "id": "-rqZbIIIhDR2"
      },
      "source": [
        "# 문자열 삽입(join)\n",
        "\",\".join('12345')"
      ],
      "execution_count": null,
      "outputs": []
    },
    {
      "cell_type": "code",
      "metadata": {
        "id": "Z835GG_IufQe"
      },
      "source": [
        "# 대문자로 바꾸기(upper)\n",
        "title = 'title'\n",
        "title.upper()"
      ],
      "execution_count": null,
      "outputs": []
    },
    {
      "cell_type": "code",
      "metadata": {
        "id": "3rM32KdaxVj1"
      },
      "source": [
        "# 소문자로 바꾸기(lower)\n",
        "title.upper().lower()"
      ],
      "execution_count": null,
      "outputs": []
    },
    {
      "cell_type": "code",
      "metadata": {
        "id": "mXBx-MP0xcTr"
      },
      "source": [
        "# 양쪽 공백 지우기(strip) cf. rstrip(오른쪽 공백 지우기), lstrip(왼쪽 공백 지우기)\n",
        "poem = ' 사랑을 잃고 나는 쓰네 '\n",
        "poem.strip()"
      ],
      "execution_count": null,
      "outputs": []
    },
    {
      "cell_type": "code",
      "metadata": {
        "id": "bpR68AW0yrw8"
      },
      "source": [
        "# 문자열 바꾸기(replace)\n",
        "## 나중에 정규표현식으로 더 정교한 문자열 치환 가능\n",
        "poem.replace('나','너')"
      ],
      "execution_count": null,
      "outputs": []
    },
    {
      "cell_type": "code",
      "metadata": {
        "id": "-sE-FWGT2VZD"
      },
      "source": [
        "# 문자열 나누기(split)\n",
        "poem.split() # 기본은 공백으로 나눠짐"
      ],
      "execution_count": null,
      "outputs": []
    },
    {
      "cell_type": "code",
      "metadata": {
        "id": "2GmFhY932g0d"
      },
      "source": [
        "# 어떻게 나눌 것인가?\n",
        "skku = '성균관대_문과대학'"
      ],
      "execution_count": null,
      "outputs": []
    },
    {
      "cell_type": "markdown",
      "metadata": {
        "id": "LZKUecp23oN2"
      },
      "source": [
        "### c. 리스트 (list) 자료형\n",
        "**가장 자주 보는 자료형**으로 많은 자료들이 리스트로 저장된다.\\\n",
        "list = [element1, element2, element3, ....] "
      ]
    },
    {
      "cell_type": "code",
      "metadata": {
        "id": "Zx6QhdBr3y59"
      },
      "source": [
        "[1,2,'3','python']"
      ],
      "execution_count": null,
      "outputs": []
    },
    {
      "cell_type": "code",
      "metadata": {
        "id": "W7TibaSrFUjg"
      },
      "source": [
        "# 리스트 인덱싱\n",
        "a = [1, 2, 3]\n",
        "a[0]"
      ],
      "execution_count": null,
      "outputs": []
    },
    {
      "cell_type": "code",
      "metadata": {
        "id": "nrFF_nakFZLR"
      },
      "source": [
        "a[0] + a[2]"
      ],
      "execution_count": null,
      "outputs": []
    },
    {
      "cell_type": "code",
      "metadata": {
        "id": "WbbtRWHGFeWR"
      },
      "source": [
        "a[-1]"
      ],
      "execution_count": null,
      "outputs": []
    },
    {
      "cell_type": "code",
      "metadata": {
        "id": "WbSYZcEgFf6t"
      },
      "source": [
        "# 리스트 슬라이싱\n",
        "a = [1, 2, 3, 4, 5]\n",
        "a[0:2]"
      ],
      "execution_count": null,
      "outputs": []
    },
    {
      "cell_type": "code",
      "metadata": {
        "id": "ZBihLLcKFk24"
      },
      "source": [
        "a[1:]"
      ],
      "execution_count": null,
      "outputs": []
    },
    {
      "cell_type": "code",
      "metadata": {
        "id": "z1PooXiTFthT"
      },
      "source": [
        "a = [1, 2, 3]\n",
        "b = [4, 5, 6]\n",
        "a + b"
      ],
      "execution_count": null,
      "outputs": []
    },
    {
      "cell_type": "code",
      "metadata": {
        "id": "rDGCg5XhF84v"
      },
      "source": [
        "# 리스트에 요소 추가(append)\n",
        "a.append(4)\n",
        "a"
      ],
      "execution_count": null,
      "outputs": []
    },
    {
      "cell_type": "code",
      "metadata": {
        "id": "yIkbdKl-GDK3"
      },
      "source": [
        "# 리스트 확장 (extend) : '리스트에 리스트를 더하기'\n",
        "a.extend([5,6])\n",
        "a"
      ],
      "execution_count": null,
      "outputs": []
    },
    {
      "cell_type": "markdown",
      "metadata": {
        "id": "bNcp-vYcJ1d_"
      },
      "source": [
        "### d. 딕셔너리 자료형(dict)\n",
        "{Key1:Value1, Key2:Value2, ...}"
      ]
    },
    {
      "cell_type": "code",
      "metadata": {
        "id": "QdkSaJyjJ59x"
      },
      "source": [
        "dic = {'이름':'김병준','대학':'문과대학','학번':2018}\n",
        "dic"
      ],
      "execution_count": null,
      "outputs": []
    },
    {
      "cell_type": "code",
      "metadata": {
        "id": "p1w9lddwKTfz"
      },
      "source": [
        "# 딕셔너리 key\n",
        "dic['이름']"
      ],
      "execution_count": null,
      "outputs": []
    },
    {
      "cell_type": "code",
      "metadata": {
        "id": "twBTy-cRKcuZ"
      },
      "source": [
        "# 딕셔너리 key 리스트\n",
        "dic.keys()"
      ],
      "execution_count": null,
      "outputs": []
    },
    {
      "cell_type": "code",
      "metadata": {
        "id": "F9Ef_xV0KmBP"
      },
      "source": [
        "# 딕셔너리 vlaue 리스트\n",
        "dic.values()"
      ],
      "execution_count": null,
      "outputs": []
    },
    {
      "cell_type": "markdown",
      "metadata": {
        "id": "K65KowW1Ga42"
      },
      "source": [
        "### e. 불(Bool) 자료형\n",
        "*   True - 참\n",
        "*   False - 거짓\n",
        "\n"
      ]
    },
    {
      "cell_type": "code",
      "metadata": {
        "id": "_U6aAQ44HjAG"
      },
      "source": [
        "a == a"
      ],
      "execution_count": null,
      "outputs": []
    },
    {
      "cell_type": "code",
      "metadata": {
        "id": "2LPZZtxTHlku"
      },
      "source": [
        "3 < 2"
      ],
      "execution_count": null,
      "outputs": []
    },
    {
      "cell_type": "markdown",
      "metadata": {
        "id": "p314dMezTCtz"
      },
      "source": [
        "## 2. 제어문"
      ]
    },
    {
      "cell_type": "markdown",
      "metadata": {
        "id": "fIBheWHnUcuR"
      },
      "source": [
        "### a. if 문\n",
        "\n",
        "아래 문장을 코드로 구현한다면 ?\n",
        "\n",
        "\"돈이 있으면 택시를 타고, 돈이 없으면 걸어간다\""
      ]
    },
    {
      "cell_type": "code",
      "metadata": {
        "id": "MEly89MlI36s"
      },
      "source": [
        "money = True # 만약 False 라면?\n",
        "\n",
        "if money:\n",
        "  print(\"택시를 타고 가라\")\n",
        "else:\n",
        "  print(\"걸어 가라\")"
      ],
      "execution_count": null,
      "outputs": []
    },
    {
      "cell_type": "code",
      "metadata": {
        "id": "PPwikVW8LFby"
      },
      "source": [
        "# 변수 a가 3 이면 print('a'), 그렇지 않으면 print('b')\n"
      ],
      "execution_count": null,
      "outputs": []
    },
    {
      "cell_type": "markdown",
      "metadata": {
        "id": "7iLDHpoqNv_4"
      },
      "source": [
        "####elif 활용한 if문\n",
        "\"주머니에 돈이 있으면 택시를 타고, 주머니에 돈은 없지만 카드가 있으면 택시를 타고, 돈도 없고 카드도 없으면 걸어 가라.\""
      ]
    },
    {
      "cell_type": "code",
      "metadata": {
        "id": "u2tb-RHxN5Ku"
      },
      "source": [],
      "execution_count": null,
      "outputs": []
    },
    {
      "cell_type": "code",
      "metadata": {
        "id": "Dw0VjiOnN9sQ"
      },
      "source": [
        "# 이름이 김병준이면 A학점, 한지윤이면 B학점, 그 둘다 아니면 C학점\n",
        "name = ''"
      ],
      "execution_count": null,
      "outputs": []
    },
    {
      "cell_type": "markdown",
      "metadata": {
        "id": "Ae5bbYDMIy4J"
      },
      "source": [
        "### b. for 문 (반복문)"
      ]
    },
    {
      "cell_type": "code",
      "metadata": {
        "id": "0DzThjWEO5Bl"
      },
      "source": [
        "test_list = ['two', 'three', 'one'] # 리스트와 for문은 자주 같이 쓰인다.\n",
        "for i in test_list:\n",
        "  print(i)"
      ],
      "execution_count": null,
      "outputs": []
    },
    {
      "cell_type": "markdown",
      "metadata": {
        "id": "oGG0x50PQQUy"
      },
      "source": [
        "#### if문이 있는 for문\n",
        "\"총 5명의 학생이 시험을 보았는데 시험 점수가 60점이 넘으면 합격이고 그렇지 않으면 불합격이다. 합격인지 불합격인지 결과를 보여 주시오.\""
      ]
    },
    {
      "cell_type": "code",
      "metadata": {
        "id": "aWmf0Ol9RP5d"
      },
      "source": [
        "grade = [60, 80, 90, 100, 45]"
      ],
      "execution_count": null,
      "outputs": []
    },
    {
      "cell_type": "code",
      "metadata": {
        "id": "yy2M2_dfRViZ"
      },
      "source": [],
      "execution_count": null,
      "outputs": []
    },
    {
      "cell_type": "markdown",
      "metadata": {
        "id": "7k0GlCr7RXYu"
      },
      "source": [
        "#### range 함수 활용"
      ]
    },
    {
      "cell_type": "code",
      "metadata": {
        "id": "tOxOguVjRbpW"
      },
      "source": [
        "range(0,10)"
      ],
      "execution_count": null,
      "outputs": []
    },
    {
      "cell_type": "code",
      "metadata": {
        "id": "BiVQ4OLwRfCM"
      },
      "source": [
        "for i in range(0,10):\n",
        "  print(i)"
      ],
      "execution_count": null,
      "outputs": []
    },
    {
      "cell_type": "markdown",
      "metadata": {
        "id": "1FOYPWwPTQe_"
      },
      "source": [
        "## 3. 함수(function)\n",
        "입력(x)을 넣으면 출력(y)이 나오는 바구니.\\\n",
        "반복적 이용하는 기능이 있을때 함수로 처리해서 효율적인 프로그래밍이 가능.\n",
        "\n",
        "![function](https://res.cloudinary.com/practicaldev/image/fetch/s--iCkOfD0L--/c_limit%2Cf_auto%2Cfl_progressive%2Cq_auto%2Cw_880/https://cdn-images-1.medium.com/max/1024/1%2A709ugF12LLkYxvb839YNlg.png)\n",
        "\n",
        "https://dev.to/navi/why-functional-programming-matters-2o95"
      ]
    },
    {
      "cell_type": "code",
      "metadata": {
        "id": "e3WlL82iRlx7"
      },
      "source": [
        "def add(a, b): \n",
        "    return a + b"
      ],
      "execution_count": null,
      "outputs": []
    },
    {
      "cell_type": "code",
      "metadata": {
        "id": "Ue5jqymmWEe1"
      },
      "source": [
        "add(4,5) # a+b로 바로 코딩하는 것과 차이점은?"
      ],
      "execution_count": null,
      "outputs": []
    },
    {
      "cell_type": "code",
      "metadata": {
        "id": "rFuNSqFOWXsy"
      },
      "source": [
        "# 문자열 2개를 받아서 하나로 합쳐주는 함수?\n",
        "def merge(a,b):\n",
        "\n",
        "  return"
      ],
      "execution_count": null,
      "outputs": []
    },
    {
      "cell_type": "markdown",
      "metadata": {
        "id": "Jhl90Si0TUJr"
      },
      "source": [
        "## 4. 파이썬 모듈/패키지\n",
        "파이썬은 수많은 모듈과 패키지가 있다. 다른 사람들이 많은 모듈과 패키지를 설치해서 바로 활용이 가능.\\\n",
        "https://pypi.org/"
      ]
    },
    {
      "cell_type": "markdown",
      "metadata": {
        "id": "ujNmF_IGXV9X"
      },
      "source": [
        "#### Colab에서 pip 명령어 활용\n",
        "!pip install 패키지명"
      ]
    },
    {
      "cell_type": "code",
      "metadata": {
        "id": "ydXzl0BMXBl2"
      },
      "source": [
        "!pip install kiwipiepy tomotopy"
      ],
      "execution_count": null,
      "outputs": []
    },
    {
      "cell_type": "markdown",
      "metadata": {
        "id": "u4o-0lSbXrIg"
      },
      "source": [
        "#### 필요한 패키지 import"
      ]
    },
    {
      "cell_type": "code",
      "metadata": {
        "id": "xpombRDrXvBS"
      },
      "source": [
        "import pandas as pd #pandas라는 패키지명이 길기 때문에 as하고 pd라는 별명을 씀."
      ],
      "execution_count": null,
      "outputs": []
    },
    {
      "cell_type": "code",
      "metadata": {
        "id": "5WHzW6uxZuj6"
      },
      "source": [
        "!pip install PyKomoran\n",
        "!pip install wordcloud\n",
        "!sudo apt update # 우분투 패키지 업데이트\n",
        "!sudo apt install fonts-nanum # 우분투에 나눔고딕 설치\n",
        "\n",
        "import pandas as pd\n",
        "import numpy as np\n",
        "import matplotlib.pyplot as plt\n",
        "from PyKomoran import *\n",
        "komoran = Komoran(\"STABLE\")\n",
        "from wordcloud import WordCloud\n",
        "wordcloud = WordCloud()\n",
        "font_path = '/usr/share/fonts/truetype/nanum/NanumBarunGothic.ttf'\n",
        "from sklearn.feature_extraction.text import CountVectorizer"
      ],
      "execution_count": null,
      "outputs": []
    },
    {
      "cell_type": "markdown",
      "metadata": {
        "id": "5ZWRlwJkThBc"
      },
      "source": [
        "## 5. Pandas 기초\n",
        "https://wikidocs.net/32829"
      ]
    },
    {
      "cell_type": "markdown",
      "metadata": {
        "id": "osx79ze7jeqL"
      },
      "source": [
        "### a. 데이터 프레임(dataframe), 그리고 행(row)과 열(column)"
      ]
    },
    {
      "cell_type": "markdown",
      "metadata": {
        "id": "Qn7Phb2OkDfo"
      },
      "source": [
        "#### Series (1차원 배열)"
      ]
    },
    {
      "cell_type": "code",
      "metadata": {
        "id": "a9jczmYDjnF4"
      },
      "source": [
        "sr = pd.Series([17000, 18000, 1000, 5000],\n",
        "       index=[\"피자\", \"치킨\", \"콜라\", \"맥주\"])\n",
        "sr"
      ],
      "execution_count": null,
      "outputs": []
    },
    {
      "cell_type": "code",
      "metadata": {
        "id": "nGMHrRP4kG1J"
      },
      "source": [
        "sr.index"
      ],
      "execution_count": null,
      "outputs": []
    },
    {
      "cell_type": "code",
      "metadata": {
        "id": "IWAPqdiVkH9V"
      },
      "source": [
        "sr.values"
      ],
      "execution_count": null,
      "outputs": []
    },
    {
      "cell_type": "markdown",
      "metadata": {
        "id": "Dwq9z6l5kI6S"
      },
      "source": [
        "#### DataFrame (2차원 배열)\n",
        "![row and column](https://www.onlinemathlearning.com/image-files/xmatrix.png.pagespeed.ic.yRLIaDWKGP.png)"
      ]
    },
    {
      "cell_type": "code",
      "metadata": {
        "id": "evRmOlTHkOH1"
      },
      "source": [
        "values = [[1, 2, 3], [4, 5, 6], [7, 8, 9]]\n",
        "index = ['one', 'two', 'three']\n",
        "columns = ['A', 'B', 'C']"
      ],
      "execution_count": null,
      "outputs": []
    },
    {
      "cell_type": "code",
      "metadata": {
        "id": "-rUQ0WEqkZ4Y"
      },
      "source": [
        "df = pd.DataFrame(values, index=index, columns=columns)\n",
        "df"
      ],
      "execution_count": null,
      "outputs": []
    },
    {
      "cell_type": "code",
      "metadata": {
        "id": "ytXLYd1zka_8"
      },
      "source": [
        "df.columns"
      ],
      "execution_count": null,
      "outputs": []
    },
    {
      "cell_type": "code",
      "metadata": {
        "id": "wh3oh0xOkcQw"
      },
      "source": [
        "df.index"
      ],
      "execution_count": null,
      "outputs": []
    },
    {
      "cell_type": "code",
      "metadata": {
        "id": "QVauuzy_kdVT"
      },
      "source": [
        "df['C'][1]"
      ],
      "execution_count": null,
      "outputs": []
    },
    {
      "cell_type": "code",
      "metadata": {
        "id": "0WH-Cr6Skfy1"
      },
      "source": [
        "# 딕셔너리로 생성하기\n",
        "data = { '학번' : ['1000', '1001', '1002', '1003', '1004', '1005'],\n",
        "'이름' : [ 'Steve', 'James', 'Doyeon', 'Jane', 'Pilwoong', 'Tony'],\n",
        "         '점수': [90.72, 78.09, 98.43, 64.19, 81.30, 99.14]}\n",
        "\n",
        "df = pd.DataFrame(data)\n",
        "df"
      ],
      "execution_count": null,
      "outputs": []
    },
    {
      "cell_type": "code",
      "metadata": {
        "id": "xILwYAJlkiff"
      },
      "source": [
        "df.iloc[4,0]"
      ],
      "execution_count": null,
      "outputs": []
    },
    {
      "cell_type": "markdown",
      "metadata": {
        "id": "GBz34iwzkkOp"
      },
      "source": [
        "### b. 전처리 :  중복 삭제, 결측치 삭제 등\n",
        "https://rfriend.tistory.com/266 \\\n",
        "https://rfriend.tistory.com/263"
      ]
    },
    {
      "cell_type": "markdown",
      "metadata": {
        "id": "rphESzzDkp28"
      },
      "source": [
        "##### 중복 삭제(drop_duplicates)"
      ]
    },
    {
      "cell_type": "code",
      "metadata": {
        "id": "RqBlS8V_llUX"
      },
      "source": [
        "data = {'key1':['a', 'b', 'b', 'c', 'c'],\n",
        "'key2':['v', 'w', 'w', 'x', 'y'],\n",
        "'col':[1, 2, 2, 4, 5]}\n",
        "df = pd.DataFrame(data,columns=['key1','key2','col'])\n",
        "df"
      ],
      "execution_count": null,
      "outputs": []
    },
    {
      "cell_type": "code",
      "metadata": {
        "id": "IR7nn7HslnJ6"
      },
      "source": [
        "df.duplicated(['key2'])"
      ],
      "execution_count": null,
      "outputs": []
    },
    {
      "cell_type": "code",
      "metadata": {
        "id": "Rb5-JbBslph6"
      },
      "source": [
        "df.duplicated(['key1', 'key2'])"
      ],
      "execution_count": null,
      "outputs": []
    },
    {
      "cell_type": "code",
      "metadata": {
        "id": "78qQy7n3lqoW"
      },
      "source": [
        "df.drop_duplicates(['key1'], keep='first')"
      ],
      "execution_count": null,
      "outputs": []
    },
    {
      "cell_type": "code",
      "metadata": {
        "id": "j0TWkR_klrwi"
      },
      "source": [
        "df.drop_duplicates()"
      ],
      "execution_count": null,
      "outputs": []
    },
    {
      "cell_type": "markdown",
      "metadata": {
        "id": "XEW7btotlszg"
      },
      "source": [
        "##### 결측값 있는 행 제거(dropna)"
      ]
    },
    {
      "cell_type": "code",
      "metadata": {
        "id": "2qdR4LZNlvBE"
      },
      "source": [
        "df = pd.DataFrame(np.random.randn(5, 4),\n",
        "columns=['C1', 'C2', 'C3', 'C4'])\n",
        "df"
      ],
      "execution_count": null,
      "outputs": []
    },
    {
      "cell_type": "code",
      "metadata": {
        "id": "uRVFdjGQmkVE"
      },
      "source": [
        "df.loc[[0,1], 'C1'] = pd.NA\n",
        "df.loc[2, 'C2'] = pd.NA"
      ],
      "execution_count": null,
      "outputs": []
    },
    {
      "cell_type": "code",
      "metadata": {
        "id": "gg_kKz5LmlLH"
      },
      "source": [
        "df"
      ],
      "execution_count": null,
      "outputs": []
    },
    {
      "cell_type": "code",
      "metadata": {
        "id": "JZtx8clUmmLQ"
      },
      "source": [
        "df.dropna(axis=0)"
      ],
      "execution_count": null,
      "outputs": []
    },
    {
      "cell_type": "code",
      "metadata": {
        "id": "udvfkB0rmnQ_"
      },
      "source": [
        "df.dropna()"
      ],
      "execution_count": null,
      "outputs": []
    },
    {
      "cell_type": "code",
      "metadata": {
        "id": "mR2o-JRUmoSh"
      },
      "source": [
        "df.dropna(axis=1)"
      ],
      "execution_count": null,
      "outputs": []
    },
    {
      "cell_type": "code",
      "metadata": {
        "id": "wIvEpJoQmpwA"
      },
      "source": [
        "df.dropna(subset=['C2'])"
      ],
      "execution_count": null,
      "outputs": []
    },
    {
      "cell_type": "markdown",
      "metadata": {
        "id": "NDUWhlfFnGF3"
      },
      "source": [
        "## 6. 형태소 추출 맛보기 (PyKomoran)\n",
        "http://konlpy.org/ko/latest/api/konlpy.tag/#module-konlpy.tag._komoran \\\n",
        "https://komorandocs.readthedocs.io/ko/latest/firststep/postypes.html"
      ]
    },
    {
      "cell_type": "markdown",
      "metadata": {
        "id": "A7FY44wZnZhG"
      },
      "source": [
        "### a. 명사 추출"
      ]
    },
    {
      "cell_type": "code",
      "metadata": {
        "id": "s6JywqWTnJr_"
      },
      "source": [
        "komoran.nouns(\"만국의 노동자들이여 단결하라!\")"
      ],
      "execution_count": null,
      "outputs": []
    },
    {
      "cell_type": "markdown",
      "metadata": {
        "id": "cRWGioULnmyi"
      },
      "source": [
        "### b. 품사 추출"
      ]
    },
    {
      "cell_type": "code",
      "metadata": {
        "id": "oxtzjrVRnXrP"
      },
      "source": [
        "komoran.pos(\"이순신 장군은 승리했다\")"
      ],
      "execution_count": null,
      "outputs": []
    },
    {
      "cell_type": "markdown",
      "metadata": {
        "id": "a6kvi5j5npZF"
      },
      "source": [
        "### c. 형태소 추출"
      ]
    },
    {
      "cell_type": "code",
      "metadata": {
        "id": "T8AKpZPgn1Jz"
      },
      "source": [
        "komoran.get_morphes_by_tags(\"사람에게 비밀이 없다는 것은 재산 없는 것처럼 가난하고 허전한 일이다.\")"
      ],
      "execution_count": null,
      "outputs": []
    },
    {
      "cell_type": "code",
      "metadata": {
        "id": "IZmir_Smnrk2"
      },
      "source": [
        "komoran.get_morphes_by_tags(\"사람에게 비밀이 없다는 것은 재산 없는 것처럼 가난하고 허전한 일이다.\",tag_list=['NNG'])"
      ],
      "execution_count": null,
      "outputs": []
    },
    {
      "cell_type": "markdown",
      "metadata": {
        "id": "9BQxyc49n36h"
      },
      "source": [
        "### d. 사용자 사전 추가"
      ]
    },
    {
      "cell_type": "code",
      "metadata": {
        "id": "RqJqfdvyn6G9"
      },
      "source": [
        "komoran.get_list(\"코로나19 확진자가 점점 줄어들었다\") #'코로나19'를 한단어로 인식하지 못함"
      ],
      "execution_count": null,
      "outputs": []
    },
    {
      "cell_type": "code",
      "metadata": {
        "id": "6NRGeLV6n7mt"
      },
      "source": [
        "komoran = Komoran(\"EXP\")\n",
        "komoran.set_user_dic(\"user_dic.txt\")"
      ],
      "execution_count": null,
      "outputs": []
    },
    {
      "cell_type": "code",
      "metadata": {
        "id": "zqL835VToEDl"
      },
      "source": [
        "komoran.get_list(\"코로나19 확진자가 점점 줄어들었다\")"
      ],
      "execution_count": null,
      "outputs": []
    },
    {
      "cell_type": "code",
      "metadata": {
        "id": "rDRdRG0QoMZV"
      },
      "source": [
        "komoran.get_list(\"자만추의 신화\")"
      ],
      "execution_count": null,
      "outputs": []
    },
    {
      "cell_type": "markdown",
      "metadata": {
        "id": "oHSgFKDwjXHN"
      },
      "source": [
        "## 7. Pandas로 빅카인즈 데이터 다뤄보기"
      ]
    },
    {
      "cell_type": "markdown",
      "metadata": {
        "id": "XXBb5LF_hONA"
      },
      "source": [
        "### a. 데이터 로드"
      ]
    },
    {
      "cell_type": "code",
      "metadata": {
        "id": "iwC9KRYUhYLI"
      },
      "source": [
        "!ls # 폴더 내 파일 리스트 보여주는 리눅스 명령어"
      ],
      "execution_count": null,
      "outputs": []
    },
    {
      "cell_type": "code",
      "metadata": {
        "id": "U4XHy0Qn3niH"
      },
      "source": [
        "kim = pd.read_excel(\"kim.xlsx\") # 각자 지난주에 연습한 빅카인즈 엑셀 파일을 준비하세요, 저는 '김승옥'이 질의어입니다.\n",
        "kim"
      ],
      "execution_count": null,
      "outputs": []
    },
    {
      "cell_type": "code",
      "metadata": {
        "id": "o7ff92CKp4LA"
      },
      "source": [
        "# 컬럼 확인\n",
        "kim.columns"
      ],
      "execution_count": null,
      "outputs": []
    },
    {
      "cell_type": "markdown",
      "metadata": {
        "id": "HIq0jOG7hLrb"
      },
      "source": [
        "### b. 전처리"
      ]
    },
    {
      "cell_type": "code",
      "metadata": {
        "id": "i4QXWqNspMfu"
      },
      "source": [
        "kim['분석제외 여부'].value_counts()"
      ],
      "execution_count": null,
      "outputs": []
    },
    {
      "cell_type": "code",
      "metadata": {
        "id": "jvA03vd1pR_e"
      },
      "source": [
        "kim[kim['분석제외 여부'].isna()]"
      ],
      "execution_count": null,
      "outputs": []
    },
    {
      "cell_type": "code",
      "metadata": {
        "id": "aUC__p3fpUbb"
      },
      "source": [
        "# '분석제외 여부' column이 비어 있는 row만 활용\n",
        "kim = kim[kim['분석제외 여부'].isna()]\n",
        "kim"
      ],
      "execution_count": null,
      "outputs": []
    },
    {
      "cell_type": "code",
      "metadata": {
        "id": "t35xs7d8pjmD"
      },
      "source": [
        "#중복행 제거\n",
        "kim = kim.drop_duplicates()"
      ],
      "execution_count": null,
      "outputs": []
    },
    {
      "cell_type": "code",
      "metadata": {
        "id": "sGsFNCVSr3qZ"
      },
      "source": [
        "# 일자순으로 오름차순 정렬\n",
        "kim = kim.sort_values(by=['일자'])"
      ],
      "execution_count": null,
      "outputs": []
    },
    {
      "cell_type": "code",
      "metadata": {
        "id": "G4Fm0lrJplak"
      },
      "source": [
        "# index 리셋\n",
        "kim = kim.reset_index(drop=True)"
      ],
      "execution_count": null,
      "outputs": []
    },
    {
      "cell_type": "code",
      "metadata": {
        "id": "ErdLvod6pvtg"
      },
      "source": [
        "kim"
      ],
      "execution_count": null,
      "outputs": []
    },
    {
      "cell_type": "markdown",
      "metadata": {
        "id": "NZdcJ7V7p_MY"
      },
      "source": [
        "### c.형태소 분석 & 키워드 추출"
      ]
    },
    {
      "cell_type": "code",
      "metadata": {
        "id": "QpJHtJnkqRbS"
      },
      "source": [
        "kim['제목']"
      ],
      "execution_count": null,
      "outputs": []
    },
    {
      "cell_type": "code",
      "metadata": {
        "id": "mfL8D_RCqLFW"
      },
      "source": [
        "kim['본문']"
      ],
      "execution_count": null,
      "outputs": []
    },
    {
      "cell_type": "code",
      "metadata": {
        "id": "wqfsi5Z_qT7L"
      },
      "source": [
        "# 빅카인즈는 아쉽게도 저작권 문제로 본문 전체 제공을 하지 않음\n",
        "kim['본문'][0]"
      ],
      "execution_count": null,
      "outputs": []
    },
    {
      "cell_type": "code",
      "metadata": {
        "id": "hxCyz8YWqZAa"
      },
      "source": [
        "kim['전문'] = kim['제목'].str.cat(kim['본문'],sep='\\n')"
      ],
      "execution_count": null,
      "outputs": []
    },
    {
      "cell_type": "code",
      "metadata": {
        "id": "BDTff7_jq01i"
      },
      "source": [
        "kim['전문']"
      ],
      "execution_count": null,
      "outputs": []
    },
    {
      "cell_type": "code",
      "metadata": {
        "id": "dXtErS_HrA_S"
      },
      "source": [
        "kim['전문'].map(lambda x:komoran.nouns(x))"
      ],
      "execution_count": null,
      "outputs": []
    },
    {
      "cell_type": "code",
      "metadata": {
        "id": "vregLn_aqHfU"
      },
      "source": [
        "kim['키워드']"
      ],
      "execution_count": null,
      "outputs": []
    },
    {
      "cell_type": "code",
      "metadata": {
        "id": "cRsgD_fHrXte"
      },
      "source": [
        "kim['키워드'][0]"
      ],
      "execution_count": null,
      "outputs": []
    },
    {
      "cell_type": "code",
      "metadata": {
        "id": "EQ0958ZQrZvb"
      },
      "source": [
        "kim['키워드'][0].split(',')"
      ],
      "execution_count": null,
      "outputs": []
    },
    {
      "cell_type": "code",
      "metadata": {
        "id": "B9_Ls6tUqJmE"
      },
      "source": [
        "kim['키워드'] = kim['키워드'].map(lambda x:x.split(',')) #키워드 문자열을 리스트로 변경"
      ],
      "execution_count": null,
      "outputs": []
    },
    {
      "cell_type": "code",
      "metadata": {
        "id": "qhIZZu2trWrW"
      },
      "source": [
        "tf_vectorizer = CountVectorizer(analyzer='word',\n",
        "                             lowercase=False,\n",
        "                             tokenizer=None,\n",
        "                             preprocessor=None,\n",
        "                             min_df=5,\n",
        "                             ngram_range=(1,2) #bigram\n",
        "                             )"
      ],
      "execution_count": null,
      "outputs": []
    },
    {
      "cell_type": "code",
      "metadata": {
        "id": "1GozW-Etrfgw"
      },
      "source": [
        "tf_vector = tf_vectorizer.fit_transform(kim['키워드'].astype(str))"
      ],
      "execution_count": null,
      "outputs": []
    },
    {
      "cell_type": "code",
      "metadata": {
        "id": "I8MNhodSrgVV"
      },
      "source": [
        "tf_scores = tf_vector.toarray().sum(axis=0)\n",
        "tf_idx = np.argsort(-tf_scores)\n",
        "tf_scores = tf_scores[tf_idx]\n",
        "tf_vocab = np.array(tf_vectorizer.get_feature_names())[tf_idx]"
      ],
      "execution_count": null,
      "outputs": []
    },
    {
      "cell_type": "code",
      "metadata": {
        "id": "vCQB_OibrhdP"
      },
      "source": [
        "# 상위 50개 단어\n",
        "print(list(zip(tf_vocab, tf_scores))[:50])"
      ],
      "execution_count": null,
      "outputs": []
    },
    {
      "cell_type": "markdown",
      "metadata": {
        "id": "zE4Bq6dmrirj"
      },
      "source": [
        "### d. 데이터 시각화"
      ]
    },
    {
      "cell_type": "code",
      "metadata": {
        "id": "Wg-R1Jw2rpDH"
      },
      "source": [
        "keywords = dict(zip(tf_vocab, tf_scores))\n",
        "\n",
        "# wordcloud = wordcloud.generate_from_text(texts)\n",
        "wordcloud = wordcloud.generate_from_frequencies(keywords)\n",
        "wordcloud = WordCloud(\n",
        "    font_path = font_path,\n",
        "    width = 800,\n",
        "    height = 800\n",
        ")\n",
        "wordcloud = wordcloud.generate_from_frequencies(keywords)\n",
        "array = wordcloud.to_array()\n",
        "fig = plt.figure(figsize=(5, 5))\n",
        "plt.imshow(array, interpolation=\"bilinear\")\n",
        "plt.show()"
      ],
      "execution_count": null,
      "outputs": []
    },
    {
      "cell_type": "code",
      "metadata": {
        "id": "WySWyPrGsS6D"
      },
      "source": [
        "# 연도별 김승옥 기사량 추이\n",
        "kim['일자'].map(lambda x:int(str(x)[0:4])).value_counts().sort_index(ascending=True).plot()"
      ],
      "execution_count": null,
      "outputs": []
    },
    {
      "cell_type": "code",
      "metadata": {
        "id": "h4yF62rotD81"
      },
      "source": [
        "# 월별 김승옥 기사량 추이\n",
        "kim['일자'].map(lambda x:int(str(x)[0:6])).value_counts().sort_index(ascending=True).plot()"
      ],
      "execution_count": null,
      "outputs": []
    }
  ]
}