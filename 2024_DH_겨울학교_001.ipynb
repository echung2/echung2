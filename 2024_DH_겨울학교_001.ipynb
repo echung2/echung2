{
  "nbformat": 4,
  "nbformat_minor": 0,
  "metadata": {
    "colab": {
      "provenance": [],
      "include_colab_link": true
    },
    "kernelspec": {
      "name": "python3",
      "display_name": "Python 3"
    },
    "language_info": {
      "name": "python"
    }
  },
  "cells": [
    {
      "cell_type": "markdown",
      "metadata": {
        "id": "view-in-github",
        "colab_type": "text"
      },
      "source": [
        "<a href=\"https://colab.research.google.com/github/echung2/echung2/blob/master/2024_DH_%EA%B2%A8%EC%9A%B8%ED%95%99%EA%B5%90_001.ipynb\" target=\"_parent\"><img src=\"https://colab.research.google.com/assets/colab-badge.svg\" alt=\"Open In Colab\"/></a>"
      ]
    },
    {
      "cell_type": "markdown",
      "source": [
        "# 다양한 토픽 모델 체험해보기\n",
        "이 실습에서는 동일한 말뭉치에 대해 여러 토픽 모델링 기법을 적용해보면서\n",
        "각 토픽 모델의 특징과 활용 가능성에 대해 체험해봅니다.\n"
      ],
      "metadata": {
        "id": "YeGT_Ordl9v0"
      }
    },
    {
      "cell_type": "code",
      "execution_count": null,
      "metadata": {
        "colab": {
          "base_uri": "https://localhost:8080/"
        },
        "id": "EltFfShXLRN6",
        "outputId": "b610391e-235f-48b8-a1c1-5e1fb38fee04"
      },
      "outputs": [
        {
          "output_type": "stream",
          "name": "stdout",
          "text": [
            "Collecting kiwipiepy\n",
            "  Downloading kiwipiepy-0.16.2-cp310-cp310-manylinux_2_17_x86_64.manylinux2014_x86_64.whl (2.8 MB)\n",
            "\u001b[2K     \u001b[90m━━━━━━━━━━━━━━━━━━━━━━━━━━━━━━━━━━━━━━━━\u001b[0m \u001b[32m2.8/2.8 MB\u001b[0m \u001b[31m9.2 MB/s\u001b[0m eta \u001b[36m0:00:00\u001b[0m\n",
            "\u001b[?25hCollecting tomotopy\n",
            "  Downloading tomotopy-0.12.7-cp310-cp310-manylinux_2_17_x86_64.manylinux2014_x86_64.whl (17.2 MB)\n",
            "\u001b[2K     \u001b[90m━━━━━━━━━━━━━━━━━━━━━━━━━━━━━━━━━━━━━━━━\u001b[0m \u001b[32m17.2/17.2 MB\u001b[0m \u001b[31m39.6 MB/s\u001b[0m eta \u001b[36m0:00:00\u001b[0m\n",
            "\u001b[?25hRequirement already satisfied: nltk in /usr/local/lib/python3.10/dist-packages (3.8.1)\n",
            "Requirement already satisfied: pandas in /usr/local/lib/python3.10/dist-packages (1.5.3)\n",
            "Collecting kiwipiepy-model~=0.16 (from kiwipiepy)\n",
            "  Downloading kiwipiepy_model-0.16.0.tar.gz (30.8 MB)\n",
            "\u001b[2K     \u001b[90m━━━━━━━━━━━━━━━━━━━━━━━━━━━━━━━━━━━━━━━━\u001b[0m \u001b[32m30.8/30.8 MB\u001b[0m \u001b[31m34.8 MB/s\u001b[0m eta \u001b[36m0:00:00\u001b[0m\n",
            "\u001b[?25h  Preparing metadata (setup.py) ... \u001b[?25l\u001b[?25hdone\n",
            "Requirement already satisfied: numpy in /usr/local/lib/python3.10/dist-packages (from kiwipiepy) (1.23.5)\n",
            "Requirement already satisfied: tqdm in /usr/local/lib/python3.10/dist-packages (from kiwipiepy) (4.66.1)\n",
            "Requirement already satisfied: click in /usr/local/lib/python3.10/dist-packages (from nltk) (8.1.7)\n",
            "Requirement already satisfied: joblib in /usr/local/lib/python3.10/dist-packages (from nltk) (1.3.2)\n",
            "Requirement already satisfied: regex>=2021.8.3 in /usr/local/lib/python3.10/dist-packages (from nltk) (2023.6.3)\n",
            "Requirement already satisfied: python-dateutil>=2.8.1 in /usr/local/lib/python3.10/dist-packages (from pandas) (2.8.2)\n",
            "Requirement already satisfied: pytz>=2020.1 in /usr/local/lib/python3.10/dist-packages (from pandas) (2023.3.post1)\n",
            "Requirement already satisfied: six>=1.5 in /usr/local/lib/python3.10/dist-packages (from python-dateutil>=2.8.1->pandas) (1.16.0)\n",
            "Building wheels for collected packages: kiwipiepy-model\n",
            "  Building wheel for kiwipiepy-model (setup.py) ... \u001b[?25l\u001b[?25hdone\n",
            "  Created wheel for kiwipiepy-model: filename=kiwipiepy_model-0.16.0-py3-none-any.whl size=30813256 sha256=f54006495224805580d844f8f940a25832c0e55001d772870ddf71df217b3aa2\n",
            "  Stored in directory: /root/.cache/pip/wheels/6b/03/2b/ac2c97cc65ebd9df3516f4b900adc2f0a744df8d1375b2e2ef\n",
            "Successfully built kiwipiepy-model\n",
            "Installing collected packages: kiwipiepy-model, tomotopy, kiwipiepy\n",
            "Successfully installed kiwipiepy-0.16.2 kiwipiepy-model-0.16.0 tomotopy-0.12.7\n"
          ]
        }
      ],
      "source": [
        "# 실습에 사용되는 패키지들을 설치합니다.\n",
        "!pip install kiwipiepy tomotopy nltk pandas"
      ]
    },
    {
      "cell_type": "code",
      "source": [
        "# 실습에 사용할 패키지들을 로드합니다.\n",
        "import kiwipiepy\n",
        "import tomotopy as tp\n",
        "from tqdm import tqdm\n",
        "import matplotlib.pyplot as plt\n",
        "import numpy as np\n",
        "import pandas as pd"
      ],
      "metadata": {
        "id": "-6G8v14M2M4X"
      },
      "execution_count": null,
      "outputs": []
    },
    {
      "cell_type": "code",
      "source": [
        "# Kiwi는 한국어 형태로 분석에 쓰입니다.\n",
        "kiwi = kiwipiepy.Kiwi(num_workers=2)"
      ],
      "metadata": {
        "id": "FRgJQiAN2Up1"
      },
      "execution_count": null,
      "outputs": []
    },
    {
      "cell_type": "code",
      "source": [
        "# 구글 드라이브에서 naver_shopping.txt를 가져옵니다.\n",
        "# 혹은 https://drive.google.com/file/d/1UkmkPIMGMj7SUWb_uqhLeKepqwnRls3J/view?usp=drive_link 에서 파일을 다운받은뒤\n",
        "# 직접 업로드하는 방법도 가능합니다.\n",
        "FILEID = \"1UkmkPIMGMj7SUWb_uqhLeKepqwnRls3J\"\n",
        "FILENAME = \"naver_shopping.txt\"\n",
        "\n",
        "!wget --load-cookies ~/cookies.txt \"https://docs.google.com/uc?export=download&confirm=$(wget --quiet --save-cookies ~/cookies.txt --keep-session-cookies --no-check-certificate 'https://docs.google.com/uc?export=download&id={FILEID}' -O- | sed -rn 's/.*confirm=([0-9A-Za-z_]+).*/\\1\\n/p')&id={FILEID}\" -O {FILENAME} && rm -rf ~/cookies.txt"
      ],
      "metadata": {
        "colab": {
          "base_uri": "https://localhost:8080/"
        },
        "id": "quDcIR0kq0hX",
        "outputId": "43399186-9b4e-4915-9308-fda997a5af86"
      },
      "execution_count": null,
      "outputs": [
        {
          "output_type": "stream",
          "name": "stdout",
          "text": [
            "--2024-01-14 16:01:22--  https://docs.google.com/uc?export=download&confirm=&id=1UkmkPIMGMj7SUWb_uqhLeKepqwnRls3J\n",
            "Resolving docs.google.com (docs.google.com)... 173.194.195.100, 173.194.195.101, 173.194.195.113, ...\n",
            "Connecting to docs.google.com (docs.google.com)|173.194.195.100|:443... connected.\n",
            "HTTP request sent, awaiting response... 303 See Other\n",
            "Location: https://drive.usercontent.google.com/download?id=1UkmkPIMGMj7SUWb_uqhLeKepqwnRls3J&export=download [following]\n",
            "--2024-01-14 16:01:22--  https://drive.usercontent.google.com/download?id=1UkmkPIMGMj7SUWb_uqhLeKepqwnRls3J&export=download\n",
            "Resolving drive.usercontent.google.com (drive.usercontent.google.com)... 172.217.214.132, 2607:f8b0:4001:c05::84\n",
            "Connecting to drive.usercontent.google.com (drive.usercontent.google.com)|172.217.214.132|:443... connected.\n",
            "HTTP request sent, awaiting response... 200 OK\n",
            "Length: 20623547 (20M) [application/octet-stream]\n",
            "Saving to: ‘naver_shopping.txt’\n",
            "\n",
            "naver_shopping.txt  100%[===================>]  19.67M  69.6MB/s    in 0.3s    \n",
            "\n",
            "2024-01-14 16:01:23 (69.6 MB/s) - ‘naver_shopping.txt’ saved [20623547/20623547]\n",
            "\n"
          ]
        }
      ]
    },
    {
      "cell_type": "code",
      "source": [
        "# naver_shopping.txt 에서 문서들을 읽어옵니다.\n",
        "docs = [line.split('\\t', 1) for line in open('naver_shopping.txt', encoding='utf-8')]\n",
        "docs = [(int(score), sent) for score, sent in docs]"
      ],
      "metadata": {
        "id": "Xl93u_zQ27-d"
      },
      "execution_count": null,
      "outputs": []
    },
    {
      "cell_type": "code",
      "source": [
        "# 읽어온 문서 10개를 출력해봅니다.\n",
        "docs[:10]"
      ],
      "metadata": {
        "colab": {
          "base_uri": "https://localhost:8080/"
        },
        "id": "AvXX_1qM3MSN",
        "outputId": "d3eb5a2c-79bc-4f2e-d529-87041a9b83cb"
      },
      "execution_count": null,
      "outputs": [
        {
          "output_type": "execute_result",
          "data": {
            "text/plain": [
              "[(5, '배공빠르고 굿\\n'),\n",
              " (2, '택배가 엉망이네용 저희집 밑에층에 말도없이 놔두고가고\\n'),\n",
              " (5, '아주좋아요 바지 정말 좋아서2개 더 구매했어요 이가격에 대박입니다. 바느질이 조금 엉성하긴 하지만 편하고 가성비 최고예요.\\n'),\n",
              " (2,\n",
              "  '선물용으로 빨리 받아서 전달했어야 하는 상품이었는데 머그컵만 와서 당황했습니다. 전화했더니 바로주신다했지만 배송도 누락되어있었네요.. 확인안하고 바로 선물했으면 큰일날뻔했네요..이렇게 배송이 오래걸렸으면 사는거 다시 생각했을거같아요 아쉽네요..\\n'),\n",
              " (5, '민트색상 예뻐요. 옆 손잡이는 거는 용도로도 사용되네요 ㅎㅎ\\n'),\n",
              " (2, '비추합니다 계란 뒤집을 때 완전 불편해요 ㅠㅠ 코팅도 묻어나고 보기엔 예쁘고 실용적으로 보였는데 생각보다 진짜 별로입니다.\\n'),\n",
              " (1,\n",
              "  '주문을 11월6에 시켰는데 11월16일에 배송이 왔네요 ㅎㅎㅎ 여기 회사측과는 전화도 안되고 아무런 연락을 받을수가 없으니 답답하신 분들은 다른곳에서 사시는거 추천드립니다\\n'),\n",
              " (2, '넉넉한 길이로 주문했는데도 안 맞네요 별로예요\\n'),\n",
              " (2, '보폴이 계속 때처럼 나오다가 지금은 안나네요~\\n'),\n",
              " (2,\n",
              "  '110인데 전문속옷브랜드 위생팬티105보다 작은듯해요. 불편해요. 밴딩부분이 다 신축성없는 일반실로 되어있어 빅사이즈임에도 빅사이즈같지않아요. 입고벗을때 편하게 밴딩부분이 늘어나고 입었을때도 밴딩이 잡아주어야하는데 말이죠.\\n')]"
            ]
          },
          "metadata": {},
          "execution_count": 6
        }
      ]
    },
    {
      "cell_type": "code",
      "source": [
        "# Kiwi 형태소 분석기 기반의 토크나이저입니다.\n",
        "class KoreanTokenizer:\n",
        "    def __init__(self, kiwi, allowed_tags:list = None, banned_tags:list = None, stopwords:list = None):\n",
        "        self.kiwi = kiwi\n",
        "        assert allowed_tags is None or banned_tags is None, 'allowed_tags and banned_tags cannot be used at the same time.'\n",
        "        self.allowed_tags = set(allowed_tags) if allowed_tags is not None else None\n",
        "        self.banned_tags = set(banned_tags) if banned_tags is not None else None\n",
        "        self.stopwords = set(stopwords or [])\n",
        "\n",
        "    def __call__(self, texts):\n",
        "        for tokens in self.kiwi.tokenize(text for text, _ in texts):\n",
        "            if self.allowed_tags is not None:\n",
        "                tokens = [(token.tagged_form, token.start, token.len) for token in tokens if token.tag in self.allowed_tags and token.tagged_form not in self.stopwords]\n",
        "            elif self.banned_tags is not None:\n",
        "                tokens = [(token.tagged_form, token.start, token.len) for token in tokens if token.tag not in self.banned_tags and token.tagged_form not in self.stopwords]\n",
        "            else:\n",
        "                tokens = [(token.tagged_form, token.start, token.len) for token in tokens if token.tagged_form not in self.stopwords]\n",
        "            yield tokens"
      ],
      "metadata": {
        "id": "Acg_Ovw_rXZ0"
      },
      "execution_count": null,
      "outputs": []
    },
    {
      "cell_type": "code",
      "source": [
        "# 형태소 분석기의 품사 태그에 관해서는\n",
        "# https://github.com/bab2min/kiwipiepy?tab=readme-ov-file#%ED%92%88%EC%82%AC-%ED%83%9C%EA%B7%B8\n",
        "# 를 참조해주세요.\n",
        "tokenizer = KoreanTokenizer(\n",
        "    kiwi,\n",
        "    banned_tags=['EC', 'EF', 'ETN', 'EP', 'ETM',\n",
        "                 'SF', 'SP', 'SS', 'SSO', 'SSC', 'SE', 'SO', 'SW', 'SB',\n",
        "                 'Z_CODA',\n",
        "                 'JKS', 'JKC', 'JKO', 'JKG', 'JC', 'JKB', 'JKV', 'JKV', 'JKQ', 'JX',\n",
        "                 'XSN', 'XSV', 'XSA',\n",
        "                 'VCP', 'VCN', 'VX'],\n",
        "    stopwords=['하/VV', '되/VV']\n",
        ")\n",
        "# 형태소 분석기에 사용자 정의 단어를 추가하는 것이 가능합니다.\n",
        "# Kiwi 사전에 없는 신조어 대박을 NNP로 등록하면 분석시에 '대박'이 잘못 쪼개지지 않고 온전하게 나옵니다.\n",
        "kiwi.add_user_word('대박', 'NNP')"
      ],
      "metadata": {
        "id": "AeqoIeq27dhB",
        "colab": {
          "base_uri": "https://localhost:8080/"
        },
        "outputId": "5656cd84-3973-40dd-f774-3c6eef56d4cb"
      },
      "execution_count": null,
      "outputs": [
        {
          "output_type": "execute_result",
          "data": {
            "text/plain": [
              "True"
            ]
          },
          "metadata": {},
          "execution_count": 8
        }
      ]
    },
    {
      "cell_type": "code",
      "source": [
        "# 토크나이저의 생성 결과 10개를 샘플로 출력합니다.\n",
        "tokenized_samples = list(tokenizer((content, None) for score, content in tqdm(docs[:10])))"
      ],
      "metadata": {
        "colab": {
          "base_uri": "https://localhost:8080/"
        },
        "id": "MVpCYmfG3u0t",
        "outputId": "a1391994-1c57-4209-c0bb-876b83935678"
      },
      "execution_count": null,
      "outputs": [
        {
          "output_type": "stream",
          "name": "stderr",
          "text": [
            "100%|██████████| 10/10 [00:00<00:00, 30.73it/s]\n"
          ]
        }
      ]
    },
    {
      "cell_type": "code",
      "source": [
        "tokenized_samples[:10]"
      ],
      "metadata": {
        "colab": {
          "base_uri": "https://localhost:8080/"
        },
        "id": "WAsVMnVc527S",
        "outputId": "137ac8f4-4f06-4f97-b20c-e680ebd7f6b3"
      },
      "execution_count": null,
      "outputs": [
        {
          "output_type": "execute_result",
          "data": {
            "text/plain": [
              "[[('배/NNP', 0, 1), ('공/NNG', 1, 1), ('빠르/VA', 2, 2), ('굿/NNG', 6, 1)],\n",
              " [('택배/NNG', 0, 2),\n",
              "  ('엉망/NNG', 4, 2),\n",
              "  ('저희/NP', 10, 2),\n",
              "  ('집/NNG', 12, 1),\n",
              "  ('밑/NNG', 14, 1),\n",
              "  ('층/NNG', 16, 1),\n",
              "  ('말/NNG', 19, 1),\n",
              "  ('없이/MAG', 21, 2),\n",
              "  ('놔두/VV', 24, 2),\n",
              "  ('가/VV', 27, 1)],\n",
              " [('아주/MAG', 0, 2),\n",
              "  ('좋/VA', 2, 1),\n",
              "  ('바지/NNG', 6, 2),\n",
              "  ('정말/MAG', 9, 2),\n",
              "  ('좋/VA', 12, 1),\n",
              "  ('2/SN', 15, 1),\n",
              "  ('개/NNB', 16, 1),\n",
              "  ('더/MAG', 18, 1),\n",
              "  ('구매/NNG', 20, 2),\n",
              "  ('이/MM', 26, 1),\n",
              "  ('가격/NNG', 27, 2),\n",
              "  ('대박/NNP', 31, 2),\n",
              "  ('바느질/NNG', 38, 3),\n",
              "  ('조금/MAG', 43, 2),\n",
              "  ('엉성/XR', 46, 2),\n",
              "  ('편하/VA', 55, 2),\n",
              "  ('가성비/NNG', 59, 3),\n",
              "  ('최고/NNG', 63, 2)],\n",
              " [('선물/NNG', 0, 2),\n",
              "  ('빨리/MAG', 6, 2),\n",
              "  ('받/VV-R', 9, 1),\n",
              "  ('전달/NNG', 13, 2),\n",
              "  ('상품/NNG', 22, 2),\n",
              "  ('머/IC', 29, 1),\n",
              "  ('그/MM', 30, 1),\n",
              "  ('컵/NNG', 31, 1),\n",
              "  ('오/VV', 34, 1),\n",
              "  ('당황/NNG', 37, 2),\n",
              "  ('전화/NNG', 45, 2),\n",
              "  ('바로/MAG', 51, 2),\n",
              "  ('주/VV', 53, 1),\n",
              "  ('배송/NNG', 60, 2),\n",
              "  ('누락/NNG', 64, 2),\n",
              "  ('확인/NNG', 75, 2),\n",
              "  ('안/MAG', 77, 1),\n",
              "  ('바로/MAG', 81, 2),\n",
              "  ('선물/NNG', 84, 2),\n",
              "  ('큰일/NNG', 90, 2),\n",
              "  ('나/VV', 92, 1),\n",
              "  ('뻔/NNB', 93, 1),\n",
              "  ('이렇/VA', 99, 2),\n",
              "  ('배송/NNG', 103, 2),\n",
              "  ('오래/MAG', 107, 2),\n",
              "  ('걸리/VV', 109, 2),\n",
              "  ('살/VV', 114, 1),\n",
              "  ('거/NNB', 116, 1),\n",
              "  ('다시/MAG', 118, 2),\n",
              "  ('생각/NNG', 121, 2),\n",
              "  ('거/NNB', 125, 1),\n",
              "  ('같/VA', 126, 1),\n",
              "  ('아/IC', 130, 1),\n",
              "  ('쉽/VA-I', 131, 1)],\n",
              " [('민트/NNG', 0, 2),\n",
              "  ('색상/NNG', 2, 2),\n",
              "  ('예쁘/VA', 5, 2),\n",
              "  ('옆/NNG', 10, 1),\n",
              "  ('손잡이/NNG', 12, 3),\n",
              "  ('걸/VV', 17, 1),\n",
              "  ('용도/NNG', 20, 2),\n",
              "  ('사용/NNG', 25, 2)],\n",
              " [('비/XPN', 0, 1),\n",
              "  ('추하/VA', 1, 2),\n",
              "  ('계란/NNG', 6, 2),\n",
              "  ('뒤집/VV-R', 9, 2),\n",
              "  ('때/NNG', 13, 1),\n",
              "  ('완전/NNG', 15, 2),\n",
              "  ('불편/NNG', 18, 2),\n",
              "  ('코팅/NNG', 26, 2),\n",
              "  ('묻어나/VV', 30, 3),\n",
              "  ('보/VV', 35, 1),\n",
              "  ('예쁘/VA', 39, 2),\n",
              "  ('실용/NNG', 43, 2),\n",
              "  ('보이/VV', 49, 2),\n",
              "  ('생각/NNG', 54, 2),\n",
              "  ('진짜/MAG', 59, 2),\n",
              "  ('별로/MAG', 62, 2)],\n",
              " [('주문/NNG', 0, 2),\n",
              "  ('11/SN', 4, 2),\n",
              "  ('월/NNB', 6, 1),\n",
              "  ('6/SN', 7, 1),\n",
              "  ('시키/VV', 10, 2),\n",
              "  ('11/SN', 15, 2),\n",
              "  ('월/NNB', 17, 1),\n",
              "  ('16/SN', 18, 2),\n",
              "  ('일/NNB', 20, 1),\n",
              "  ('배송/NNG', 23, 2),\n",
              "  ('오/VV', 27, 1),\n",
              "  ('여기/NP', 35, 2),\n",
              "  ('회사/NNG', 38, 2),\n",
              "  ('측/NNB', 40, 1),\n",
              "  ('전화/NNG', 44, 2),\n",
              "  ('안/MAG', 48, 1),\n",
              "  ('아무런/MM', 52, 3),\n",
              "  ('연락/NNG', 56, 2),\n",
              "  ('받/VV-R', 60, 1),\n",
              "  ('수/NNB', 62, 1),\n",
              "  ('없/VA', 65, 1),\n",
              "  ('답답/XR', 69, 2),\n",
              "  ('분/NNB', 74, 1),\n",
              "  ('다른/MM', 78, 2),\n",
              "  ('곳/NNG', 80, 1),\n",
              "  ('살/VV', 84, 1),\n",
              "  ('거/NNB', 87, 1),\n",
              "  ('추천/NNG', 89, 2),\n",
              "  ('드리/VV', 91, 2)],\n",
              " [('넉넉/XR', 0, 2),\n",
              "  ('길이/NNG', 4, 2),\n",
              "  ('주문/NNG', 8, 2),\n",
              "  ('안/MAG', 15, 1),\n",
              "  ('맞/VV', 17, 1),\n",
              "  ('별로/MAG', 21, 2)],\n",
              " [('보/NNG', 0, 1),\n",
              "  ('폴/NNG', 1, 1),\n",
              "  ('계속/MAG', 4, 2),\n",
              "  ('때/NNG', 7, 1),\n",
              "  ('나오/VV', 11, 2),\n",
              "  ('지금/NNG', 16, 2),\n",
              "  ('안/MAG', 20, 1),\n",
              "  ('나/VV', 21, 1)],\n",
              " [('110/SN', 0, 3),\n",
              "  ('전문/NNG', 6, 2),\n",
              "  ('속옷/NNG', 8, 2),\n",
              "  ('브랜드/NNG', 10, 3),\n",
              "  ('위생/NNG', 14, 2),\n",
              "  ('팬티/NNG', 16, 2),\n",
              "  ('105/SN', 18, 3),\n",
              "  ('작/VA', 24, 1),\n",
              "  ('듯/NNB', 26, 1),\n",
              "  ('불편/NNG', 31, 2),\n",
              "  ('밴딩/NNG', 37, 2),\n",
              "  ('부분/NNG', 39, 2),\n",
              "  ('다/MAG', 43, 1),\n",
              "  ('신축/NNG', 45, 2),\n",
              "  ('없/VA', 48, 1),\n",
              "  ('일반/NNG', 51, 2),\n",
              "  ('실/NNG', 53, 1),\n",
              "  ('빅/NNG', 61, 1),\n",
              "  ('사이즈/NNG', 62, 3),\n",
              "  ('빅/NNG', 69, 1),\n",
              "  ('사이즈/NNG', 70, 3),\n",
              "  ('같/VA', 73, 1),\n",
              "  ('입/VV-R', 80, 1),\n",
              "  ('벗/VV-R', 82, 1),\n",
              "  ('때/NNG', 84, 1),\n",
              "  ('편하/VA', 86, 2),\n",
              "  ('배/VV', 90, 1),\n",
              "  ('딩/MAG', 91, 1),\n",
              "  ('부분/NNG', 92, 2),\n",
              "  ('늘어나/VV', 96, 3),\n",
              "  ('입/VV-R', 101, 1),\n",
              "  ('때/NNG', 104, 1),\n",
              "  ('밴딩이/NNG', 107, 3),\n",
              "  ('잡/VV-R', 111, 1),\n",
              "  ('말/NNG', 120, 1)]]"
            ]
          },
          "metadata": {},
          "execution_count": 10
        }
      ]
    },
    {
      "cell_type": "code",
      "source": [
        "# 토픽 모델링에 사용할 문서들 전체를 Corpus로 묶습니다.\n",
        "corpus = tp.utils.Corpus(tokenizer=tokenizer)\n",
        "# 실습 시간 관계상 10000개 문서만 사용합니다.\n",
        "# 문서에 본문과 평점이 함께 들어가 있으므로 평점은 numeric_metadata로 등록합니다.\n",
        "corpus.process((content, None, {'numeric_metadata': [score]}) for score, content in tqdm(docs[:10000]))"
      ],
      "metadata": {
        "colab": {
          "base_uri": "https://localhost:8080/"
        },
        "id": "XX-ybVaIsKGK",
        "outputId": "9706110b-4321-45bb-b9d4-213c646eb391"
      },
      "execution_count": null,
      "outputs": [
        {
          "output_type": "stream",
          "name": "stderr",
          "text": [
            "100%|██████████| 10000/10000 [00:08<00:00, 1158.77it/s]\n"
          ]
        },
        {
          "output_type": "execute_result",
          "data": {
            "text/plain": [
              "10000"
            ]
          },
          "metadata": {},
          "execution_count": 11
        }
      ]
    },
    {
      "cell_type": "markdown",
      "source": [
        "# LDA 모델\n",
        "가장 기본적인 토픽 모델.\n",
        "대량의 말뭉치(문서의 집합으로 각 문서는 단어들의 조합으로 구성되어 있음)를 문서-토픽(Document-Topic), 토픽-단어(Topic-Term) 간의 관계로 분해하는 역할을 수행."
      ],
      "metadata": {
        "id": "_dM9QV9aAQFj"
      }
    },
    {
      "cell_type": "code",
      "source": [
        "# LDA 토픽 모델을 생성합니다.\n",
        "# k: 주제의 개수. 연구자가 적절한 수치로 선택해야 합니다. 이에 대해서는 별도로 더 설명할 예정입니다.\n",
        "# min_df: 이 숫자보다 적은 개수의 문서에만 등장하는 어휘는 학습에서 배제시킵니다.\n",
        "#         극히 소수의 문서에서만 등장하는 어휘는 최종 결과에 노이즈로만 작용하므로 배제하는게 좋습니다.\n",
        "# tw: 용어 가중치 부여 방법. tp.TermWeight.ONE, tp.TermWeight.IDF, tp.TermWeight.PMI 중 하나를 선택할 수 있습니다.\n",
        "#     생략할 경우 tp.TermWeight.ONE이 기본값으로 선택됩니다.\n",
        "model = tp.LDAModel(k=20, min_df=5, tw=tp.TermWeight.PMI, corpus=corpus)"
      ],
      "metadata": {
        "id": "YMvDF9wy6AV6"
      },
      "execution_count": null,
      "outputs": []
    },
    {
      "cell_type": "code",
      "source": [
        "model.train(0)\n",
        "model.summary(topic_word_top_n=10)"
      ],
      "metadata": {
        "colab": {
          "base_uri": "https://localhost:8080/"
        },
        "id": "9-7nMbAn6fHR",
        "outputId": "1bdd99df-bead-4abe-de8e-acfd9d82dc99"
      },
      "execution_count": null,
      "outputs": [
        {
          "output_type": "stream",
          "name": "stdout",
          "text": [
            "<Basic Info>\n",
            "| LDAModel (current version: 0.12.7)\n",
            "| 10000 docs, 98008 words\n",
            "| Total Vocabs: 9558, Used Vocabs: 2330\n",
            "| Entropy of words: 6.44291\n",
            "| Entropy of term-weighted words: 7.05069\n",
            "| Removed Vocabs: <NA>\n",
            "|\n",
            "<Training Info>\n",
            "| Iterations: 0, Burn-in steps: 0\n",
            "| Optimization Interval: 10\n",
            "| Log-likelihood per word: -9.53429\n",
            "|\n",
            "<Initial Parameters>\n",
            "| tw: TermWeight.PMI\n",
            "| min_cf: 0 (minimum collection frequency of words)\n",
            "| min_df: 5 (minimum document frequency of words)\n",
            "| rm_top: 0 (the number of top words to be removed)\n",
            "| k: 20 (the number of topics between 1 ~ 32767)\n",
            "| alpha: [0.1] (hyperparameter of Dirichlet distribution for document-topic, given as a single `float` in case of symmetric prior and as a list with length `k` of `float` in case of asymmetric prior.)\n",
            "| eta: 0.01 (hyperparameter of Dirichlet distribution for topic-word)\n",
            "| seed: 144471222 (random seed)\n",
            "| trained in version 0.12.7\n",
            "|\n",
            "<Parameters>\n",
            "| alpha (Dirichlet prior on the per-document topic distributions)\n",
            "|  [0.1 0.1 0.1 0.1 0.1 0.1 0.1 0.1 0.1 0.1 0.1 0.1 0.1 0.1 0.1 0.1 0.1 0.1\n",
            "|   0.1 0.1]\n",
            "| eta (Dirichlet prior on the per-topic word distribution)\n",
            "|  0.01\n",
            "|\n",
            "<Topics>\n",
            "| #0 (4840) : 좋/VA 잘/MAG 쓰/VV 거/NNB 안/MAG 구매/NNG 재/XPN 배송/NNG 너무/MAG 오/VV\n",
            "| #1 (4870) : 좋/VA 구매/NNG 잘/MAG 쓰/VV 안/MAG 배송/NNG 같/VA 사/VV 너무/MAG 오/VV\n",
            "| #2 (4968) : 좋/VA 구매/NNG 잘/MAG 쓰/VV 거/NNB 배송/NNG 너무/MAG 사/VV 안/MAG 먹/VV\n",
            "| #3 (4942) : 좋/VA 잘/MAG 구매/NNG 너무/MAG 쓰/VV 거/NNB 재/XPN 배송/NNG 먹/VV 안/MAG\n",
            "| #4 (4864) : 좋/VA 쓰/VV 잘/MAG 구매/NNG 너무/MAG 안/MAG 거/NNB 배송/NNG 사/VV 같/VA\n",
            "| #5 (4740) : 좋/VA 잘/MAG 너무/MAG 쓰/VV 구매/NNG 배송/NNG 거/NNB 같/VA 재/XPN 먹/VV\n",
            "| #6 (4936) : 좋/VA 구매/NNG 쓰/VV 잘/MAG 배송/NNG 너무/MAG 안/MAG 거/NNB 먹/VV 재/XPN\n",
            "| #7 (4926) : 좋/VA 잘/MAG 쓰/VV 너무/MAG 배송/NNG 안/MAG 구매/NNG 것/NNB 재/XPN 거/NNB\n",
            "| #8 (4911) : 좋/VA 배송/NNG 안/MAG 잘/MAG 구매/NNG 쓰/VV 너무/MAG 재/XPN 거/NNB 사/VV\n",
            "| #9 (4971) : 좋/VA 잘/MAG 배송/NNG 구매/NNG 너무/MAG 쓰/VV 안/MAG 것/NNB 거/NNB 없/VA\n",
            "| #10 (4948) : 좋/VA 잘/MAG 구매/NNG 너무/MAG 배송/NNG 쓰/VV 거/NNB 것/NNB 안/MAG 재/XPN\n",
            "| #11 (4897) : 좋/VA 구매/NNG 너무/MAG 잘/MAG 배송/NNG 먹/VV 것/NNB 쓰/VV 거/NNB 사/VV\n",
            "| #12 (4982) : 좋/VA 쓰/VV 잘/MAG 배송/NNG 구매/NNG 거/NNB 같/VA 너무/MAG 재/XPN 먹/VV\n",
            "| #13 (4928) : 좋/VA 잘/MAG 배송/NNG 구매/NNG 안/MAG 쓰/VV 것/NNB 너무/MAG 거/NNB 사/VV\n",
            "| #14 (4956) : 좋/VA 잘/MAG 거/NNB 구매/NNG 너무/MAG 안/MAG 배송/NNG 것/NNB 같/VA 쓰/VV\n",
            "| #15 (4750) : 좋/VA 구매/NNG 너무/MAG 잘/MAG 거/NNB 배송/NNG 쓰/VV 같/VA 먹/VV 안/MAG\n",
            "| #16 (4785) : 좋/VA 잘/MAG 쓰/VV 배송/NNG 거/NNB 구매/NNG 안/MAG 너무/MAG 먹/VV 같/VA\n",
            "| #17 (4968) : 좋/VA 잘/MAG 너무/MAG 먹/VV 거/NNB 쓰/VV 안/MAG 같/VA 사/VV 구매/NNG\n",
            "| #18 (4824) : 좋/VA 구매/NNG 안/MAG 쓰/VV 잘/MAG 먹/VV 배송/NNG 사/VV 너무/MAG 없/VA\n",
            "| #19 (5002) : 좋/VA 잘/MAG 구매/NNG 거/NNB 너무/MAG 쓰/VV 먹/VV 사용/NNG 배송/NNG 안/MAG\n",
            "|\n",
            "\n"
          ]
        }
      ]
    },
    {
      "cell_type": "code",
      "source": [
        "model.train(1000, workers=2, show_progress=True)"
      ],
      "metadata": {
        "colab": {
          "base_uri": "https://localhost:8080/"
        },
        "id": "gSMjHVGa6shZ",
        "outputId": "1e1762e3-7c79-4195-a550-e52ffbc78dc7"
      },
      "execution_count": null,
      "outputs": [
        {
          "output_type": "stream",
          "name": "stderr",
          "text": [
            "Iteration: 100%|██████████| 1000/1000 [00:13<00:00, 73.00it/s, LLPW: -6.518131]\n"
          ]
        }
      ]
    },
    {
      "cell_type": "code",
      "source": [
        "model.summary(topic_word_top_n=10)"
      ],
      "metadata": {
        "colab": {
          "base_uri": "https://localhost:8080/"
        },
        "id": "NJRZxVdR9zVW",
        "outputId": "570b1255-9865-4ae3-d22c-1620063a706c"
      },
      "execution_count": null,
      "outputs": [
        {
          "output_type": "stream",
          "name": "stdout",
          "text": [
            "<Basic Info>\n",
            "| LDAModel (current version: 0.12.7)\n",
            "| 10000 docs, 98008 words\n",
            "| Total Vocabs: 9558, Used Vocabs: 2330\n",
            "| Entropy of words: 6.44291\n",
            "| Entropy of term-weighted words: 7.05069\n",
            "| Removed Vocabs: <NA>\n",
            "|\n",
            "<Training Info>\n",
            "| Iterations: 1000, Burn-in steps: 0\n",
            "| Optimization Interval: 10\n",
            "| Log-likelihood per word: -6.51512\n",
            "|\n",
            "<Initial Parameters>\n",
            "| tw: TermWeight.PMI\n",
            "| min_cf: 0 (minimum collection frequency of words)\n",
            "| min_df: 5 (minimum document frequency of words)\n",
            "| rm_top: 0 (the number of top words to be removed)\n",
            "| k: 20 (the number of topics between 1 ~ 32767)\n",
            "| alpha: [0.1] (hyperparameter of Dirichlet distribution for document-topic, given as a single `float` in case of symmetric prior and as a list with length `k` of `float` in case of asymmetric prior.)\n",
            "| eta: 0.01 (hyperparameter of Dirichlet distribution for topic-word)\n",
            "| seed: 144471222 (random seed)\n",
            "| trained in version 0.12.7\n",
            "|\n",
            "<Parameters>\n",
            "| alpha (Dirichlet prior on the per-document topic distributions)\n",
            "|  [0.04035654 0.00860404 0.01078034 0.01567954 0.01474394 0.01157349\n",
            "|   0.0097789  0.02152169 0.00263202 0.00336056 0.01047192 0.00834628\n",
            "|   0.01157112 0.00642122 0.00882427 0.00741995 0.01153022 0.01728784\n",
            "|   0.00703071 0.00844026]\n",
            "| eta (Dirichlet prior on the per-topic word distribution)\n",
            "|  0.01\n",
            "|\n",
            "<Topics>\n",
            "| #0 (15842) : 구매/NNG 재/XPN 좋/VA 먹/VV 잘/MAG 쓰/VV 배송/NNG 사/VV 만족/NNG 빠르/VA\n",
            "| #1 (3762) : 안/MAG 쓰/VV 그냥/MAG 먼지/NNG 다/MAG 나/VV 솜/NNG 묻/VV-R 마감/NNG 다리/NNG\n",
            "| #2 (5140) : 안/MAG 없/VA 돈/NNG 왜/MAG 거/NNB 짜증/NNG 필름/NNG 사/VV 1/SN 실망/NNG\n",
            "| #3 (6131) : 좋/VA 이쁘/VA 들/VV 딱/MAG 사이즈/NNG 색/NNG 너무/MAG 예쁘/VA 디자인/NNG 생각/NNG\n",
            "| #4 (5327) : 좋/VA 배송/NNG 빠르/VA 가격/NNG 들/VV 잘/MAG 맘/NNG 너무/MAG 만족/NNG 선물/NNG\n",
            "| #5 (5192) : 먹/VV 맛있/VA 맛/NNG 잘/MAG 좋/VA 김치/NNG 고기/NNG 건강/NNG 많/VA 굽/VV-I\n",
            "| #6 (4301) : 배송/NNG 느리/VA 늦/VA 감사/NNG 받/VV-R 주/VV 빨리/MAG 제품/NNG 친절/NNG 연락/NNG\n",
            "| #7 (9585) : 작/VA 사이즈/NNG 거/NNB 너무/MAG 같/VA 입/VV-R 안/MAG 크/VA 좀/MAG 좋/VA\n",
            "| #8 (817) : 기한/NNG 유통/NNG 끈/NNG 보관/NNG 유통기한/NNP 냉동/NNG 길/VA 곰팡이/NNG 쉬/VV 눕/VV-I\n",
            "| #9 (806) : 뚜껑/NNG 월/NNB 개월/NNB 인식/NNG 7/SN 헐렁하/VA 점/NNB 안/MAG 6/SN 제조/NNG\n",
            "| #10 (4696) : 일/NNB 배송/NNG 받/VV-R 걸리/VV 1/SN 2/SN 시간/NNG 3/SN 주문/NNG 오/VV\n",
            "| #11 (2829) : 포장/NNG 배송/NNG 빠르/VA 오/VV 잘/MAG 받/VV-R 박스/NNG 감사/NNG 물건/NNG 좋/VA\n",
            "| #12 (4877) : 같/VA 것/NNB 너무/MAG 거/NNB 좋/VA 불편/NNG 생각/NNG 쓰/VV 안/MAG 잘/MAG\n",
            "| #13 (2281) : 박스/NNG 그냥/MAG 쓰/VV 나/VV 거/NNB 오/VV 티/NNG 상태/NNG 반품/NNG 귀찮/VA\n",
            "| #14 (3803) : 먹/VV 오/VV 맛/NNG 안/MAG 것/NNB 포장/NNG 다/MAG 너무/MAG 작/VA 구매/NNG\n",
            "| #15 (3055) : 피부/NNG 쓰/VV 잘/MAG 사용/NNG 저/NP 향/NNG 좋/VA 바르/VV 거/NNB 같/VA\n",
            "| #16 (5280) : 입/VV-R 신/VV 부분/NNG 좋/VA 불편/NNG 늘어나/VV 그냥/MAG 좀/MAG 안/MAG 듯/NNB\n",
            "| #17 (8688) : 개/NNB 안/MAG 그냥/MAG 오/VV 보내/VV 맞/VV 반품/NNG 거/NNB 부분/NNG 귀찮/VA\n",
            "| #18 (2573) : 냄새/NNG 아직/MAG 효과/NNG 잘/MAG 쓰/VV 좋/VA 안/MAG 마시/VV 모르/VV 심하/VA\n",
            "| #19 (3023) : 스럽/XSA-I 사이즈/NNG 가격/NNG 좋/VA 딱/MAG 너무/MAG 같/VA 쓰/VV 만족/NNG 작/VA\n",
            "|\n",
            "\n"
          ]
        }
      ]
    },
    {
      "cell_type": "code",
      "source": [
        "# Google Colab에서 Viewer를 실행시에는 다음의 print문에서 출력되는 주소로 접속해야 합니다.\n",
        "from google.colab.output import eval_js\n",
        "print(eval_js(\"google.colab.kernel.proxyPort(8000)\"))\n",
        "# 토픽 모델링 결과를 살펴볼 수 있는 뷰어를 8000포트에 띄웁니다.\n",
        "tp.viewer.open_viewer(model, port=8000)"
      ],
      "metadata": {
        "id": "z9uVcgfTsstL",
        "colab": {
          "base_uri": "https://localhost:8080/",
          "height": 575
        },
        "outputId": "8c7810d3-d444-4472-9b90-4c543ae4c937"
      },
      "execution_count": null,
      "outputs": [
        {
          "output_type": "stream",
          "name": "stdout",
          "text": [
            "https://tndmjso3mng-496ff2e9c6d22116-8000-colab.googleusercontent.com/\n",
            "Serving a topic model viewer at http://127.0.0.1:8000/\n"
          ]
        },
        {
          "output_type": "stream",
          "name": "stderr",
          "text": [
            "127.0.0.1 - - [14/Jan/2024 16:02:27] \"GET / HTTP/1.1\" 200 -\n",
            "127.0.0.1 - - [14/Jan/2024 16:02:28] code 404, message Not Found\n",
            "127.0.0.1 - - [14/Jan/2024 16:02:28] \"GET /favicon.ico HTTP/1.1\" 404 -\n",
            "127.0.0.1 - - [14/Jan/2024 16:02:30] \"GET /document HTTP/1.1\" 200 -\n",
            "127.0.0.1 - - [14/Jan/2024 16:02:31] code 404, message Not Found\n",
            "127.0.0.1 - - [14/Jan/2024 16:02:31] \"GET /favicon.ico HTTP/1.1\" 404 -\n",
            "127.0.0.1 - - [14/Jan/2024 16:02:32] \"GET /topic HTTP/1.1\" 200 -\n",
            "127.0.0.1 - - [14/Jan/2024 16:02:33] code 404, message Not Found\n",
            "127.0.0.1 - - [14/Jan/2024 16:02:33] \"GET /favicon.ico HTTP/1.1\" 404 -\n"
          ]
        },
        {
          "output_type": "error",
          "ename": "KeyboardInterrupt",
          "evalue": "",
          "traceback": [
            "\u001b[0;31m---------------------------------------------------------------------------\u001b[0m",
            "\u001b[0;31mKeyboardInterrupt\u001b[0m                         Traceback (most recent call last)",
            "\u001b[0;32m<ipython-input-16-816c736df60f>\u001b[0m in \u001b[0;36m<cell line: 5>\u001b[0;34m()\u001b[0m\n\u001b[1;32m      3\u001b[0m \u001b[0mprint\u001b[0m\u001b[0;34m(\u001b[0m\u001b[0meval_js\u001b[0m\u001b[0;34m(\u001b[0m\u001b[0;34m\"google.colab.kernel.proxyPort(8000)\"\u001b[0m\u001b[0;34m)\u001b[0m\u001b[0;34m)\u001b[0m\u001b[0;34m\u001b[0m\u001b[0;34m\u001b[0m\u001b[0m\n\u001b[1;32m      4\u001b[0m \u001b[0;31m# 토픽 모델링 결과를 살펴볼 수 있는 뷰어를 8000포트에 띄웁니다.\u001b[0m\u001b[0;34m\u001b[0m\u001b[0;34m\u001b[0m\u001b[0m\n\u001b[0;32m----> 5\u001b[0;31m \u001b[0mtp\u001b[0m\u001b[0;34m.\u001b[0m\u001b[0mviewer\u001b[0m\u001b[0;34m.\u001b[0m\u001b[0mopen_viewer\u001b[0m\u001b[0;34m(\u001b[0m\u001b[0mmodel\u001b[0m\u001b[0;34m,\u001b[0m \u001b[0mport\u001b[0m\u001b[0;34m=\u001b[0m\u001b[0;36m8000\u001b[0m\u001b[0;34m)\u001b[0m\u001b[0;34m\u001b[0m\u001b[0;34m\u001b[0m\u001b[0m\n\u001b[0m",
            "\u001b[0;32m/usr/local/lib/python3.10/dist-packages/tomotopy/viewer/viewer_server.py\u001b[0m in \u001b[0;36mopen_viewer\u001b[0;34m(model, host, port, title)\u001b[0m\n\u001b[1;32m    329\u001b[0m         \u001b[0mhttpd\u001b[0m\u001b[0;34m.\u001b[0m\u001b[0mfilter\u001b[0m \u001b[0;34m=\u001b[0m \u001b[0mDocumentFilter\u001b[0m\u001b[0;34m(\u001b[0m\u001b[0mmodel\u001b[0m\u001b[0;34m)\u001b[0m\u001b[0;34m\u001b[0m\u001b[0;34m\u001b[0m\u001b[0m\n\u001b[1;32m    330\u001b[0m         \u001b[0mprint\u001b[0m\u001b[0;34m(\u001b[0m\u001b[0;34mf'Serving a topic model viewer at http://{httpd.server_address[0]}:{httpd.server_address[1]}/'\u001b[0m\u001b[0;34m)\u001b[0m\u001b[0;34m\u001b[0m\u001b[0;34m\u001b[0m\u001b[0m\n\u001b[0;32m--> 331\u001b[0;31m         \u001b[0mhttpd\u001b[0m\u001b[0;34m.\u001b[0m\u001b[0mserve_forever\u001b[0m\u001b[0;34m(\u001b[0m\u001b[0;34m)\u001b[0m\u001b[0;34m\u001b[0m\u001b[0;34m\u001b[0m\u001b[0m\n\u001b[0m\u001b[1;32m    332\u001b[0m \u001b[0;34m\u001b[0m\u001b[0m\n",
            "\u001b[0;32m/usr/lib/python3.10/socketserver.py\u001b[0m in \u001b[0;36mserve_forever\u001b[0;34m(self, poll_interval)\u001b[0m\n\u001b[1;32m    230\u001b[0m \u001b[0;34m\u001b[0m\u001b[0m\n\u001b[1;32m    231\u001b[0m                 \u001b[0;32mwhile\u001b[0m \u001b[0;32mnot\u001b[0m \u001b[0mself\u001b[0m\u001b[0;34m.\u001b[0m\u001b[0m__shutdown_request\u001b[0m\u001b[0;34m:\u001b[0m\u001b[0;34m\u001b[0m\u001b[0;34m\u001b[0m\u001b[0m\n\u001b[0;32m--> 232\u001b[0;31m                     \u001b[0mready\u001b[0m \u001b[0;34m=\u001b[0m \u001b[0mselector\u001b[0m\u001b[0;34m.\u001b[0m\u001b[0mselect\u001b[0m\u001b[0;34m(\u001b[0m\u001b[0mpoll_interval\u001b[0m\u001b[0;34m)\u001b[0m\u001b[0;34m\u001b[0m\u001b[0;34m\u001b[0m\u001b[0m\n\u001b[0m\u001b[1;32m    233\u001b[0m                     \u001b[0;31m# bpo-35017: shutdown() called during select(), exit immediately.\u001b[0m\u001b[0;34m\u001b[0m\u001b[0;34m\u001b[0m\u001b[0m\n\u001b[1;32m    234\u001b[0m                     \u001b[0;32mif\u001b[0m \u001b[0mself\u001b[0m\u001b[0;34m.\u001b[0m\u001b[0m__shutdown_request\u001b[0m\u001b[0;34m:\u001b[0m\u001b[0;34m\u001b[0m\u001b[0;34m\u001b[0m\u001b[0m\n",
            "\u001b[0;32m/usr/lib/python3.10/selectors.py\u001b[0m in \u001b[0;36mselect\u001b[0;34m(self, timeout)\u001b[0m\n\u001b[1;32m    414\u001b[0m         \u001b[0mready\u001b[0m \u001b[0;34m=\u001b[0m \u001b[0;34m[\u001b[0m\u001b[0;34m]\u001b[0m\u001b[0;34m\u001b[0m\u001b[0;34m\u001b[0m\u001b[0m\n\u001b[1;32m    415\u001b[0m         \u001b[0;32mtry\u001b[0m\u001b[0;34m:\u001b[0m\u001b[0;34m\u001b[0m\u001b[0;34m\u001b[0m\u001b[0m\n\u001b[0;32m--> 416\u001b[0;31m             \u001b[0mfd_event_list\u001b[0m \u001b[0;34m=\u001b[0m \u001b[0mself\u001b[0m\u001b[0;34m.\u001b[0m\u001b[0m_selector\u001b[0m\u001b[0;34m.\u001b[0m\u001b[0mpoll\u001b[0m\u001b[0;34m(\u001b[0m\u001b[0mtimeout\u001b[0m\u001b[0;34m)\u001b[0m\u001b[0;34m\u001b[0m\u001b[0;34m\u001b[0m\u001b[0m\n\u001b[0m\u001b[1;32m    417\u001b[0m         \u001b[0;32mexcept\u001b[0m \u001b[0mInterruptedError\u001b[0m\u001b[0;34m:\u001b[0m\u001b[0;34m\u001b[0m\u001b[0;34m\u001b[0m\u001b[0m\n\u001b[1;32m    418\u001b[0m             \u001b[0;32mreturn\u001b[0m \u001b[0mready\u001b[0m\u001b[0;34m\u001b[0m\u001b[0;34m\u001b[0m\u001b[0m\n",
            "\u001b[0;31mKeyboardInterrupt\u001b[0m: "
          ]
        }
      ]
    },
    {
      "cell_type": "markdown",
      "source": [
        "# G-DMR 모델\n",
        "LDA와 거의 유사하지만, 각 문서에 연속형 혹은 범주형의 추가 메타데이터가 붙어 있는 경우를 고려한다(예를 들어 각 문서에 평점이나 작성 시간, 저자, 출판사 등과 같은 정보). G-DMR 모델은 문서-토픽, 토픽-단어 관계뿐만 아니라, 메타데이터-토픽 간의 관계까지 추출해내는 것이 가능."
      ],
      "metadata": {
        "id": "CHWq_8SCAU_r"
      }
    },
    {
      "cell_type": "code",
      "source": [
        "model = tp.GDMRModel(k=20, min_df=5, tw=tp.TermWeight.PMI, degrees=[2], corpus=corpus)"
      ],
      "metadata": {
        "id": "Lyps1UCnAW-a"
      },
      "execution_count": null,
      "outputs": []
    },
    {
      "cell_type": "code",
      "source": [
        "model.train(0)\n",
        "model.summary(topic_word_top_n=10)"
      ],
      "metadata": {
        "colab": {
          "base_uri": "https://localhost:8080/"
        },
        "id": "mT_PPoujA4Oi",
        "outputId": "83006fac-9b2f-46a1-9357-9c09e787a0b8"
      },
      "execution_count": null,
      "outputs": [
        {
          "output_type": "stream",
          "name": "stdout",
          "text": [
            "<Basic Info>\n",
            "| GDMRModel (current version: 0.12.7)\n",
            "| 10000 docs, 98008 words\n",
            "| Total Vocabs: 9558, Used Vocabs: 2330\n",
            "| Entropy of words: 6.44291\n",
            "| Entropy of term-weighted words: 7.05069\n",
            "| Removed Vocabs: <NA>\n",
            "| Numeric metadata distribution of docs\n",
            "|  #0: Range=1.0~5.0, Avg=3.2152, Stdev=1.6407\n",
            "|\n",
            "<Training Info>\n",
            "| Iterations: 0, Burn-in steps: 0\n",
            "| Optimization Interval: 10\n",
            "| Log-likelihood per word: -9.53556\n",
            "|\n",
            "<Initial Parameters>\n",
            "| tw: TermWeight.PMI\n",
            "| min_cf: 0 (minimum collection frequency of words)\n",
            "| min_df: 5 (minimum document frequency of words)\n",
            "| rm_top: 0 (the number of top words to be removed)\n",
            "| k: 20 (the number of topics between 1 ~ 32767)\n",
            "| degrees: [2] (a list of the degrees of Legendre polynomials for TDF(Topic Distribution Function))\n",
            "| alpha: [0.1] (exponential of mean of normal distribution for `lambdas`, given as a single `float` in case of symmetric prior and as a list with length `k` of `float` in case of asymmetric prior.)\n",
            "| eta: 0.01 (hyperparameter of Dirichlet distribution for topic - word)\n",
            "| sigma: 1.0 (standard deviation of normal distribution for non-constant terms of `lambdas`)\n",
            "| sigma0: 3.0 (standard deviation of normal distribution for constant terms of `lambdas`)\n",
            "| alpha_epsilon: 1e-10 (small smoothing value for preventing `exp(lambdas)` to be near zero)\n",
            "| decay: 0.0 (decay's exponent that causes the coefficient of the higher-order term of `lambdas` to become smaller)\n",
            "| trained in version 0.12.7\n",
            "|\n",
            "<Parameters>\n",
            "| lambda (feature vector per metadata of documents)\n",
            "|  [[[-2.3025851  0.         0.       ]]\n",
            "|  \n",
            "|   [[-2.3025851  0.         0.       ]]\n",
            "|  \n",
            "|   [[-2.3025851  0.         0.       ]]\n",
            "|  \n",
            "|   [[-2.3025851  0.         0.       ]]\n",
            "|  \n",
            "|   [[-2.3025851  0.         0.       ]]\n",
            "|  \n",
            "|   [[-2.3025851  0.         0.       ]]\n",
            "|  \n",
            "|   [[-2.3025851  0.         0.       ]]\n",
            "|  \n",
            "|   [[-2.3025851  0.         0.       ]]\n",
            "|  \n",
            "|   [[-2.3025851  0.         0.       ]]\n",
            "|  \n",
            "|   [[-2.3025851  0.         0.       ]]\n",
            "|  \n",
            "|   [[-2.3025851  0.         0.       ]]\n",
            "|  \n",
            "|   [[-2.3025851  0.         0.       ]]\n",
            "|  \n",
            "|   [[-2.3025851  0.         0.       ]]\n",
            "|  \n",
            "|   [[-2.3025851  0.         0.       ]]\n",
            "|  \n",
            "|   [[-2.3025851  0.         0.       ]]\n",
            "|  \n",
            "|   [[-2.3025851  0.         0.       ]]\n",
            "|  \n",
            "|   [[-2.3025851  0.         0.       ]]\n",
            "|  \n",
            "|   [[-2.3025851  0.         0.       ]]\n",
            "|  \n",
            "|   [[-2.3025851  0.         0.       ]]\n",
            "|  \n",
            "|   [[-2.3025851  0.         0.       ]]]\n",
            "| eta (Dirichlet prior on the per-topic word distribution)\n",
            "|  0.01\n",
            "|\n",
            "<Topics>\n",
            "| #0 (4956) : 좋/VA 잘/MAG 쓰/VV 구매/NNG 배송/NNG 너무/MAG 거/NNB 재/XPN 같/VA 먹/VV\n",
            "| #1 (4908) : 잘/MAG 좋/VA 배송/NNG 쓰/VV 안/MAG 거/NNB 너무/MAG 먹/VV 구매/NNG 재/XPN\n",
            "| #2 (5056) : 좋/VA 잘/MAG 구매/NNG 거/NNB 쓰/VV 안/MAG 배송/NNG 것/NNB 먹/VV 같/VA\n",
            "| #3 (4862) : 좋/VA 구매/NNG 잘/MAG 너무/MAG 쓰/VV 배송/NNG 거/NNB 안/MAG 먹/VV 사/VV\n",
            "| #4 (4968) : 좋/VA 너무/MAG 배송/NNG 잘/MAG 쓰/VV 사/VV 재/XPN 구매/NNG 안/MAG 거/NNB\n",
            "| #5 (4943) : 좋/VA 구매/NNG 잘/MAG 너무/MAG 안/MAG 재/XPN 사/VV 거/NNB 배송/NNG 것/NNB\n",
            "| #6 (4853) : 좋/VA 구매/NNG 너무/MAG 먹/VV 잘/MAG 배송/NNG 쓰/VV 것/NNB 재/XPN 거/NNB\n",
            "| #7 (4834) : 좋/VA 구매/NNG 잘/MAG 것/NNB 너무/MAG 안/MAG 먹/VV 배송/NNG 사용/NNG 쓰/VV\n",
            "| #8 (4934) : 좋/VA 구매/NNG 쓰/VV 배송/NNG 거/NNB 잘/MAG 빠르/VA 너무/MAG 먹/VV 안/MAG\n",
            "| #9 (4830) : 좋/VA 구매/NNG 너무/MAG 배송/NNG 잘/MAG 안/MAG 쓰/VV 거/NNB 재/XPN 먹/VV\n",
            "| #10 (4919) : 좋/VA 잘/MAG 배송/NNG 거/NNB 구매/NNG 너무/MAG 재/XPN 안/MAG 쓰/VV 사/VV\n",
            "| #11 (4909) : 좋/VA 잘/MAG 구매/NNG 쓰/VV 재/XPN 없/VA 너무/MAG 안/MAG 거/NNB 배송/NNG\n",
            "| #12 (4992) : 좋/VA 구매/NNG 잘/MAG 너무/MAG 쓰/VV 거/NNB 배송/NNG 안/MAG 재/XPN 사/VV\n",
            "| #13 (4988) : 좋/VA 배송/NNG 잘/MAG 거/NNB 구매/NNG 너무/MAG 쓰/VV 것/NNB 안/MAG 먹/VV\n",
            "| #14 (4945) : 좋/VA 잘/MAG 구매/NNG 먹/VV 너무/MAG 쓰/VV 배송/NNG 안/MAG 재/XPN 거/NNB\n",
            "| #15 (4973) : 좋/VA 쓰/VV 구매/NNG 잘/MAG 거/NNB 같/VA 너무/MAG 먹/VV 재/XPN 것/NNB\n",
            "| #16 (4757) : 좋/VA 잘/MAG 쓰/VV 안/MAG 구매/NNG 같/VA 너무/MAG 배송/NNG 거/NNB 먹/VV\n",
            "| #17 (4845) : 좋/VA 잘/MAG 배송/NNG 구매/NNG 쓰/VV 같/VA 거/NNB 오/VV 먹/VV 너무/MAG\n",
            "| #18 (4745) : 좋/VA 잘/MAG 쓰/VV 안/MAG 너무/MAG 배송/NNG 구매/NNG 거/NNB 같/VA 사/VV\n",
            "| #19 (4791) : 좋/VA 잘/MAG 쓰/VV 배송/NNG 너무/MAG 빠르/VA 구매/NNG 안/MAG 거/NNB 같/VA\n",
            "|\n",
            "\n"
          ]
        }
      ]
    },
    {
      "cell_type": "code",
      "source": [
        "# 실제로 모델을 학습합니다.\n",
        "# 학습이 진행되면서 모델의 Log Likelihood per word(LLPW)는 대체로 증가하는 경향을 보입니다.\n",
        "# 이론적으로는 이 LLPW가 더 이상 증가하지 않는 지점까지 학습을 계속하는 것이 맞지만\n",
        "# 이번 실습에서는 총 1000 iteration까지만 학습을 진행합니다.\n",
        "# 데이터셋의 종류나 크기, 구성 등에 따라 LLPW가 더 빠르게 수렴을 하는 경우도 있고\n",
        "# 더 느리게 수렴하는 경우도 있어서 직접 학습을 돌리고 결과를 보면서 판단하는게 필요합니다.\n",
        "model.train(1000, workers=2, show_progress=True)"
      ],
      "metadata": {
        "colab": {
          "base_uri": "https://localhost:8080/"
        },
        "id": "ESAvoll7BMqy",
        "outputId": "5856911c-de75-43d9-9eac-b8a335abb634"
      },
      "execution_count": null,
      "outputs": [
        {
          "output_type": "stream",
          "name": "stderr",
          "text": [
            "Iteration: 100%|██████████| 1000/1000 [00:53<00:00, 18.85it/s, LLPW: -6.503882]\n"
          ]
        }
      ]
    },
    {
      "cell_type": "code",
      "source": [
        "model.summary(topic_word_top_n=10)"
      ],
      "metadata": {
        "colab": {
          "base_uri": "https://localhost:8080/"
        },
        "id": "NwXMz1NxCB9p",
        "outputId": "7e0d3837-1be7-41cc-a062-a30bf21a2f94"
      },
      "execution_count": null,
      "outputs": [
        {
          "output_type": "stream",
          "name": "stdout",
          "text": [
            "<Basic Info>\n",
            "| GDMRModel (current version: 0.12.7)\n",
            "| 10000 docs, 98008 words\n",
            "| Total Vocabs: 9558, Used Vocabs: 2330\n",
            "| Entropy of words: 6.44291\n",
            "| Entropy of term-weighted words: 7.05069\n",
            "| Removed Vocabs: <NA>\n",
            "| Numeric metadata distribution of docs\n",
            "|  #0: Range=1.0~5.0, Avg=3.2152, Stdev=1.6407\n",
            "|\n",
            "<Training Info>\n",
            "| Iterations: 1000, Burn-in steps: 0\n",
            "| Optimization Interval: 10\n",
            "| Log-likelihood per word: -6.50603\n",
            "|\n",
            "<Initial Parameters>\n",
            "| tw: TermWeight.PMI\n",
            "| min_cf: 0 (minimum collection frequency of words)\n",
            "| min_df: 5 (minimum document frequency of words)\n",
            "| rm_top: 0 (the number of top words to be removed)\n",
            "| k: 20 (the number of topics between 1 ~ 32767)\n",
            "| degrees: [2] (a list of the degrees of Legendre polynomials for TDF(Topic Distribution Function))\n",
            "| alpha: [0.1] (exponential of mean of normal distribution for `lambdas`, given as a single `float` in case of symmetric prior and as a list with length `k` of `float` in case of asymmetric prior.)\n",
            "| eta: 0.01 (hyperparameter of Dirichlet distribution for topic - word)\n",
            "| sigma: 1.0 (standard deviation of normal distribution for non-constant terms of `lambdas`)\n",
            "| sigma0: 3.0 (standard deviation of normal distribution for constant terms of `lambdas`)\n",
            "| alpha_epsilon: 1e-10 (small smoothing value for preventing `exp(lambdas)` to be near zero)\n",
            "| decay: 0.0 (decay's exponent that causes the coefficient of the higher-order term of `lambdas` to become smaller)\n",
            "| trained in version 0.12.7\n",
            "|\n",
            "<Parameters>\n",
            "| lambda (feature vector per metadata of documents)\n",
            "|  [[[-3.7754672   0.93514436 -1.0083429 ]]\n",
            "|  \n",
            "|   [[-5.798995   -1.1207438   0.45847285]]\n",
            "|  \n",
            "|   [[-4.5299807   0.52259433 -1.2689368 ]]\n",
            "|  \n",
            "|   [[-4.9959307  -0.08242054 -1.1570929 ]]\n",
            "|  \n",
            "|   [[-4.1615486  -1.1138176  -1.1252234 ]]\n",
            "|  \n",
            "|   [[-5.364407   -0.10363787 -1.2169507 ]]\n",
            "|  \n",
            "|   [[-4.512494   -0.5722466  -1.4356757 ]]\n",
            "|  \n",
            "|   [[-5.0389853  -0.25243428 -0.87832564]]\n",
            "|  \n",
            "|   [[-4.424104   -0.89990544 -0.9039864 ]]\n",
            "|  \n",
            "|   [[-4.7836585   0.22358581 -1.7070297 ]]\n",
            "|  \n",
            "|   [[-4.4510922   1.563911   -1.5267454 ]]\n",
            "|  \n",
            "|   [[-4.0764236   0.03547844 -0.911076  ]]\n",
            "|  \n",
            "|   [[-4.8647213  -0.05043497 -1.0763391 ]]\n",
            "|  \n",
            "|   [[-3.7206764  -0.61024976 -0.97037935]]\n",
            "|  \n",
            "|   [[-4.462886    0.18806331 -0.62862355]]\n",
            "|  \n",
            "|   [[-3.9032984   1.3603418  -0.40428677]]\n",
            "|  \n",
            "|   [[-4.4534645  -1.2632065  -0.44294387]]\n",
            "|  \n",
            "|   [[-3.8112586  -0.05249425 -0.8338817 ]]\n",
            "|  \n",
            "|   [[-4.49771    -0.6652534  -1.0243248 ]]\n",
            "|  \n",
            "|   [[-4.556615    0.808924   -2.1122785 ]]]\n",
            "| eta (Dirichlet prior on the per-topic word distribution)\n",
            "|  0.01\n",
            "|\n",
            "<Topics>\n",
            "| #0 (9027) : 좋/VA 가격/NNG 만족/NNG 들/VV 잘/MAG 쓰/VV 사이즈/NNG 디자인/NNG 배송/NNG 편하/VA\n",
            "| #1 (3013) : 안/MAG 나/VV 고장/NNG 그냥/MAG 거/NNB 잘/MAG 부분/NNG 광고/NNG 맞/VV 고무/NNG\n",
            "| #2 (3102) : 좋/VA 쓰/VV 사용/NNG 효과/NNG 잘/MAG 아직/MAG 없/VA 같/VA 가격/NNG 때/NNG\n",
            "| #3 (1772) : 냄새/NNG 머리/NNG 잘/MAG 심하/VA 나/VV 못/MAG 사용/NNG 쓰/VV 안/MAG 아직/MAG\n",
            "| #4 (6190) : 안/MAG 냄새/NNG 부분/NNG 빠지/VV 다/MAG 붙이/VV 쓰/VV 나/VV 묻/VV-R 별로/MAG\n",
            "| #5 (799) : 약하/VA 가위/NNG 끼/VV 위/NNG 버튼/NNG 줄/NNB 방수/NNG 편하/VA 스티커/NNG 대하/VV\n",
            "| #6 (3398) : 귀찮/VA 교환/NNG 쓰/VV 그냥/MAG 오/VV 반품/NNG 보내/VV 확인/NNG 부분/NNG 조립/NNG\n",
            "| #7 (2110) : 없/VA 효과/NNG 물/NNG 담/VV 한/MM 걱정/NNG 봉지/NNG 나/VV 마시/VV 것/NNB\n",
            "| #8 (4637) : 사/VV 원/NNB 그냥/MAG 안/MAG 돈/NNG 가격/NNG 너무/MAG 필름/NNG 거/NNB 싸/VA\n",
            "| #9 (2799) : 가/VV 원/NNB 1/SN 개/NNB 3/SN 5/SN 진짜/MAG 일/NNB 불/NNG 월/NNB\n",
            "| #10 (3896) : 빠르/VA 배송/NNG 잘/MAG 좋/VA 감사/NNG 만족/NNG 포장/NNG 받/VV-R 구매/NNG 재/XPN\n",
            "| #11 (5399) : 색/NNG 색상/NNG 생각/NNG 좋/VA 느낌/NNG 거/NNB 화면/NNG 다르/VA 사이즈/NNG 스럽/XSA-I\n",
            "| #12 (2333) : 사이즈/NNG 입/VV-R 크/VA 작/VA 키/NNG 맞/VV 길이/NNG 기/VV 폭/NNG 끼/VV\n",
            "| #13 (8399) : 너무/MAG 크/VA 안/MAG 입/VV-R 생각/NNG 작/VA 불편/NNG 것/NNB 얇/VA 좀/MAG\n",
            "| #14 (4519) : 먹/VV 좋/VA 잘/MAG 맛있/VA 거/NNB 같/VA 안/MAG 나/VV 저/NP 향/NNG\n",
            "| #15 (12670) : 구매/NNG 좋/VA 재/XPN 잘/MAG 만족/NNG 사/VV 쓰/VV 빠르/VA 들/VV 배송/NNG\n",
            "| #16 (8867) : 안/MAG 배송/NNG 보내/VV 오/VV 제품/NNG 상품/NNG 거/NNB 받/VV-R 쓰/VV 구매/NNG\n",
            "| #17 (8633) : 먹/VV 맛/NNG 맛있/VA 구매/NNG 재/XPN 시키/VV 너무/MAG 없/VA 거/NNB 주문/NNG\n",
            "| #18 (4082) : 개/NNB 일/NNB 오/VV 걸리/VV 배송/NNG 1/SN 받/VV-R 한/MM 박스/NNG 3/SN\n",
            "| #19 (2363) : 배송/NNG 친절/NNG 감사/NNG 늦/VA 빠르/VA 기사/NNG 느리/VA 걸리/VV 빨리/MAG 오/VV\n",
            "|\n",
            "\n"
          ]
        }
      ]
    },
    {
      "cell_type": "code",
      "source": [
        "md_start = 1\n",
        "md_end = 5\n",
        "md_step = 9\n",
        "tdf = model.tdf_linspace([md_start], [md_end], [md_step])"
      ],
      "metadata": {
        "id": "RxuHSKmHM12-"
      },
      "execution_count": null,
      "outputs": []
    },
    {
      "cell_type": "code",
      "source": [
        "x = np.linspace(md_start, md_end, md_step)\n",
        "# 우상향하는 계열만 그리기\n",
        "for i, y in enumerate(tdf.T):\n",
        "  if y[:len(y)//2].sum() > y[-len(y)//2:].sum(): continue\n",
        "  plt.plot(x, y * 100, label=f\"#{i}\")\n",
        "\n",
        "plt.plot()\n",
        "plt.xlabel(\"Score\")\n",
        "plt.ylabel(\"%\")\n",
        "plt.title(\"Topic Dist. by Score\")\n",
        "plt.legend()\n",
        "plt.show()"
      ],
      "metadata": {
        "colab": {
          "base_uri": "https://localhost:8080/",
          "height": 472
        },
        "id": "UtrDKF5VNwW9",
        "outputId": "0d293522-47fe-4fc6-bb85-dda7f907eaf0"
      },
      "execution_count": null,
      "outputs": [
        {
          "output_type": "display_data",
          "data": {
            "text/plain": [
              "<Figure size 640x480 with 1 Axes>"
            ],
            "image/png": "[encoded data removed]"
          },
          "metadata": {}
        }
      ]
    },
    {
      "cell_type": "code",
      "source": [
        "x = np.linspace(md_start, md_end, md_step)\n",
        "# 우하향하는 계열만 그리기\n",
        "for i, y in enumerate(tdf.T):\n",
        "  if y[:len(y)//2].sum() <= y[-len(y)//2:].sum(): continue\n",
        "  plt.plot(x, y * 100, label=f\"#{i}\")\n",
        "\n",
        "plt.plot()\n",
        "plt.xlabel(\"Score\")\n",
        "plt.ylabel(\"%\")\n",
        "plt.title(\"Topic Dist. by Score\")\n",
        "plt.legend()\n",
        "plt.show()"
      ],
      "metadata": {
        "colab": {
          "base_uri": "https://localhost:8080/",
          "height": 472
        },
        "id": "wxaqU_PdN2YT",
        "outputId": "2630cb11-566d-4a2b-817a-0611aecc0e48"
      },
      "execution_count": null,
      "outputs": [
        {
          "output_type": "display_data",
          "data": {
            "text/plain": [
              "<Figure size 640x480 with 1 Axes>"
            ],
            "image/png": "[encoded data removed]"
          },
          "metadata": {}
        }
      ]
    },
    {
      "cell_type": "markdown",
      "source": [
        "# Correlated Topic 모델\n",
        "LDA모델과 유사하지만, 토픽과 토픽 간의 관계를 고려하는 모델. 문서-토픽, 토픽-단어 관계뿐만 아니라 어떤 토픽들이 주로 함께 등장하는지, 혹은 함께 등장하지 않는지를 파악하는 것이 가능."
      ],
      "metadata": {
        "id": "Y7h2hy6hnz8S"
      }
    },
    {
      "cell_type": "code",
      "source": [
        "model = tp.CTModel(k=20, min_df=5, tw=tp.TermWeight.PMI, corpus=corpus)"
      ],
      "metadata": {
        "id": "YOfjAnELn8GC"
      },
      "execution_count": null,
      "outputs": []
    },
    {
      "cell_type": "code",
      "source": [
        "model.train(0)\n",
        "model.summary(topic_word_top_n=10)"
      ],
      "metadata": {
        "colab": {
          "base_uri": "https://localhost:8080/"
        },
        "outputId": "b4c6f64a-1a87-4b2e-e65c-4a1740f70f98",
        "id": "LAOfOmFyn8GD"
      },
      "execution_count": null,
      "outputs": [
        {
          "output_type": "stream",
          "name": "stdout",
          "text": [
            "<Basic Info>\n",
            "| CTModel (current version: 0.12.7)\n",
            "| 10000 docs, 98008 words\n",
            "| Total Vocabs: 9558, Used Vocabs: 2330\n",
            "| Entropy of words: 6.44291\n",
            "| Entropy of term-weighted words: 7.05069\n",
            "| Removed Vocabs: <NA>\n",
            "|\n",
            "<Training Info>\n",
            "| Iterations: 0, Burn-in steps: 0\n",
            "| Optimization Interval: 2\n",
            "| Log-likelihood per word: -8.69143\n",
            "|\n",
            "<Initial Parameters>\n",
            "| tw: TermWeight.PMI\n",
            "| min_cf: 0 (minimum collection frequency of words)\n",
            "| min_df: 5 (minimum document frequency of words)\n",
            "| rm_top: 0 (the number of top words to be removed)\n",
            "| k: 20 (the number of topics between 1 ~ 32767)\n",
            "| smoothing_alpha: [0.1] (small smoothing value for preventing topic counts to be zero, given as a single `float` in case of symmetric and as a list with length `k` of `float` in case of asymmetric.)\n",
            "| eta: 0.01 (hyperparameter of Dirichlet distribution for topic-word)\n",
            "| seed: 3558440197 (random seed)\n",
            "| trained in version 0.12.7\n",
            "|\n",
            "<Parameters>\n",
            "| prior_mean (Prior mean of Logit-normal for the per-document topic distributions)\n",
            "|  [0. 0. 0. 0. 0. 0. 0. 0. 0. 0. 0. 0. 0. 0. 0. 0. 0. 0. 0. 0.]\n",
            "| prior_cov (Prior covariance of Logit-normal for the per-document topic distributions)\n",
            "|  [[1. 0. 0. 0. 0. 0. 0. 0. 0. 0. 0. 0. 0. 0. 0. 0. 0. 0. 0. 0.]\n",
            "|   [0. 1. 0. 0. 0. 0. 0. 0. 0. 0. 0. 0. 0. 0. 0. 0. 0. 0. 0. 0.]\n",
            "|   [0. 0. 1. 0. 0. 0. 0. 0. 0. 0. 0. 0. 0. 0. 0. 0. 0. 0. 0. 0.]\n",
            "|   [0. 0. 0. 1. 0. 0. 0. 0. 0. 0. 0. 0. 0. 0. 0. 0. 0. 0. 0. 0.]\n",
            "|   [0. 0. 0. 0. 1. 0. 0. 0. 0. 0. 0. 0. 0. 0. 0. 0. 0. 0. 0. 0.]\n",
            "|   [0. 0. 0. 0. 0. 1. 0. 0. 0. 0. 0. 0. 0. 0. 0. 0. 0. 0. 0. 0.]\n",
            "|   [0. 0. 0. 0. 0. 0. 1. 0. 0. 0. 0. 0. 0. 0. 0. 0. 0. 0. 0. 0.]\n",
            "|   [0. 0. 0. 0. 0. 0. 0. 1. 0. 0. 0. 0. 0. 0. 0. 0. 0. 0. 0. 0.]\n",
            "|   [0. 0. 0. 0. 0. 0. 0. 0. 1. 0. 0. 0. 0. 0. 0. 0. 0. 0. 0. 0.]\n",
            "|   [0. 0. 0. 0. 0. 0. 0. 0. 0. 1. 0. 0. 0. 0. 0. 0. 0. 0. 0. 0.]\n",
            "|   [0. 0. 0. 0. 0. 0. 0. 0. 0. 0. 1. 0. 0. 0. 0. 0. 0. 0. 0. 0.]\n",
            "|   [0. 0. 0. 0. 0. 0. 0. 0. 0. 0. 0. 1. 0. 0. 0. 0. 0. 0. 0. 0.]\n",
            "|   [0. 0. 0. 0. 0. 0. 0. 0. 0. 0. 0. 0. 1. 0. 0. 0. 0. 0. 0. 0.]\n",
            "|   [0. 0. 0. 0. 0. 0. 0. 0. 0. 0. 0. 0. 0. 1. 0. 0. 0. 0. 0. 0.]\n",
            "|   [0. 0. 0. 0. 0. 0. 0. 0. 0. 0. 0. 0. 0. 0. 1. 0. 0. 0. 0. 0.]\n",
            "|   [0. 0. 0. 0. 0. 0. 0. 0. 0. 0. 0. 0. 0. 0. 0. 1. 0. 0. 0. 0.]\n",
            "|   [0. 0. 0. 0. 0. 0. 0. 0. 0. 0. 0. 0. 0. 0. 0. 0. 1. 0. 0. 0.]\n",
            "|   [0. 0. 0. 0. 0. 0. 0. 0. 0. 0. 0. 0. 0. 0. 0. 0. 0. 1. 0. 0.]\n",
            "|   [0. 0. 0. 0. 0. 0. 0. 0. 0. 0. 0. 0. 0. 0. 0. 0. 0. 0. 1. 0.]\n",
            "|   [0. 0. 0. 0. 0. 0. 0. 0. 0. 0. 0. 0. 0. 0. 0. 0. 0. 0. 0. 1.]]\n",
            "| eta (Dirichlet prior on the per-topic word distribution)\n",
            "|  0.01\n",
            "|\n",
            "<Topics>\n",
            "| #0 (4744) : 좋/VA 배송/NNG 잘/MAG 구매/NNG 거/NNB 쓰/VV 너무/MAG 안/MAG 같/VA 먹/VV\n",
            "| #1 (4920) : 좋/VA 쓰/VV 잘/MAG 너무/MAG 구매/NNG 거/NNB 안/MAG 배송/NNG 것/NNB 먹/VV\n",
            "| #2 (4985) : 좋/VA 잘/MAG 너무/MAG 구매/NNG 쓰/VV 배송/NNG 먹/VV 사/VV 거/NNB 재/XPN\n",
            "| #3 (4891) : 좋/VA 잘/MAG 구매/NNG 쓰/VV 사/VV 너무/MAG 배송/NNG 재/XPN 것/NNB 거/NNB\n",
            "| #4 (4972) : 좋/VA 구매/NNG 잘/MAG 배송/NNG 거/NNB 안/MAG 사/VV 쓰/VV 먹/VV 같/VA\n",
            "| #5 (4892) : 좋/VA 구매/NNG 쓰/VV 배송/NNG 잘/MAG 것/NNB 같/VA 안/MAG 거/NNB 사/VV\n",
            "| #6 (4950) : 좋/VA 잘/MAG 구매/NNG 쓰/VV 배송/NNG 사/VV 거/NNB 너무/MAG 안/MAG 같/VA\n",
            "| #7 (4899) : 좋/VA 구매/NNG 배송/NNG 잘/MAG 빠르/VA 너무/MAG 재/XPN 쓰/VV 사/VV 안/MAG\n",
            "| #8 (4825) : 좋/VA 잘/MAG 쓰/VV 구매/NNG 배송/NNG 거/NNB 재/XPN 너무/MAG 안/MAG 제품/NNG\n",
            "| #9 (4937) : 좋/VA 구매/NNG 쓰/VV 잘/MAG 너무/MAG 배송/NNG 거/NNB 만족/NNG 사용/NNG 안/MAG\n",
            "| #10 (5001) : 좋/VA 잘/MAG 구매/NNG 쓰/VV 거/NNB 안/MAG 재/XPN 먹/VV 배송/NNG 너무/MAG\n",
            "| #11 (5054) : 좋/VA 구매/NNG 먹/VV 쓰/VV 잘/MAG 너무/MAG 거/NNB 안/MAG 같/VA 사/VV\n",
            "| #12 (4917) : 좋/VA 잘/MAG 구매/NNG 너무/MAG 쓰/VV 안/MAG 배송/NNG 것/NNB 거/NNB 먹/VV\n",
            "| #13 (4886) : 좋/VA 너무/MAG 잘/MAG 구매/NNG 쓰/VV 배송/NNG 먹/VV 안/MAG 거/NNB 같/VA\n",
            "| #14 (4983) : 좋/VA 잘/MAG 안/MAG 배송/NNG 구매/NNG 거/NNB 너무/MAG 사/VV 쓰/VV 같/VA\n",
            "| #15 (4829) : 좋/VA 잘/MAG 너무/MAG 안/MAG 쓰/VV 구매/NNG 거/NNB 배송/NNG 먹/VV 없/VA\n",
            "| #16 (4757) : 좋/VA 구매/NNG 잘/MAG 배송/NNG 쓰/VV 안/MAG 너무/MAG 것/NNB 재/XPN 거/NNB\n",
            "| #17 (4902) : 좋/VA 잘/MAG 쓰/VV 구매/NNG 너무/MAG 거/NNB 안/MAG 먹/VV 배송/NNG 재/XPN\n",
            "| #18 (4807) : 좋/VA 잘/MAG 배송/NNG 너무/MAG 구매/NNG 쓰/VV 재/XPN 거/NNB 안/MAG 같/VA\n",
            "| #19 (4857) : 좋/VA 배송/NNG 잘/MAG 쓰/VV 안/MAG 구매/NNG 너무/MAG 거/NNB 먹/VV 사/VV\n",
            "|\n",
            "\n"
          ]
        }
      ]
    },
    {
      "cell_type": "code",
      "source": [
        "# 실습에서는 빠른 학습을 위해서 num_beta_sample을 1로 설정합니다.\n",
        "# 문서의 개수가 수 백개 이하로 적은 경우에는 이 값을 5~10 정도로 설정해야 모델이 발산하지 않습니다.\n",
        "model.num_beta_sample = 1\n",
        "# 시간 관계상 iteration 역시 300회만 돌도록 합니다.\n",
        "model.train(300, workers=2, show_progress=True)"
      ],
      "metadata": {
        "colab": {
          "base_uri": "https://localhost:8080/"
        },
        "id": "ot3ncFXkoQDK",
        "outputId": "b4b5bd08-043b-45b3-d7e8-1275d903fba1"
      },
      "execution_count": null,
      "outputs": [
        {
          "output_type": "stream",
          "name": "stderr",
          "text": [
            "Iteration: 100%|██████████| 300/300 [01:32<00:00,  3.25it/s, LLPW: -6.282325]\n"
          ]
        }
      ]
    },
    {
      "cell_type": "code",
      "source": [
        "model.summary(topic_word_top_n=10)"
      ],
      "metadata": {
        "colab": {
          "base_uri": "https://localhost:8080/"
        },
        "id": "nbmFslnGMqkP",
        "outputId": "1b685508-3eee-4678-8ca9-57b53fc1db6b"
      },
      "execution_count": null,
      "outputs": [
        {
          "output_type": "stream",
          "name": "stdout",
          "text": [
            "<Basic Info>\n",
            "| CTModel (current version: 0.12.7)\n",
            "| 10000 docs, 98008 words\n",
            "| Total Vocabs: 9558, Used Vocabs: 2330\n",
            "| Entropy of words: 6.44291\n",
            "| Entropy of term-weighted words: 7.05069\n",
            "| Removed Vocabs: <NA>\n",
            "|\n",
            "<Training Info>\n",
            "| Iterations: 300, Burn-in steps: 0\n",
            "| Optimization Interval: 2\n",
            "| Log-likelihood per word: -6.28166\n",
            "|\n",
            "<Initial Parameters>\n",
            "| tw: TermWeight.PMI\n",
            "| min_cf: 0 (minimum collection frequency of words)\n",
            "| min_df: 5 (minimum document frequency of words)\n",
            "| rm_top: 0 (the number of top words to be removed)\n",
            "| k: 20 (the number of topics between 1 ~ 32767)\n",
            "| smoothing_alpha: [0.1] (small smoothing value for preventing topic counts to be zero, given as a single `float` in case of symmetric and as a list with length `k` of `float` in case of asymmetric.)\n",
            "| eta: 0.01 (hyperparameter of Dirichlet distribution for topic-word)\n",
            "| seed: 3558440197 (random seed)\n",
            "| trained in version 0.12.7\n",
            "|\n",
            "<Parameters>\n",
            "| prior_mean (Prior mean of Logit-normal for the per-document topic distributions)\n",
            "|  [-5.095214   -5.342783   -5.390594   -4.9598055  -5.100086   -5.22767\n",
            "|   -4.1249895  -5.095164   -4.581116   -4.2113996  -5.189442   -5.013313\n",
            "|   -3.789657   -4.332326   -4.1631904  -3.4994204  -3.5181782  -3.0715644\n",
            "|   -3.4789789  -0.04592082]\n",
            "| prior_cov (Prior covariance of Logit-normal for the per-document topic distributions)\n",
            "|  [[ 1.11707201e+01  1.50447831e-01  3.97147685e-01  5.94003424e-02\n",
            "|     1.06007464e-01 -1.58501063e-02  1.88440368e-01  4.35155071e-02\n",
            "|     2.71245837e-01  9.88146141e-02  3.82210135e-01  1.71014443e-01\n",
            "|    -5.87307587e-02  1.27851129e-01  2.89112985e-01  3.54149371e-01\n",
            "|     2.15604439e-01 -1.76395196e-02 -1.35158014e+00 -2.17576530e-02]\n",
            "|   [ 1.50447831e-01  1.13827257e+01  1.59343153e-01  3.26001585e-01\n",
            "|     7.32623860e-02  3.27361003e-02  6.28266558e-02  1.51324600e-01\n",
            "|     2.44816616e-01 -1.30904064e-01  2.09434494e-01  1.49441257e-01\n",
            "|     3.30183774e-01 -2.21231908e-01  5.35576008e-02  1.42242730e-01\n",
            "|     2.63038516e-01  2.00981334e-01 -9.29560363e-01 -1.11938817e-02]\n",
            "|   [ 3.97147685e-01  1.59343153e-01  1.17794828e+01  1.34979934e-01\n",
            "|     2.11545229e-01  2.49296829e-01  6.43764660e-02  1.46804050e-01\n",
            "|     1.60993412e-01  1.36963800e-01  5.62976241e-01  1.41183436e-01\n",
            "|    -3.42040509e-01  5.93402721e-02 -1.95752248e-01  4.62290756e-02\n",
            "|     2.75070608e-01  8.07213932e-02 -1.44148350e+00  1.00678969e-02]\n",
            "|   [ 5.94003424e-02  3.26001585e-01  1.34979934e-01  1.25080538e+01\n",
            "|    -3.27445008e-02  1.34146944e-01  1.17233075e-01  1.06410712e-01\n",
            "|    -2.70103421e-02 -9.78958830e-02  3.89076859e-01  4.69750017e-01\n",
            "|    -9.24707875e-02  1.99539125e-01 -1.42506570e-01  1.79148316e-01\n",
            "|     2.48121932e-01  1.43136859e-01 -2.46570706e+00 -4.66009689e-04]\n",
            "|   [ 1.06007464e-01  7.32623860e-02  2.11545229e-01 -3.27445008e-02\n",
            "|     1.17420053e+01  3.08636308e-01  1.79540347e-02  3.73059690e-01\n",
            "|     3.69754136e-01  3.29084069e-01 -7.93996230e-02  1.61388531e-01\n",
            "|     1.26225099e-01  3.59652162e-01 -2.04917789e+00  7.08949193e-02\n",
            "|     4.62428369e-02  2.15512812e-01  2.46903718e-01 -5.88341616e-02]\n",
            "|   [-1.58501063e-02  3.27361003e-02  2.49296829e-01  1.34146944e-01\n",
            "|     3.08636308e-01  1.11377754e+01 -3.44420016e-01  3.10509145e-01\n",
            "|     3.07971418e-01 -9.21240970e-02  2.08487794e-01  1.60365671e-01\n",
            "|     1.76698431e-01  4.24339436e-02 -2.43959594e+00  1.69833332e-01\n",
            "|     8.04045498e-02  6.58597574e-02  7.40676653e-03 -1.25389723e-02]\n",
            "|   [ 1.88440368e-01  6.28266558e-02  6.43764660e-02  1.17233075e-01\n",
            "|     1.79540347e-02 -3.44420016e-01  1.27912683e+01 -3.95659089e-01\n",
            "|    -2.87085414e-01 -2.82658964e-01 -1.31465837e-01  2.44524404e-01\n",
            "|     7.26662427e-02  1.87603638e-01  4.14375484e-01 -1.87415266e+00\n",
            "|     8.75654742e-02 -3.87006998e-01 -1.05200040e+00  4.33471054e-03]\n",
            "|   [ 4.35155071e-02  1.51324600e-01  1.46804050e-01  1.06410712e-01\n",
            "|     3.73059690e-01  3.10509145e-01 -3.95659089e-01  1.08167763e+01\n",
            "|     1.04805082e-01  1.26849070e-01  2.30929002e-01  2.20878556e-01\n",
            "|    -6.58661723e-02  2.98632562e-01 -2.18898225e+00  6.71886057e-02\n",
            "|     7.59211332e-02  1.66399796e-02  2.62936056e-01 -3.48726064e-02]\n",
            "|   [ 2.71245837e-01  2.44816616e-01  1.60993412e-01 -2.70103421e-02\n",
            "|     3.69754136e-01  3.07971418e-01 -2.87085414e-01  1.04805082e-01\n",
            "|     1.01624737e+01  2.25972667e-01  1.46360733e-02  1.76815674e-01\n",
            "|     1.52521893e-01  1.46122798e-01  9.19968113e-02  1.90380231e-01\n",
            "|    -9.94910896e-01  2.23607734e-01  1.24884829e-01 -3.79823856e-02]\n",
            "|   [ 9.88146141e-02 -1.30904064e-01  1.36963800e-01 -9.78958830e-02\n",
            "|     3.29084069e-01 -9.21240970e-02 -2.82658964e-01  1.26849070e-01\n",
            "|     2.25972667e-01  9.84165955e+00 -1.95777282e-01 -4.40704040e-02\n",
            "|     3.94734554e-02 -2.57471561e-01  1.28953204e-01  2.17110038e-01\n",
            "|     4.11568940e-01  2.42325872e-01  3.61551315e-01 -1.21008851e-01]\n",
            "|   [ 3.82210135e-01  2.09434494e-01  5.62976241e-01  3.89076859e-01\n",
            "|    -7.93996230e-02  2.08487794e-01 -1.31465837e-01  2.30929002e-01\n",
            "|     1.46360733e-02 -1.95777282e-01  1.08509026e+01  5.89304492e-02\n",
            "|     1.89238023e-02 -6.75231889e-02 -3.43175605e-02  2.05021217e-01\n",
            "|     3.28919500e-01  2.79689521e-01 -1.92958188e+00 -3.07222866e-02]\n",
            "|   [ 1.71014443e-01  1.49441257e-01  1.41183436e-01  4.69750017e-01\n",
            "|     1.61388531e-01  1.60365671e-01  2.44524404e-01  2.20878556e-01\n",
            "|     1.76815674e-01 -4.40704040e-02  5.89304492e-02  1.17930279e+01\n",
            "|    -8.00462440e-02  1.54377818e-01 -1.45063865e+00  2.98603252e-02\n",
            "|     1.86108306e-01  2.88764209e-01 -1.77892089e+00  1.81860700e-02]\n",
            "|   [-5.87307587e-02  3.30183774e-01 -3.42040509e-01 -9.24707875e-02\n",
            "|     1.26225099e-01  1.76698431e-01  7.26662427e-02 -6.58661723e-02\n",
            "|     1.52521893e-01  3.94734554e-02  1.89238023e-02 -8.00462440e-02\n",
            "|     9.44807529e+00 -6.67931616e-01  1.65040731e-01  2.73215979e-01\n",
            "|     3.39635205e-03  1.01757213e-01  1.68505415e-01 -6.45805970e-02]\n",
            "|   [ 1.27851129e-01 -2.21231908e-01  5.93402721e-02  1.99539125e-01\n",
            "|     3.59652162e-01  4.24339436e-02  1.87603638e-01  2.98632562e-01\n",
            "|     1.46122798e-01 -2.57471561e-01 -6.75231889e-02  1.54377818e-01\n",
            "|    -6.67931616e-01  1.09123697e+01  5.64970560e-02 -8.02387446e-02\n",
            "|    -2.29016852e+00 -2.69065320e-01 -1.14545539e-01 -1.21027865e-02]\n",
            "|   [ 2.89112985e-01  5.35576008e-02 -1.95752248e-01 -1.42506570e-01\n",
            "|    -2.04917789e+00 -2.43959594e+00  4.14375484e-01 -2.18898225e+00\n",
            "|     9.19968113e-02  1.28953204e-01 -3.43175605e-02 -1.45063865e+00\n",
            "|     1.65040731e-01  5.64970560e-02  1.29744291e+01  2.16191076e-02\n",
            "|     1.87522486e-01 -2.23461843e+00  9.24286023e-02 -6.64589629e-02]\n",
            "|   [ 3.54149371e-01  1.42242730e-01  4.62290756e-02  1.79148316e-01\n",
            "|     7.08949193e-02  1.69833332e-01 -1.87415266e+00  6.71886057e-02\n",
            "|     1.90380231e-01  2.17110038e-01  2.05021217e-01  2.98603252e-02\n",
            "|     2.73215979e-01 -8.02387446e-02  2.16191076e-02  9.09326839e+00\n",
            "|     4.65130299e-01  4.78870928e-01  1.89074770e-01 -1.52286604e-01]\n",
            "|   [ 2.15604439e-01  2.63038516e-01  2.75070608e-01  2.48121932e-01\n",
            "|     4.62428369e-02  8.04045498e-02  8.75654742e-02  7.59211332e-02\n",
            "|    -9.94910896e-01  4.11568940e-01  3.28919500e-01  1.86108306e-01\n",
            "|     3.39635205e-03 -2.29016852e+00  1.87522486e-01  4.65130299e-01\n",
            "|     9.18913555e+00  4.57563043e-01 -2.07601935e-01 -1.47718728e-01]\n",
            "|   [-1.76395196e-02  2.00981334e-01  8.07213932e-02  1.43136859e-01\n",
            "|     2.15512812e-01  6.58597574e-02 -3.87006998e-01  1.66399796e-02\n",
            "|     2.23607734e-01  2.42325872e-01  2.79689521e-01  2.88764209e-01\n",
            "|     1.01757213e-01 -2.69065320e-01 -2.23461843e+00  4.78870928e-01\n",
            "|     4.57563043e-01  8.28096962e+00  3.90981585e-02 -1.04358092e-01]\n",
            "|   [-1.35158014e+00 -9.29560363e-01 -1.44148350e+00 -2.46570706e+00\n",
            "|     2.46903718e-01  7.40676653e-03 -1.05200040e+00  2.62936056e-01\n",
            "|     1.24884829e-01  3.61551315e-01 -1.92958188e+00 -1.77892089e+00\n",
            "|     1.68505415e-01 -1.14545539e-01  9.24286023e-02  1.89074770e-01\n",
            "|    -2.07601935e-01  3.90981585e-02  9.75587368e+00 -2.43307099e-01]\n",
            "|   [-2.17576530e-02 -1.11938817e-02  1.00678969e-02 -4.66009689e-04\n",
            "|    -5.88341616e-02 -1.25389723e-02  4.33471054e-03 -3.48726064e-02\n",
            "|    -3.79823856e-02 -1.21008851e-01 -3.07222866e-02  1.81860700e-02\n",
            "|    -6.45805970e-02 -1.21027865e-02 -6.64589629e-02 -1.52286604e-01\n",
            "|    -1.47718728e-01 -1.04358092e-01 -2.43307099e-01  1.12243354e-01]]\n",
            "| eta (Dirichlet prior on the per-topic word distribution)\n",
            "|  0.01\n",
            "|\n",
            "<Topics>\n",
            "| #0 (3007) : 배송/NNG 느리/VA 물건/NNG 엄청/MAG 친절/NNG 연락/NNG 강추/IC 판매자/NNG 전화/NNG 없/VA\n",
            "| #1 (2401) : 감/NNG 먼지/NNG 의사/NNG 치/VV 근데/MAJ 점/NNG 묻/VV-R 조금/MAG 것/NNB 시간/NNG\n",
            "| #2 (2519) : 옷/NNG 약하/VA 비싸/VA 길이/NNG 길/VA 덥/VA-I 여름/NNG 보이/VV 비하/VV 앞/NNG\n",
            "| #3 (3479) : 작/VA 사이즈/NNG 크/VA 크기/NNG 딱/MAG 편/XR 맞/VV 세/MM 적당/XR 들어가/VV\n",
            "| #4 (3549) : 그냥/MAG 반품/NNG 귀찮/VA 나/VV 다르/VA 안/MAG 사람/NNG 택배/NNG 보/VV 뚜껑/NNG\n",
            "| #5 (2945) : 크/VA 다리/NNG 소리/NNG 신/VV 위/NNG 밑/NNG 김치/NNG 좀/MAG 신발/NNG 낫/VA-I\n",
            "| #6 (6349) : 배송/NNG 빠르/VA 포장/NNG 오/VV 감사/NNG 주문/NNG 마음/NNG 받/VV-R 상품/NNG 들/VV\n",
            "| #7 (2634) : 빠지/VV 붙이/VV 붙/VV 나오/VV 물/NNG 떨어지/VV 금방/MAG 뜯/VV-R 자꾸/MAG 마스크/NNG\n",
            "| #8 (2938) : 조립/NNG 쉽/VA-I 나오/VV 사진/NNG 제대로/MAG 못/MAG 케이스/NNG 분/NNB 정리/NNG 고장/NNG\n",
            "| #9 (4256) : 개/NNB 한/MM 번/NNB 2/SN 3/SN 두/MM 원/NNB 다/MAG 오/VV 4/SN\n",
            "| #10 (2346) : 부분/NNG 마감/NNG 색/NNG 끝/NNG 고기/NNG 의자/NNG 예쁘/VA 조금/NNG 질기/VA 터/NNB\n",
            "| #11 (3084) : 그렇/VA 가/VV 선물/NNG 느낌/NNG 그냥/MAG 마시/VV 주/VV 드리/VV 시원/XR 면/NNG\n",
            "| #12 (4983) : 먹/VV 하나/NR 시키/VV 알/VV 맛/NNG 줄/NNB 왜/MAG 모르/VV 늘/MAG 리뷰/NNG\n",
            "| #13 (3788) : 예쁘/VA 항상/MAG 디자인/NNG 설치/NNG 튼튼/XR 떨어지/VV 가볍/VA-I 아깝/VA-I 색상/NNG 돈/NNG\n",
            "| #14 (5758) : 구매/NNG 재/XPN 들/VV 맘/NNG 아주/MAG 굿/NNG 향/NNG 역시/MAG 더/MAG 가능/NNG\n",
            "| #15 (5755) : 불편/NNG 몇/MM 빼/VV 최고/NNG 주문/NNG 오/VV 있/VV 아프/VA 교환/NNG 받/VV-R\n",
            "| #16 (5402) : 입/VV-R 보내/VV 다른/MM 박스/NNG 오래/MAG 좀/MAG 다시/MAG 주/VV 걸리/VV 아/IC\n",
            "| #17 (6656) : 없/VA 있/VA 수/NNB 냄새/NNG 나/VV 맛/NNG 효과/NNG 모르/VV 더/MAG 진짜/MAG\n",
            "| #18 (5695) : 사용/NNG 중/NNB 아직/MAG 전/NNG 보이/VV 1/SN 보/VV 계속/MAG 후/NNG 때/NNG\n",
            "| #19 (20464) : 좋/VA 잘/MAG 너무/MAG 쓰/VV 사/VV 같/VA 만족/NNG 가격/NNG 맛있/VA 별로/MAG\n",
            "|\n",
            "\n"
          ]
        }
      ]
    },
    {
      "cell_type": "code",
      "source": [
        "# 상관관계가 큰 토픽 쌍을 찾아서 출력해줍니다.\n",
        "correlations = model.get_correlations()\n",
        "k = len(correlations)\n",
        "idx = (-np.abs(correlations - np.eye(k))).flatten().argsort()\n",
        "for topic_a, topic_b in zip(idx // k, idx % k):\n",
        "  if topic_a >= topic_b: continue\n",
        "  cr = correlations[topic_a, topic_b]\n",
        "  if abs(cr) < 0.1: break\n",
        "  print(f\"Correlation between #{topic_a} and #{topic_b}: {cr:.5f}\")\n",
        "\n",
        "# 상관 계수가 음수인 것은 한 주제가 등장하면 다른 주제는 등장하지 않는 경향성이 있다는 뜻이며\n",
        "# 반대로 양수인 것은 한 주제가 등장하면 다른 주제가 등장할 경향성이 있다는 뜻입니다.\n",
        "# 상관 계수가 0에 가까우면 두 주제는 서로 영향을 미치지 않는다는 뜻입니다."
      ],
      "metadata": {
        "colab": {
          "base_uri": "https://localhost:8080/"
        },
        "id": "r_q1qWkxM5QA",
        "outputId": "5e88ffb8-646d-4ad7-b64d-691e96e973cc"
      },
      "execution_count": null,
      "outputs": [
        {
          "output_type": "stream",
          "name": "stdout",
          "text": [
            "Correlation between #18 and #19: -0.23251\n",
            "Correlation between #13 and #16: -0.22870\n",
            "Correlation between #3 and #18: -0.22321\n",
            "Correlation between #14 and #17: -0.21559\n",
            "Correlation between #5 and #14: -0.20294\n",
            "Correlation between #10 and #18: -0.18754\n",
            "Correlation between #7 and #14: -0.18478\n",
            "Correlation between #6 and #15: -0.17378\n",
            "Correlation between #4 and #14: -0.16602\n",
            "Correlation between #11 and #18: -0.16585\n",
            "Correlation between #15 and #19: -0.15074\n",
            "Correlation between #16 and #19: -0.14545\n",
            "Correlation between #2 and #18: -0.13447\n",
            "Correlation between #0 and #18: -0.12947\n",
            "Correlation between #11 and #14: -0.11727\n",
            "Correlation between #9 and #19: -0.11513\n",
            "Correlation between #17 and #19: -0.10824\n",
            "Correlation between #8 and #16: -0.10295\n"
          ]
        }
      ]
    }
  ]
}