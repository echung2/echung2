{
  "nbformat": 4,
  "nbformat_minor": 0,
  "metadata": {
    "colab": {
      "provenance": [],
      "include_colab_link": true
    },
    "kernelspec": {
      "name": "python3",
      "display_name": "Python 3"
    },
    "language_info": {
      "name": "python"
    }
  },
  "cells": [
    {
      "cell_type": "markdown",
      "metadata": {
        "id": "view-in-github",
        "colab_type": "text"
      },
      "source": [
        "<a href=\"https://colab.research.google.com/github/echung2/echung2/blob/master/2024_DH_%EA%B2%A8%EC%9A%B8%ED%95%99%EA%B5%90_003.ipynb\" target=\"_parent\"><img src=\"https://colab.research.google.com/assets/colab-badge.svg\" alt=\"Open In Colab\"/></a>"
      ]
    },
    {
      "cell_type": "markdown",
      "source": [
        "# 토픽 모델링 결과 시각화하기\n",
        "이번 실습에서는 pyLDAVis라는 패키지를 통해 토픽 모델링 결과를 시각화하는 작업을 진행해봅니다.\n",
        "\n",
        "\n"
      ],
      "metadata": {
        "id": "5DCYkOGpt4qO"
      }
    },
    {
      "cell_type": "code",
      "execution_count": null,
      "metadata": {
        "colab": {
          "base_uri": "https://localhost:8080/"
        },
        "id": "qV2Hgo7SwNuh",
        "outputId": "720b6652-a6e9-477a-d432-6e665199fdf4"
      },
      "outputs": [
        {
          "output_type": "stream",
          "name": "stdout",
          "text": [
            "Requirement already satisfied: numpy<1.25 in /usr/local/lib/python3.10/dist-packages (1.24.4)\n",
            "Requirement already satisfied: kiwipiepy in /usr/local/lib/python3.10/dist-packages (0.16.2)\n",
            "Requirement already satisfied: tomotopy in /usr/local/lib/python3.10/dist-packages (0.12.7)\n",
            "Requirement already satisfied: nltk in /usr/local/lib/python3.10/dist-packages (3.8.1)\n",
            "Requirement already satisfied: pandas in /usr/local/lib/python3.10/dist-packages (2.1.4)\n",
            "Requirement already satisfied: pyldavis in /usr/local/lib/python3.10/dist-packages (3.4.1)\n",
            "Requirement already satisfied: kiwipiepy-model~=0.16 in /usr/local/lib/python3.10/dist-packages (from kiwipiepy) (0.16.0)\n",
            "Requirement already satisfied: tqdm in /usr/local/lib/python3.10/dist-packages (from kiwipiepy) (4.66.1)\n",
            "Requirement already satisfied: click in /usr/local/lib/python3.10/dist-packages (from nltk) (8.1.7)\n",
            "Requirement already satisfied: joblib in /usr/local/lib/python3.10/dist-packages (from nltk) (1.3.2)\n",
            "Requirement already satisfied: regex>=2021.8.3 in /usr/local/lib/python3.10/dist-packages (from nltk) (2023.6.3)\n",
            "Requirement already satisfied: python-dateutil>=2.8.2 in /usr/local/lib/python3.10/dist-packages (from pandas) (2.8.2)\n",
            "Requirement already satisfied: pytz>=2020.1 in /usr/local/lib/python3.10/dist-packages (from pandas) (2023.3.post1)\n",
            "Requirement already satisfied: tzdata>=2022.1 in /usr/local/lib/python3.10/dist-packages (from pandas) (2023.4)\n",
            "Requirement already satisfied: scipy in /usr/local/lib/python3.10/dist-packages (from pyldavis) (1.11.4)\n",
            "Requirement already satisfied: jinja2 in /usr/local/lib/python3.10/dist-packages (from pyldavis) (3.1.2)\n",
            "Requirement already satisfied: numexpr in /usr/local/lib/python3.10/dist-packages (from pyldavis) (2.8.8)\n",
            "Requirement already satisfied: funcy in /usr/local/lib/python3.10/dist-packages (from pyldavis) (2.0)\n",
            "Requirement already satisfied: scikit-learn>=1.0.0 in /usr/local/lib/python3.10/dist-packages (from pyldavis) (1.2.2)\n",
            "Requirement already satisfied: gensim in /usr/local/lib/python3.10/dist-packages (from pyldavis) (4.3.2)\n",
            "Requirement already satisfied: setuptools in /usr/local/lib/python3.10/dist-packages (from pyldavis) (67.7.2)\n",
            "Requirement already satisfied: six>=1.5 in /usr/local/lib/python3.10/dist-packages (from python-dateutil>=2.8.2->pandas) (1.16.0)\n",
            "Requirement already satisfied: threadpoolctl>=2.0.0 in /usr/local/lib/python3.10/dist-packages (from scikit-learn>=1.0.0->pyldavis) (3.2.0)\n",
            "Requirement already satisfied: smart-open>=1.8.1 in /usr/local/lib/python3.10/dist-packages (from gensim->pyldavis) (6.4.0)\n",
            "Requirement already satisfied: MarkupSafe>=2.0 in /usr/local/lib/python3.10/dist-packages (from jinja2->pyldavis) (2.1.3)\n"
          ]
        }
      ],
      "source": [
        "!pip install \"numpy<1.25\" kiwipiepy tomotopy nltk pandas pyldavis\n",
        "# 재설치 후 Restart Session이 필요할 수 있음"
      ]
    },
    {
      "cell_type": "code",
      "source": [
        "# 실습에 사용할 패키지들을 로드합니다.\n",
        "import kiwipiepy\n",
        "import tomotopy as tp\n",
        "from tqdm import tqdm\n",
        "import matplotlib.pyplot as plt\n",
        "import numpy as np\n",
        "import pandas as pd\n",
        "import pyLDAvis # LDA 모델 시각화용 패키지"
      ],
      "metadata": {
        "id": "-6G8v14M2M4X"
      },
      "execution_count": null,
      "outputs": []
    },
    {
      "cell_type": "code",
      "source": [
        "# Kiwi는 한국어 형태로 분석에 쓰입니다.\n",
        "kiwi = kiwipiepy.Kiwi(num_workers=2)"
      ],
      "metadata": {
        "id": "FRgJQiAN2Up1",
        "colab": {
          "base_uri": "https://localhost:8080/"
        },
        "outputId": "4a586dcf-0b5a-49d8-ba4c-abcf810a26ce"
      },
      "execution_count": null,
      "outputs": [
        {
          "output_type": "stream",
          "name": "stderr",
          "text": [
            "/usr/local/lib/python3.10/dist-packages/ipykernel/ipkernel.py:283: DeprecationWarning: `should_run_async` will not call `transform_cell` automatically in the future. Please pass the result to `transformed_cell` argument and any exception that happen during thetransform in `preprocessing_exc_tuple` in IPython 7.17 and above.\n",
            "  and should_run_async(code)\n"
          ]
        }
      ]
    },
    {
      "cell_type": "code",
      "source": [
        "# 구글 드라이브에서 naver_shopping.txt를 가져옵니다.\n",
        "# 혹은 https://drive.google.com/file/d/1UkmkPIMGMj7SUWb_uqhLeKepqwnRls3J/view?usp=drive_link 에서 파일을 다운받은뒤\n",
        "# 직접 업로드하는 방법도 가능합니다.\n",
        "FILEID = \"1UkmkPIMGMj7SUWb_uqhLeKepqwnRls3J\"\n",
        "FILENAME = \"naver_shopping.txt\"\n",
        "\n",
        "!wget --load-cookies ~/cookies.txt \"https://docs.google.com/uc?export=download&confirm=$(wget --quiet --save-cookies ~/cookies.txt --keep-session-cookies --no-check-certificate 'https://docs.google.com/uc?export=download&id={FILEID}' -O- | sed -rn 's/.*confirm=([0-9A-Za-z_]+).*/\\1\\n/p')&id={FILEID}\" -O {FILENAME} && rm -rf ~/cookies.txt"
      ],
      "metadata": {
        "colab": {
          "base_uri": "https://localhost:8080/"
        },
        "id": "quDcIR0kq0hX",
        "outputId": "e648129b-9d68-4074-f2af-697c7b363083"
      },
      "execution_count": null,
      "outputs": [
        {
          "output_type": "stream",
          "name": "stderr",
          "text": [
            "/usr/local/lib/python3.10/dist-packages/ipykernel/ipkernel.py:283: DeprecationWarning: `should_run_async` will not call `transform_cell` automatically in the future. Please pass the result to `transformed_cell` argument and any exception that happen during thetransform in `preprocessing_exc_tuple` in IPython 7.17 and above.\n",
            "  and should_run_async(code)\n"
          ]
        },
        {
          "output_type": "stream",
          "name": "stdout",
          "text": [
            "--2024-01-14 16:25:16--  https://docs.google.com/uc?export=download&confirm=&id=1UkmkPIMGMj7SUWb_uqhLeKepqwnRls3J\n",
            "Resolving docs.google.com (docs.google.com)... 173.194.211.138, 173.194.211.102, 173.194.211.100, ...\n",
            "Connecting to docs.google.com (docs.google.com)|173.194.211.138|:443... connected.\n",
            "HTTP request sent, awaiting response... 303 See Other\n",
            "Location: https://drive.usercontent.google.com/download?id=1UkmkPIMGMj7SUWb_uqhLeKepqwnRls3J&export=download [following]\n",
            "--2024-01-14 16:25:16--  https://drive.usercontent.google.com/download?id=1UkmkPIMGMj7SUWb_uqhLeKepqwnRls3J&export=download\n",
            "Resolving drive.usercontent.google.com (drive.usercontent.google.com)... 74.125.139.132, 2607:f8b0:400c:c05::84\n",
            "Connecting to drive.usercontent.google.com (drive.usercontent.google.com)|74.125.139.132|:443... connected.\n",
            "HTTP request sent, awaiting response... 200 OK\n",
            "Length: 20623547 (20M) [application/octet-stream]\n",
            "Saving to: ‘naver_shopping.txt’\n",
            "\n",
            "naver_shopping.txt  100%[===================>]  19.67M  --.-KB/s    in 0.1s    \n",
            "\n",
            "2024-01-14 16:25:17 (161 MB/s) - ‘naver_shopping.txt’ saved [20623547/20623547]\n",
            "\n"
          ]
        }
      ]
    },
    {
      "cell_type": "code",
      "source": [
        "# naver_shopping.txt 에서 문서들을 읽어옵니다.\n",
        "docs = [line.split('\\t', 1) for line in open('naver_shopping.txt', encoding='utf-8')]\n",
        "docs = [(int(score), sent) for score, sent in docs]"
      ],
      "metadata": {
        "id": "Xl93u_zQ27-d",
        "colab": {
          "base_uri": "https://localhost:8080/"
        },
        "outputId": "663231a5-619a-49f7-ee4f-a611bade4003"
      },
      "execution_count": null,
      "outputs": [
        {
          "output_type": "stream",
          "name": "stderr",
          "text": [
            "/usr/local/lib/python3.10/dist-packages/ipykernel/ipkernel.py:283: DeprecationWarning: `should_run_async` will not call `transform_cell` automatically in the future. Please pass the result to `transformed_cell` argument and any exception that happen during thetransform in `preprocessing_exc_tuple` in IPython 7.17 and above.\n",
            "  and should_run_async(code)\n"
          ]
        }
      ]
    },
    {
      "cell_type": "code",
      "source": [
        "# 읽어온 문서 10개를 출력해봅니다.\n",
        "docs[:10]"
      ],
      "metadata": {
        "colab": {
          "base_uri": "https://localhost:8080/"
        },
        "id": "AvXX_1qM3MSN",
        "outputId": "40b46ea9-fe75-4efb-ea5d-7a87acd032f9"
      },
      "execution_count": null,
      "outputs": [
        {
          "output_type": "stream",
          "name": "stderr",
          "text": [
            "/usr/local/lib/python3.10/dist-packages/ipykernel/ipkernel.py:283: DeprecationWarning: `should_run_async` will not call `transform_cell` automatically in the future. Please pass the result to `transformed_cell` argument and any exception that happen during thetransform in `preprocessing_exc_tuple` in IPython 7.17 and above.\n",
            "  and should_run_async(code)\n"
          ]
        },
        {
          "output_type": "execute_result",
          "data": {
            "text/plain": [
              "[(5, '배공빠르고 굿\\n'),\n",
              " (2, '택배가 엉망이네용 저희집 밑에층에 말도없이 놔두고가고\\n'),\n",
              " (5, '아주좋아요 바지 정말 좋아서2개 더 구매했어요 이가격에 대박입니다. 바느질이 조금 엉성하긴 하지만 편하고 가성비 최고예요.\\n'),\n",
              " (2,\n",
              "  '선물용으로 빨리 받아서 전달했어야 하는 상품이었는데 머그컵만 와서 당황했습니다. 전화했더니 바로주신다했지만 배송도 누락되어있었네요.. 확인안하고 바로 선물했으면 큰일날뻔했네요..이렇게 배송이 오래걸렸으면 사는거 다시 생각했을거같아요 아쉽네요..\\n'),\n",
              " (5, '민트색상 예뻐요. 옆 손잡이는 거는 용도로도 사용되네요 ㅎㅎ\\n'),\n",
              " (2, '비추합니다 계란 뒤집을 때 완전 불편해요 ㅠㅠ 코팅도 묻어나고 보기엔 예쁘고 실용적으로 보였는데 생각보다 진짜 별로입니다.\\n'),\n",
              " (1,\n",
              "  '주문을 11월6에 시켰는데 11월16일에 배송이 왔네요 ㅎㅎㅎ 여기 회사측과는 전화도 안되고 아무런 연락을 받을수가 없으니 답답하신 분들은 다른곳에서 사시는거 추천드립니다\\n'),\n",
              " (2, '넉넉한 길이로 주문했는데도 안 맞네요 별로예요\\n'),\n",
              " (2, '보폴이 계속 때처럼 나오다가 지금은 안나네요~\\n'),\n",
              " (2,\n",
              "  '110인데 전문속옷브랜드 위생팬티105보다 작은듯해요. 불편해요. 밴딩부분이 다 신축성없는 일반실로 되어있어 빅사이즈임에도 빅사이즈같지않아요. 입고벗을때 편하게 밴딩부분이 늘어나고 입었을때도 밴딩이 잡아주어야하는데 말이죠.\\n')]"
            ]
          },
          "metadata": {},
          "execution_count": 6
        }
      ]
    },
    {
      "cell_type": "code",
      "source": [
        "# Kiwi 형태소 분석기 기반의 토크나이저입니다.\n",
        "class KoreanTokenizer:\n",
        "    def __init__(self, kiwi, allowed_tags:list = None, banned_tags:list = None, stopwords:list = None):\n",
        "        self.kiwi = kiwi\n",
        "        assert allowed_tags is None or banned_tags is None, 'allowed_tags and banned_tags cannot be used at the same time.'\n",
        "        self.allowed_tags = set(allowed_tags) if allowed_tags is not None else None\n",
        "        self.banned_tags = set(banned_tags) if banned_tags is not None else None\n",
        "        self.stopwords = set(stopwords or [])\n",
        "\n",
        "    def __call__(self, texts):\n",
        "        for tokens in self.kiwi.tokenize(text for text, _ in texts):\n",
        "            if self.allowed_tags is not None:\n",
        "                tokens = [(token.tagged_form, token.start, token.len) for token in tokens if token.tag in self.allowed_tags and token.tagged_form not in self.stopwords]\n",
        "            elif self.banned_tags is not None:\n",
        "                tokens = [(token.tagged_form, token.start, token.len) for token in tokens if token.tag not in self.banned_tags and token.tagged_form not in self.stopwords]\n",
        "            else:\n",
        "                tokens = [(token.tagged_form, token.start, token.len) for token in tokens if token.tagged_form not in self.stopwords]\n",
        "            yield tokens"
      ],
      "metadata": {
        "id": "Acg_Ovw_rXZ0",
        "colab": {
          "base_uri": "https://localhost:8080/"
        },
        "outputId": "1a960b21-27f5-4279-e108-08f0e44df821"
      },
      "execution_count": null,
      "outputs": [
        {
          "output_type": "stream",
          "name": "stderr",
          "text": [
            "/usr/local/lib/python3.10/dist-packages/ipykernel/ipkernel.py:283: DeprecationWarning: `should_run_async` will not call `transform_cell` automatically in the future. Please pass the result to `transformed_cell` argument and any exception that happen during thetransform in `preprocessing_exc_tuple` in IPython 7.17 and above.\n",
            "  and should_run_async(code)\n"
          ]
        }
      ]
    },
    {
      "cell_type": "code",
      "source": [
        "# 형태소 분석기의 품사 태그에 관해서는\n",
        "# https://github.com/bab2min/kiwipiepy?tab=readme-ov-file#%ED%92%88%EC%82%AC-%ED%83%9C%EA%B7%B8\n",
        "# 를 참조해주세요.\n",
        "tokenizer = KoreanTokenizer(\n",
        "    kiwi,\n",
        "    banned_tags=['EC', 'EF', 'ETN', 'EP', 'ETM',\n",
        "                 'SF', 'SP', 'SS', 'SSO', 'SSC', 'SE', 'SO', 'SW', 'SB',\n",
        "                 'Z_CODA',\n",
        "                 'JKS', 'JKC', 'JKO', 'JKG', 'JC', 'JKB', 'JKV', 'JKV', 'JKQ', 'JX', 'XSN',\n",
        "                 'XSV', 'XSA',\n",
        "                 'VCP', 'VCN', 'VX'],\n",
        "    stopwords=['하/VV', '되/VV']\n",
        ")"
      ],
      "metadata": {
        "id": "AeqoIeq27dhB",
        "colab": {
          "base_uri": "https://localhost:8080/"
        },
        "outputId": "b3858310-fd0c-44ab-a369-745192def73a"
      },
      "execution_count": null,
      "outputs": [
        {
          "output_type": "stream",
          "name": "stderr",
          "text": [
            "/usr/local/lib/python3.10/dist-packages/ipykernel/ipkernel.py:283: DeprecationWarning: `should_run_async` will not call `transform_cell` automatically in the future. Please pass the result to `transformed_cell` argument and any exception that happen during thetransform in `preprocessing_exc_tuple` in IPython 7.17 and above.\n",
            "  and should_run_async(code)\n"
          ]
        }
      ]
    },
    {
      "cell_type": "code",
      "source": [
        "# 토크나이저의 생성 결과 10개를 샘플로 출력합니다.\n",
        "tokenized_samples = list(tokenizer((sent, None) for score, sent in tqdm(docs[:10])))"
      ],
      "metadata": {
        "colab": {
          "base_uri": "https://localhost:8080/"
        },
        "id": "MVpCYmfG3u0t",
        "outputId": "2f9b895c-d083-4db1-e143-e27bb29a3784"
      },
      "execution_count": null,
      "outputs": [
        {
          "output_type": "stream",
          "name": "stderr",
          "text": [
            "/usr/local/lib/python3.10/dist-packages/ipykernel/ipkernel.py:283: DeprecationWarning: `should_run_async` will not call `transform_cell` automatically in the future. Please pass the result to `transformed_cell` argument and any exception that happen during thetransform in `preprocessing_exc_tuple` in IPython 7.17 and above.\n",
            "  and should_run_async(code)\n",
            "100%|██████████| 10/10 [00:00<00:00, 15.11it/s]\n"
          ]
        }
      ]
    },
    {
      "cell_type": "code",
      "source": [
        "tokenized_samples[:10]"
      ],
      "metadata": {
        "colab": {
          "base_uri": "https://localhost:8080/"
        },
        "id": "WAsVMnVc527S",
        "outputId": "0a6c010a-794b-492f-aad3-d3bd29a6cc11"
      },
      "execution_count": null,
      "outputs": [
        {
          "output_type": "stream",
          "name": "stderr",
          "text": [
            "/usr/local/lib/python3.10/dist-packages/ipykernel/ipkernel.py:283: DeprecationWarning: `should_run_async` will not call `transform_cell` automatically in the future. Please pass the result to `transformed_cell` argument and any exception that happen during thetransform in `preprocessing_exc_tuple` in IPython 7.17 and above.\n",
            "  and should_run_async(code)\n"
          ]
        },
        {
          "output_type": "execute_result",
          "data": {
            "text/plain": [
              "[[('배/NNP', 0, 1), ('공/NNG', 1, 1), ('빠르/VA', 2, 2), ('굿/NNG', 6, 1)],\n",
              " [('택배/NNG', 0, 2),\n",
              "  ('엉망/NNG', 4, 2),\n",
              "  ('저희/NP', 10, 2),\n",
              "  ('집/NNG', 12, 1),\n",
              "  ('밑/NNG', 14, 1),\n",
              "  ('층/NNG', 16, 1),\n",
              "  ('말/NNG', 19, 1),\n",
              "  ('없이/MAG', 21, 2),\n",
              "  ('놔두/VV', 24, 2),\n",
              "  ('가/VV', 27, 1)],\n",
              " [('아주/MAG', 0, 2),\n",
              "  ('좋/VA', 2, 1),\n",
              "  ('바지/NNG', 6, 2),\n",
              "  ('정말/MAG', 9, 2),\n",
              "  ('좋/VA', 12, 1),\n",
              "  ('2/SN', 15, 1),\n",
              "  ('개/NNB', 16, 1),\n",
              "  ('더/MAG', 18, 1),\n",
              "  ('구매/NNG', 20, 2),\n",
              "  ('이/MM', 26, 1),\n",
              "  ('가격/NNG', 27, 2),\n",
              "  ('대/XPN', 31, 1),\n",
              "  ('박/NNG', 32, 1),\n",
              "  ('바느질/NNG', 38, 3),\n",
              "  ('조금/MAG', 43, 2),\n",
              "  ('엉성/XR', 46, 2),\n",
              "  ('편하/VA', 55, 2),\n",
              "  ('가성비/NNG', 59, 3),\n",
              "  ('최고/NNG', 63, 2)],\n",
              " [('선물/NNG', 0, 2),\n",
              "  ('빨리/MAG', 6, 2),\n",
              "  ('받/VV-R', 9, 1),\n",
              "  ('전달/NNG', 13, 2),\n",
              "  ('상품/NNG', 22, 2),\n",
              "  ('머/IC', 29, 1),\n",
              "  ('그/MM', 30, 1),\n",
              "  ('컵/NNG', 31, 1),\n",
              "  ('오/VV', 34, 1),\n",
              "  ('당황/NNG', 37, 2),\n",
              "  ('전화/NNG', 45, 2),\n",
              "  ('바로/MAG', 51, 2),\n",
              "  ('주/VV', 53, 1),\n",
              "  ('배송/NNG', 60, 2),\n",
              "  ('누락/NNG', 64, 2),\n",
              "  ('확인/NNG', 75, 2),\n",
              "  ('안/MAG', 77, 1),\n",
              "  ('바로/MAG', 81, 2),\n",
              "  ('선물/NNG', 84, 2),\n",
              "  ('큰일/NNG', 90, 2),\n",
              "  ('나/VV', 92, 1),\n",
              "  ('뻔/NNB', 93, 1),\n",
              "  ('이렇/VA', 99, 2),\n",
              "  ('배송/NNG', 103, 2),\n",
              "  ('오래/MAG', 107, 2),\n",
              "  ('걸리/VV', 109, 2),\n",
              "  ('살/VV', 114, 1),\n",
              "  ('거/NNB', 116, 1),\n",
              "  ('다시/MAG', 118, 2),\n",
              "  ('생각/NNG', 121, 2),\n",
              "  ('거/NNB', 125, 1),\n",
              "  ('같/VA', 126, 1),\n",
              "  ('아/IC', 130, 1),\n",
              "  ('쉽/VA-I', 131, 1)],\n",
              " [('민트/NNG', 0, 2),\n",
              "  ('색상/NNG', 2, 2),\n",
              "  ('예쁘/VA', 5, 2),\n",
              "  ('옆/NNG', 10, 1),\n",
              "  ('손잡이/NNG', 12, 3),\n",
              "  ('걸/VV', 17, 1),\n",
              "  ('용도/NNG', 20, 2),\n",
              "  ('사용/NNG', 25, 2)],\n",
              " [('비/XPN', 0, 1),\n",
              "  ('추하/VA', 1, 2),\n",
              "  ('계란/NNG', 6, 2),\n",
              "  ('뒤집/VV-R', 9, 2),\n",
              "  ('때/NNG', 13, 1),\n",
              "  ('완전/NNG', 15, 2),\n",
              "  ('불편/NNG', 18, 2),\n",
              "  ('코팅/NNG', 26, 2),\n",
              "  ('묻어나/VV', 30, 3),\n",
              "  ('보/VV', 35, 1),\n",
              "  ('예쁘/VA', 39, 2),\n",
              "  ('실용/NNG', 43, 2),\n",
              "  ('보이/VV', 49, 2),\n",
              "  ('생각/NNG', 54, 2),\n",
              "  ('진짜/MAG', 59, 2),\n",
              "  ('별로/MAG', 62, 2)],\n",
              " [('주문/NNG', 0, 2),\n",
              "  ('11/SN', 4, 2),\n",
              "  ('월/NNB', 6, 1),\n",
              "  ('6/SN', 7, 1),\n",
              "  ('시키/VV', 10, 2),\n",
              "  ('11/SN', 15, 2),\n",
              "  ('월/NNB', 17, 1),\n",
              "  ('16/SN', 18, 2),\n",
              "  ('일/NNB', 20, 1),\n",
              "  ('배송/NNG', 23, 2),\n",
              "  ('오/VV', 27, 1),\n",
              "  ('여기/NP', 35, 2),\n",
              "  ('회사/NNG', 38, 2),\n",
              "  ('측/NNB', 40, 1),\n",
              "  ('전화/NNG', 44, 2),\n",
              "  ('안/MAG', 48, 1),\n",
              "  ('아무런/MM', 52, 3),\n",
              "  ('연락/NNG', 56, 2),\n",
              "  ('받/VV-R', 60, 1),\n",
              "  ('수/NNB', 62, 1),\n",
              "  ('없/VA', 65, 1),\n",
              "  ('답답/XR', 69, 2),\n",
              "  ('분/NNB', 74, 1),\n",
              "  ('다른/MM', 78, 2),\n",
              "  ('곳/NNG', 80, 1),\n",
              "  ('살/VV', 84, 1),\n",
              "  ('거/NNB', 87, 1),\n",
              "  ('추천/NNG', 89, 2),\n",
              "  ('드리/VV', 91, 2)],\n",
              " [('넉넉/XR', 0, 2),\n",
              "  ('길이/NNG', 4, 2),\n",
              "  ('주문/NNG', 8, 2),\n",
              "  ('안/MAG', 15, 1),\n",
              "  ('맞/VV', 17, 1),\n",
              "  ('별로/MAG', 21, 2)],\n",
              " [('보/NNG', 0, 1),\n",
              "  ('폴/NNG', 1, 1),\n",
              "  ('계속/MAG', 4, 2),\n",
              "  ('때/NNG', 7, 1),\n",
              "  ('나오/VV', 11, 2),\n",
              "  ('지금/NNG', 16, 2),\n",
              "  ('안/MAG', 20, 1),\n",
              "  ('나/VV', 21, 1)],\n",
              " [('110/SN', 0, 3),\n",
              "  ('전문/NNG', 6, 2),\n",
              "  ('속옷/NNG', 8, 2),\n",
              "  ('브랜드/NNG', 10, 3),\n",
              "  ('위생/NNG', 14, 2),\n",
              "  ('팬티/NNG', 16, 2),\n",
              "  ('105/SN', 18, 3),\n",
              "  ('작/VA', 24, 1),\n",
              "  ('듯/NNB', 26, 1),\n",
              "  ('불편/NNG', 31, 2),\n",
              "  ('밴딩/NNG', 37, 2),\n",
              "  ('부분/NNG', 39, 2),\n",
              "  ('다/MAG', 43, 1),\n",
              "  ('신축/NNG', 45, 2),\n",
              "  ('없/VA', 48, 1),\n",
              "  ('일반/NNG', 51, 2),\n",
              "  ('실/NNG', 53, 1),\n",
              "  ('빅/NNG', 61, 1),\n",
              "  ('사이즈/NNG', 62, 3),\n",
              "  ('빅/NNG', 69, 1),\n",
              "  ('사이즈/NNG', 70, 3),\n",
              "  ('같/VA', 73, 1),\n",
              "  ('입/VV-R', 80, 1),\n",
              "  ('벗/VV-R', 82, 1),\n",
              "  ('때/NNG', 84, 1),\n",
              "  ('편하/VA', 86, 2),\n",
              "  ('배/VV', 90, 1),\n",
              "  ('딩/MAG', 91, 1),\n",
              "  ('부분/NNG', 92, 2),\n",
              "  ('늘어나/VV', 96, 3),\n",
              "  ('입/VV-R', 101, 1),\n",
              "  ('때/NNG', 104, 1),\n",
              "  ('밴딩이/NNG', 107, 3),\n",
              "  ('잡/VV-R', 111, 1),\n",
              "  ('말/NNG', 120, 1)]]"
            ]
          },
          "metadata": {},
          "execution_count": 10
        }
      ]
    },
    {
      "cell_type": "code",
      "source": [
        "# 토픽 모델링에 사용할 문서들 전체를 Corpus로 묶습니다.\n",
        "corpus = tp.utils.Corpus(tokenizer=tokenizer)\n",
        "# 실습 시간 관계상 10000개 문서만 사용합니다.\n",
        "# 문서가 본문과 평점이 함께 들어가 있으므로 평점은 numeric_metadata로 등록합니다.\n",
        "corpus.process((content, None, {'numeric_metadata': [score]}) for score, content in tqdm(docs[:10000]))"
      ],
      "metadata": {
        "colab": {
          "base_uri": "https://localhost:8080/"
        },
        "id": "XX-ybVaIsKGK",
        "outputId": "d2f71207-285b-4be9-9c46-49e9e2eaac23"
      },
      "execution_count": null,
      "outputs": [
        {
          "output_type": "stream",
          "name": "stderr",
          "text": [
            "/usr/local/lib/python3.10/dist-packages/ipykernel/ipkernel.py:283: DeprecationWarning: `should_run_async` will not call `transform_cell` automatically in the future. Please pass the result to `transformed_cell` argument and any exception that happen during thetransform in `preprocessing_exc_tuple` in IPython 7.17 and above.\n",
            "  and should_run_async(code)\n",
            "100%|██████████| 10000/10000 [00:14<00:00, 687.08it/s]\n"
          ]
        },
        {
          "output_type": "execute_result",
          "data": {
            "text/plain": [
              "10000"
            ]
          },
          "metadata": {},
          "execution_count": 11
        }
      ]
    },
    {
      "cell_type": "code",
      "source": [
        "# LDA 토픽 모델을 생성합니다.\n",
        "# k: 주제의 개수. 연구자가 적절한 수치로 선택해야 합니다. 이에 대해서는 별도로 더 설명할 예정입니다.\n",
        "# min_df: 이 숫자보다 적은 개수의 문서에만 등장하는 어휘는 학습에서 배제시킵니다.\n",
        "#         극히 소수의 문서에서만 등장하는 어휘는 최종 결과에 노이즈로만 작용하므로 배제하는게 좋습니다.\n",
        "# tw: 용어 가중치 부여 방법. tp.TermWeight.ONE, tp.TermWeight.IDF, tp.TermWeight.PMI 중 하나를 선택할 수 있습니다.\n",
        "#     생략할 경우 tp.TermWeight.ONE이 기본값으로 선택됩니다.\n",
        "model = tp.LDAModel(k=20, min_df=5, tw=tp.TermWeight.PMI, corpus=corpus)"
      ],
      "metadata": {
        "colab": {
          "base_uri": "https://localhost:8080/"
        },
        "id": "MNS_zKFKz8vD",
        "outputId": "c265629e-9e29-4fe5-98c9-fca36ff42e04"
      },
      "execution_count": null,
      "outputs": [
        {
          "output_type": "stream",
          "name": "stderr",
          "text": [
            "/usr/local/lib/python3.10/dist-packages/ipykernel/ipkernel.py:283: DeprecationWarning: `should_run_async` will not call `transform_cell` automatically in the future. Please pass the result to `transformed_cell` argument and any exception that happen during thetransform in `preprocessing_exc_tuple` in IPython 7.17 and above.\n",
            "  and should_run_async(code)\n"
          ]
        }
      ]
    },
    {
      "cell_type": "code",
      "source": [
        "model.train(0)\n",
        "model.summary(topic_word_top_n=10)"
      ],
      "metadata": {
        "colab": {
          "base_uri": "https://localhost:8080/"
        },
        "outputId": "f53e6d1d-fb5e-4ef7-d05e-0dc94154175c",
        "id": "ror7LVo4z8vD"
      },
      "execution_count": null,
      "outputs": [
        {
          "output_type": "stream",
          "name": "stdout",
          "text": [
            "<Basic Info>\n",
            "| LDAModel (current version: 0.12.7)\n",
            "| 10000 docs, 98015 words\n",
            "| Total Vocabs: 9560, Used Vocabs: 2331\n",
            "| Entropy of words: 6.44311\n",
            "| Entropy of term-weighted words: 7.05097\n",
            "| Removed Vocabs: <NA>\n",
            "|\n",
            "<Training Info>\n",
            "| Iterations: 0, Burn-in steps: 0\n",
            "| Optimization Interval: 10\n",
            "| Log-likelihood per word: -9.53929\n",
            "|\n",
            "<Initial Parameters>\n",
            "| tw: TermWeight.PMI\n",
            "| min_cf: 0 (minimum collection frequency of words)\n",
            "| min_df: 5 (minimum document frequency of words)\n",
            "| rm_top: 0 (the number of top words to be removed)\n",
            "| k: 20 (the number of topics between 1 ~ 32767)\n",
            "| alpha: [0.1] (hyperparameter of Dirichlet distribution for document-topic, given as a single `float` in case of symmetric prior and as a list with length `k` of `float` in case of asymmetric prior.)\n",
            "| eta: 0.01 (hyperparameter of Dirichlet distribution for topic-word)\n",
            "| seed: 553662792 (random seed)\n",
            "| trained in version 0.12.7\n",
            "|\n",
            "<Parameters>\n",
            "| alpha (Dirichlet prior on the per-document topic distributions)\n",
            "|  [0.1 0.1 0.1 0.1 0.1 0.1 0.1 0.1 0.1 0.1 0.1 0.1 0.1 0.1 0.1 0.1 0.1 0.1\n",
            "|   0.1 0.1]\n",
            "| eta (Dirichlet prior on the per-topic word distribution)\n",
            "|  0.01\n",
            "|\n",
            "<Topics>\n",
            "| #0 (4991) : 좋/VA 구매/NNG 배송/NNG 너무/MAG 사/VV 쓰/VV 잘/MAG 것/NNB 재/XPN 거/NNB\n",
            "| #1 (4934) : 좋/VA 잘/MAG 쓰/VV 구매/NNG 너무/MAG 배송/NNG 안/MAG 것/NNB 거/NNB 같/VA\n",
            "| #2 (4890) : 좋/VA 잘/MAG 쓰/VV 배송/NNG 거/NNB 너무/MAG 구매/NNG 안/MAG 사용/NNG 같/VA\n",
            "| #3 (4869) : 좋/VA 잘/MAG 너무/MAG 배송/NNG 구매/NNG 안/MAG 재/XPN 먹/VV 쓰/VV 거/NNB\n",
            "| #4 (4886) : 좋/VA 구매/NNG 잘/MAG 배송/NNG 재/XPN 거/NNB 먹/VV 너무/MAG 안/MAG 쓰/VV\n",
            "| #5 (4933) : 좋/VA 구매/NNG 잘/MAG 거/NNB 쓰/VV 먹/VV 배송/NNG 사/VV 안/MAG 너무/MAG\n",
            "| #6 (4925) : 좋/VA 잘/MAG 배송/NNG 구매/NNG 거/NNB 너무/MAG 재/XPN 사/VV 안/MAG 쓰/VV\n",
            "| #7 (5035) : 좋/VA 구매/NNG 잘/MAG 안/MAG 배송/NNG 너무/MAG 쓰/VV 재/XPN 사/VV 먹/VV\n",
            "| #8 (4850) : 좋/VA 배송/NNG 안/MAG 구매/NNG 잘/MAG 쓰/VV 것/NNB 거/NNB 사/VV 먹/VV\n",
            "| #9 (4863) : 좋/VA 구매/NNG 잘/MAG 안/MAG 사/VV 너무/MAG 쓰/VV 배송/NNG 먹/VV 거/NNB\n",
            "| #10 (4914) : 좋/VA 구매/NNG 쓰/VV 잘/MAG 너무/MAG 같/VA 거/NNB 안/MAG 배송/NNG 재/XPN\n",
            "| #11 (4940) : 좋/VA 잘/MAG 너무/MAG 사/VV 구매/NNG 배송/NNG 쓰/VV 거/NNB 빠르/VA 안/MAG\n",
            "| #12 (4818) : 잘/MAG 좋/VA 쓰/VV 안/MAG 배송/NNG 거/NNB 구매/NNG 같/VA 빠르/VA 너무/MAG\n",
            "| #13 (4872) : 잘/MAG 좋/VA 구매/NNG 배송/NNG 쓰/VV 거/NNB 안/MAG 먹/VV 것/NNB 너무/MAG\n",
            "| #14 (4910) : 좋/VA 쓰/VV 구매/NNG 잘/MAG 거/NNB 너무/MAG 배송/NNG 사/VV 가격/NNG 안/MAG\n",
            "| #15 (4940) : 좋/VA 너무/MAG 쓰/VV 같/VA 잘/MAG 구매/NNG 재/XPN 거/NNB 먹/VV 안/MAG\n",
            "| #16 (4800) : 좋/VA 잘/MAG 너무/MAG 구매/NNG 배송/NNG 쓰/VV 안/MAG 먹/VV 거/NNB 좀/MAG\n",
            "| #17 (4982) : 좋/VA 잘/MAG 구매/NNG 배송/NNG 거/NNB 너무/MAG 쓰/VV 것/NNB 먹/VV 사용/NNG\n",
            "| #18 (4912) : 좋/VA 구매/NNG 잘/MAG 쓰/VV 너무/MAG 배송/NNG 것/NNB 안/MAG 재/XPN 거/NNB\n",
            "| #19 (4751) : 좋/VA 잘/MAG 쓰/VV 구매/NNG 배송/NNG 없/VA 너무/MAG 사/VV 안/MAG 거/NNB\n",
            "|\n",
            "\n"
          ]
        },
        {
          "output_type": "stream",
          "name": "stderr",
          "text": [
            "/usr/local/lib/python3.10/dist-packages/ipykernel/ipkernel.py:283: DeprecationWarning: `should_run_async` will not call `transform_cell` automatically in the future. Please pass the result to `transformed_cell` argument and any exception that happen during thetransform in `preprocessing_exc_tuple` in IPython 7.17 and above.\n",
            "  and should_run_async(code)\n"
          ]
        }
      ]
    },
    {
      "cell_type": "code",
      "source": [
        "model.train(1000, workers=2, show_progress=True)"
      ],
      "metadata": {
        "colab": {
          "base_uri": "https://localhost:8080/"
        },
        "id": "gSMjHVGa6shZ",
        "outputId": "37fad55d-00d0-45d1-c197-0b8a3937b349"
      },
      "execution_count": null,
      "outputs": [
        {
          "output_type": "stream",
          "name": "stderr",
          "text": [
            "/usr/local/lib/python3.10/dist-packages/ipykernel/ipkernel.py:283: DeprecationWarning: `should_run_async` will not call `transform_cell` automatically in the future. Please pass the result to `transformed_cell` argument and any exception that happen during thetransform in `preprocessing_exc_tuple` in IPython 7.17 and above.\n",
            "  and should_run_async(code)\n",
            "Iteration: 100%|██████████| 1000/1000 [00:21<00:00, 46.40it/s, LLPW: -6.525726]\n"
          ]
        }
      ]
    },
    {
      "cell_type": "code",
      "source": [
        "model.summary(topic_word_top_n=10)"
      ],
      "metadata": {
        "colab": {
          "base_uri": "https://localhost:8080/"
        },
        "id": "NJRZxVdR9zVW",
        "outputId": "4a707832-604f-46a2-a072-f2644dc940cb"
      },
      "execution_count": null,
      "outputs": [
        {
          "output_type": "stream",
          "name": "stdout",
          "text": [
            "<Basic Info>\n",
            "| LDAModel (current version: 0.12.7)\n",
            "| 10000 docs, 98015 words\n",
            "| Total Vocabs: 9560, Used Vocabs: 2331\n",
            "| Entropy of words: 6.44311\n",
            "| Entropy of term-weighted words: 7.05097\n",
            "| Removed Vocabs: <NA>\n",
            "|\n",
            "<Training Info>\n",
            "| Iterations: 1000, Burn-in steps: 0\n",
            "| Optimization Interval: 10\n",
            "| Log-likelihood per word: -6.52502\n",
            "|\n",
            "<Initial Parameters>\n",
            "| tw: TermWeight.PMI\n",
            "| min_cf: 0 (minimum collection frequency of words)\n",
            "| min_df: 5 (minimum document frequency of words)\n",
            "| rm_top: 0 (the number of top words to be removed)\n",
            "| k: 20 (the number of topics between 1 ~ 32767)\n",
            "| alpha: [0.1] (hyperparameter of Dirichlet distribution for document-topic, given as a single `float` in case of symmetric prior and as a list with length `k` of `float` in case of asymmetric prior.)\n",
            "| eta: 0.01 (hyperparameter of Dirichlet distribution for topic-word)\n",
            "| seed: 553662792 (random seed)\n",
            "| trained in version 0.12.7\n",
            "|\n",
            "<Parameters>\n",
            "| alpha (Dirichlet prior on the per-document topic distributions)\n",
            "|  [0.02355038 0.00583665 0.00730349 0.03565978 0.00429845 0.02054865\n",
            "|   0.00633787 0.00753585 0.00610366 0.01229211 0.01261455 0.00444119\n",
            "|   0.00516087 0.00840269 0.00544497 0.00694882 0.03289804 0.0105128\n",
            "|   0.01408367 0.00444965]\n",
            "| eta (Dirichlet prior on the per-topic word distribution)\n",
            "|  0.01\n",
            "|\n",
            "<Topics>\n",
            "| #0 (11178) : 먹/VV 맛/NNG 구매/NNG 맛있/VA 좋/VA 재/XPN 잘/MAG 거/NNB 주문/NNG 너무/MAG\n",
            "| #1 (2133) : 원/NNB 만/NR 천/NR 좋/VA 침대/NNG 딱/MAG 정리/NNG 배송비/NNG 2/SN 1/SN\n",
            "| #2 (3173) : 먹/VV 고구마/NNG 맛/NNG 없/VA 많/VA 양/NNG 거/NNB 것/NNB 다/MAG 맛있/VA\n",
            "| #3 (13170) : 구매/NNG 배송/NNG 좋/VA 재/XPN 빠르/VA 잘/MAG 만족/NNG 쓰/VV 가격/NNG 감사/NNG\n",
            "| #4 (1201) : 티/NNG 입/VV-R 빠지/VV 착용감/NNG 옷/NNG 나/VV 면/NNG 입히/VV 털/NNG 길/VA\n",
            "| #5 (8053) : 좋/VA 들/VV 이쁘/VA 맘/NNG 예쁘/VA 잘/MAG 너무/MAG 만족/NNG 마음/NNG 배송/NNG\n",
            "| #6 (2200) : 안/MAG 스럽/XSA-I 그냥/MAG 기한/NNG 유통/NNG 신발/NNG 곰팡이/NNG 그렇/VA 신/VV 촌/NNG\n",
            "| #7 (3153) : 냄새/NNG 쓰/VV 같/VA 번/NNB 작/VA 것/NNB 물/NNG 한/MM 거/NNB 만족/NNG\n",
            "| #8 (2165) : 설치/NNG 나/VV 안/MAG 선물/NNG 맞/VV 사/VV 친구/NNG 이거/NP 여자/NNG 집/NNG\n",
            "| #9 (5423) : 작/VA 크/VA 너무/MAG 사이즈/NNG 생각/NNG 불편/NNG 좋/VA 마감/NNG 안/MAG 들/VV\n",
            "| #10 (5063) : 좋/VA 사이즈/NNG 같/VA 아프/VA 너무/MAG 맞/VV 크/VA 잘/MAG 가격/NNG 생각/NNG\n",
            "| #11 (1309) : 일/NR 마리/NNB 한/MM 사용/NNG 1/SN 아깝/VA-I 정도/NNG 고장/NNG 끊어지/VV 나/VV\n",
            "| #12 (1300) : 먹/VV 맛/NNG 포장/NNG 맛있/VA 솜/NNG 좋/VA 깜짝/MAG 녹/VV 음/IC 계속/MAG\n",
            "| #13 (3318) : 효과/NNG 사용/NNG 아직/MAG 쓰/VV 좋/VA 모르/VV 없/VA 같/VA 잘/MAG 바르/VV\n",
            "| #14 (1410) : 그저/MAG 너무/MAG 좋/VA 느낌/NNG 쿠션/NNG 그렇/VA 촉촉하/VA 피부/NNG 건조/NNG 색/NNG\n",
            "| #15 (2735) : 먹/VV 맛있/VA 사/VV 구매/NNG 다/MAG 썩/VV 맛없/VA 너무/MAG 뚜껑/NNG 쓰레기/NNG\n",
            "| #16 (18777) : 안/MAG 오/VV 그냥/MAG 거/NNB 반품/NNG 보내/VV 쓰/VV 없/VA 제품/NNG 다/MAG\n",
            "| #17 (4901) : 배송/NNG 일/NNB 걸리/VV 받/VV-R 주문/NNG 오/VV 느리/VA 도착/NNG 3/SN 기사/NNG\n",
            "| #18 (6261) : 붙이/VV 떨어지/VV 부분/NNG 약하/VA 잘/MAG 안/MAG 불편/NNG 붙/VV 쓰/VV 물/NNG\n",
            "| #19 (1092) : 개/NNB 1/SN 그냥/MAG 가격/NNG 불량/NNG 세트/NNG 하나/NR 소음/NNG 빼/VV 칫솔/NNG\n",
            "|\n",
            "\n"
          ]
        },
        {
          "output_type": "stream",
          "name": "stderr",
          "text": [
            "/usr/local/lib/python3.10/dist-packages/ipykernel/ipkernel.py:283: DeprecationWarning: `should_run_async` will not call `transform_cell` automatically in the future. Please pass the result to `transformed_cell` argument and any exception that happen during thetransform in `preprocessing_exc_tuple` in IPython 7.17 and above.\n",
            "  and should_run_async(code)\n"
          ]
        }
      ]
    },
    {
      "cell_type": "code",
      "source": [
        "topic_term_dists = np.stack([model.get_topic_word_dist(k) for k in range(model.k)])\n",
        "doc_topic_dists = np.stack([doc.get_topic_dist() for doc in model.docs])\n",
        "doc_topic_dists /= doc_topic_dists.sum(axis=1, keepdims=True)\n",
        "doc_lengths = np.array([len(doc.words) for doc in model.docs])\n",
        "vocab = list(model.used_vocabs)\n",
        "term_frequency = model.used_vocab_freq\n",
        "\n",
        "# pyLDAvis를 이용한 시각화 결과를 생성합니다.\n",
        "# 생성된 파일은 웹 브라우저를 통해 살펴볼 수 있습니다.\n",
        "prepared_data = pyLDAvis.prepare(\n",
        "    topic_term_dists,\n",
        "    doc_topic_dists,\n",
        "    doc_lengths,\n",
        "    vocab,\n",
        "    term_frequency,\n",
        "    start_index=0,\n",
        "    sort_topics=False\n",
        ")\n",
        "pyLDAvis.save_html(prepared_data, 'ldavis.html')\n"
      ],
      "metadata": {
        "colab": {
          "base_uri": "https://localhost:8080/"
        },
        "id": "JP13PshH0Bf3",
        "outputId": "7b95b809-cbc3-494f-ea98-4ede966d91d0"
      },
      "execution_count": null,
      "outputs": [
        {
          "output_type": "stream",
          "name": "stderr",
          "text": [
            "/usr/local/lib/python3.10/dist-packages/ipykernel/ipkernel.py:283: DeprecationWarning: `should_run_async` will not call `transform_cell` automatically in the future. Please pass the result to `transformed_cell` argument and any exception that happen during thetransform in `preprocessing_exc_tuple` in IPython 7.17 and above.\n",
            "  and should_run_async(code)\n"
          ]
        }
      ]
    }
  ]
}