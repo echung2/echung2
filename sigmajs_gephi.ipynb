{
  "nbformat": 4,
  "nbformat_minor": 0,
  "metadata": {
    "colab": {
      "provenance": [],
      "toc_visible": true,
      "include_colab_link": true
    },
    "kernelspec": {
      "name": "python3",
      "display_name": "Python 3"
    },
    "language_info": {
      "name": "python"
    }
  },
  "cells": [
    {
      "cell_type": "markdown",
      "metadata": {
        "id": "view-in-github",
        "colab_type": "text"
      },
      "source": [
        "<a href=\"https://colab.research.google.com/github/echung2/echung2/blob/master/sigmajs_gephi.ipynb\" target=\"_parent\"><img src=\"https://colab.research.google.com/assets/colab-badge.svg\" alt=\"Open In Colab\"/></a>"
      ]
    },
    {
      "cell_type": "markdown",
      "metadata": {
        "id": "2Ay3oOaZ35R1"
      },
      "source": [
        "# sigma.js Colab에서 구동하기"
      ]
    },
    {
      "cell_type": "markdown",
      "metadata": {
        "id": "XHKsgMdM3-x4"
      },
      "source": [
        "### 웹 브라우저로 구동"
      ]
    },
    {
      "cell_type": "code",
      "metadata": {
        "colab": {
          "base_uri": "https://localhost:8080/"
        },
        "id": "-z8NI8LS3i47",
        "outputId": "02431343-6acd-4371-a74c-e12c6ad4dd46"
      },
      "source": [
        "# 업로드 후 압축 풀기\n",
        "!unzip network.zip"
      ],
      "execution_count": null,
      "outputs": [
        {
          "output_type": "stream",
          "text": [
            "Archive:  network.zip\n",
            "  inflating: config.json             \n",
            "   creating: css/\n",
            "  inflating: css/style.css           \n",
            "  inflating: css/tablet.css          \n",
            "  inflating: data.json               \n",
            "  inflating: htaccess_example        \n",
            "   creating: images/\n",
            "  inflating: images/blank.gif        \n",
            "  inflating: images/CC.png           \n",
            "  inflating: images/fancybox_loading.gif  \n",
            "  inflating: images/fancybox_sprite.png  \n",
            "  inflating: images/info.png         \n",
            "  inflating: images/jisc-logo-small.png  \n",
            "  inflating: images/oii.png          \n",
            "  inflating: images/oii_brand.png    \n",
            "  inflating: images/oii_text.png     \n",
            "  inflating: images/rainbow.png      \n",
            "  inflating: images/sprite.png       \n",
            "  inflating: images/zoom_in.png      \n",
            "  inflating: images/zoom_out.png     \n",
            "  inflating: images/zoom_reset.png   \n",
            "  inflating: index.html              \n",
            "   creating: js/\n",
            "  inflating: js/excanvas.js          \n",
            "   creating: js/fancybox/\n",
            "  inflating: js/fancybox/jquery.fancybox.css  \n",
            "  inflating: js/fancybox/jquery.fancybox.pack.js  \n",
            "   creating: js/jquery/\n",
            "  inflating: js/jquery/jquery.min.js  \n",
            "  inflating: js/main.js              \n",
            "   creating: js/sigma/\n",
            "  inflating: js/sigma/_sigma.min.js  \n",
            "  inflating: js/sigma/parseGexf_fin.js  \n",
            "  inflating: js/sigma/sigma.js       \n",
            "  inflating: js/sigma/sigma.min.js   \n",
            "  inflating: js/sigma/sigma.parseGexf.js  \n",
            "  inflating: js/sigma/sigma.parseJson.js  \n",
            "  inflating: README.txt              \n",
            "  inflating: web.config              \n"
          ],
          "name": "stdout"
        }
      ]
    },
    {
      "cell_type": "code",
      "metadata": {
        "colab": {
          "base_uri": "https://localhost:8080/",
          "height": 34
        },
        "id": "z13zS8GU3urp",
        "outputId": "359f38ae-c795-463f-e592-67cb970ef9ff"
      },
      "source": [
        "# 서버 주소 확인\n",
        "from google.colab.output import eval_js\n",
        "print(eval_js(\"google.colab.kernel.proxyPort(8000)\"))"
      ],
      "execution_count": null,
      "outputs": [
        {
          "output_type": "stream",
          "text": [
            "https://qww0keghvmi-496ff2e9c6d22116-8000-colab.googleusercontent.com/\n"
          ],
          "name": "stdout"
        }
      ]
    },
    {
      "cell_type": "code",
      "metadata": {
        "id": "bHYTqDsw3vH0"
      },
      "source": [
        "# 웹서버 구동\n",
        "!python -m http.server 8000"
      ],
      "execution_count": null,
      "outputs": []
    },
    {
      "cell_type": "markdown",
      "metadata": {
        "id": "tDdZbVfU3za3"
      },
      "source": [
        "### Colab 안에서 구동"
      ]
    },
    {
      "cell_type": "code",
      "metadata": {
        "id": "bp0Rqax54Ddk"
      },
      "source": [
        "from IPython.display import Javascript\n",
        "\n",
        "def show_port(port, height=400):\n",
        "  display(Javascript(\"\"\"\n",
        "  (async ()=>{\n",
        "    fm = document.createElement('iframe')\n",
        "    fm.src = await google.colab.kernel.proxyPort(%s)\n",
        "    fm.width = '95%%'\n",
        "    fm.height = '%d'\n",
        "    fm.frameBorder = 0\n",
        "    document.body.append(fm)\n",
        "  })();\n",
        "  \"\"\" % (port, height) ))"
      ],
      "execution_count": null,
      "outputs": []
    },
    {
      "cell_type": "code",
      "metadata": {
        "colab": {
          "base_uri": "https://localhost:8080/",
          "height": 422
        },
        "id": "Ur-yrgSy4Hpl",
        "outputId": "021c0c66-e77e-47d7-9da6-4c29a4dd3cdc"
      },
      "source": [
        "get_ipython().system_raw('python3 -m http.server 8888 &') \n",
        "show_port(8888)"
      ],
      "execution_count": null,
      "outputs": [
        {
          "output_type": "display_data",
          "data": {
            "application/javascript": [
              "\n",
              "  (async ()=>{\n",
              "    fm = document.createElement('iframe')\n",
              "    fm.src = await google.colab.kernel.proxyPort(8888)\n",
              "    fm.width = '95%'\n",
              "    fm.height = '400'\n",
              "    fm.frameBorder = 0\n",
              "    document.body.append(fm)\n",
              "  })();\n",
              "  "
            ],
            "text/plain": [
              "<IPython.core.display.Javascript object>"
            ]
          },
          "metadata": {
            "tags": []
          }
        }
      ]
    }
  ]
}