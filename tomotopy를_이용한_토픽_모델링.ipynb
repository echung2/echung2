{
  "nbformat": 4,
  "nbformat_minor": 0,
  "metadata": {
    "colab": {
      "provenance": [],
      "include_colab_link": true
    },
    "kernelspec": {
      "name": "python3",
      "display_name": "Python 3"
    },
    "language_info": {
      "name": "python"
    }
  },
  "cells": [
    {
      "cell_type": "markdown",
      "metadata": {
        "id": "view-in-github",
        "colab_type": "text"
      },
      "source": [
        "<a href=\"https://colab.research.google.com/github/echung2/echung2/blob/master/tomotopy%EB%A5%BC_%EC%9D%B4%EC%9A%A9%ED%95%9C_%ED%86%A0%ED%94%BD_%EB%AA%A8%EB%8D%B8%EB%A7%81.ipynb\" target=\"_parent\"><img src=\"https://colab.research.google.com/assets/colab-badge.svg\" alt=\"Open In Colab\"/></a>"
      ]
    },
    {
      "cell_type": "markdown",
      "source": [
        "# 2024 DH 겨울학교\n",
        "## tomotopy를 이용한 토픽 모델링\n",
        "\n",
        "강의 pdf:\n",
        "https://drive.google.com/file/d/1iAdeGV4b66eqrz_BhfM-vsLxXXHx4mYq/view?usp=drive_link\n",
        "\n",
        "실습 노트북\n",
        "\n",
        "*   다양한 토픽 모델 체험해보기: https://colab.research.google.com/drive/1hZmxd2RrHGfthPXzPNEIWUMXnlmfmugj\n",
        "*   역사 문서에 토픽 모델링 적용해보기: https://colab.research.google.com/drive/1CaQOZqtxWa0pZ_8mB8K-8xKUd_5Cv1Er\n",
        "*   토픽 모델링 결과 시각화하기: https://colab.research.google.com/drive/1QMHRkIERoxCMhtBlTXLCr9KDXLCYtODO\n",
        "*   토픽 모델링을 이용한 연구 동향 분석: https://colab.research.google.com/drive/1LGV1eKK3oeiAD-LhnsyUvVmYBKBKAaUB\n",
        "*   영어 데이터의 토픽 모델링: https://colab.research.google.com/drive/1o9uqQcK4gvKbIgBOkwnza-DifnLjP1CC\n",
        "\n",
        "실습 데이터셋\n",
        "*   naver_shopping.txt : https://drive.google.com/file/d/1UkmkPIMGMj7SUWb_uqhLeKepqwnRls3J/view?usp=drive_link\n",
        "*   sejong_silok.xlsx : https://drive.google.com/file/d/1YFxreuUzvipwNSEX5Yy643Cw78zWoOSI/view?usp=drive_link\n",
        "*   lis_journal.xlsx : https://drive.google.com/file/d/167I3u4spfGGyzvshgjPOaXqtn_bE74Xy/view?usp=drive_link\n"
      ],
      "metadata": {
        "id": "qL1cEJ-34jrV"
      }
    }
  ]
}