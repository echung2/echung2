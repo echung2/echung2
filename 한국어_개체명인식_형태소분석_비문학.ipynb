{
  "nbformat": 4,
  "nbformat_minor": 0,
  "metadata": {
    "colab": {
      "provenance": [],
      "toc_visible": true,
      "include_colab_link": true
    },
    "kernelspec": {
      "name": "python3",
      "display_name": "Python 3"
    }
  },
  "cells": [
    {
      "cell_type": "markdown",
      "metadata": {
        "id": "view-in-github",
        "colab_type": "text"
      },
      "source": [
        "<a href=\"https://colab.research.google.com/github/echung2/echung2/blob/master/%ED%95%9C%EA%B5%AD%EC%96%B4_%EA%B0%9C%EC%B2%B4%EB%AA%85%EC%9D%B8%EC%8B%9D_%ED%98%95%ED%83%9C%EC%86%8C%EB%B6%84%EC%84%9D_%EB%B9%84%EB%AC%B8%ED%95%99.ipynb\" target=\"_parent\"><img src=\"https://colab.research.google.com/assets/colab-badge.svg\" alt=\"Open In Colab\"/></a>"
      ]
    },
    {
      "cell_type": "markdown",
      "metadata": {
        "id": "BSXX0oU9ynVX"
      },
      "source": [
        "# 한국어 형태소분석/개체명인식 (비문학)"
      ]
    },
    {
      "cell_type": "markdown",
      "metadata": {
        "id": "DJSrruLmMOsR"
      },
      "source": [
        "## 0. 설치"
      ]
    },
    {
      "cell_type": "code",
      "metadata": {
        "id": "FRgXqsLIKMpY"
      },
      "source": [
        "# 필요한 패키지 설치\n",
        "!pip install -U -q kiwipiepy pororo"
      ],
      "execution_count": null,
      "outputs": []
    },
    {
      "cell_type": "markdown",
      "metadata": {
        "id": "F1Lo3oTBxy-3"
      },
      "source": [
        "## 1. 형태소 분석\n",
        "kiwi 형태소 분석기 : https://bab2min.github.io/kiwipiepy/"
      ]
    },
    {
      "cell_type": "code",
      "metadata": {
        "id": "_jHYt6Vvx17i",
        "colab": {
          "base_uri": "https://localhost:8080/"
        },
        "outputId": "cb56dd51-a4ff-48d3-d014-0d7a091df2ea"
      },
      "source": [
        "# kiwi\n",
        "from kiwipiepy import Kiwi\n",
        "kiwi = Kiwi()\n",
        "kiwi.prepare()"
      ],
      "execution_count": null,
      "outputs": [
        {
          "output_type": "execute_result",
          "data": {
            "text/plain": [
              "0"
            ]
          },
          "metadata": {
            "tags": []
          },
          "execution_count": 7
        }
      ]
    },
    {
      "cell_type": "code",
      "metadata": {
        "id": "d3-ticKT0zYP",
        "colab": {
          "base_uri": "https://localhost:8080/"
        },
        "outputId": "db12345e-0602-472d-b244-5ecaa215a5dd"
      },
      "source": [
        "# 형태소 분석 연습\n",
        "kiwi.analyze('기형도의 시, 빈집은 이렇게 시작한다. \"사랑을 잃고 나는 쓰네\"')"
      ],
      "execution_count": null,
      "outputs": [
        {
          "output_type": "execute_result",
          "data": {
            "text/plain": [
              "[([('기형도', 'NNP', 0, 3),\n",
              "   ('의', 'JKG', 3, 1),\n",
              "   ('시', 'NNG', 5, 1),\n",
              "   (',', 'SP', 6, 1),\n",
              "   ('비', 'VV', 8, 1),\n",
              "   ('ᆫ', 'ETM', 9, 0),\n",
              "   ('집', 'NNG', 9, 1),\n",
              "   ('은', 'JX', 10, 1),\n",
              "   ('이렇', 'VA', 12, 2),\n",
              "   ('게', 'EC', 14, 1),\n",
              "   ('시작', 'NNG', 16, 2),\n",
              "   ('하', 'XSV', 18, 1),\n",
              "   ('ᆫ다', 'EF', 19, 1),\n",
              "   ('.', 'SF', 20, 1),\n",
              "   ('\"', 'SS', 22, 1),\n",
              "   ('사랑', 'NNG', 23, 2),\n",
              "   ('을', 'JKO', 25, 1),\n",
              "   ('잃', 'VV', 27, 1),\n",
              "   ('고', 'EC', 28, 1),\n",
              "   ('나', 'NP', 30, 1),\n",
              "   ('는', 'JX', 31, 1),\n",
              "   ('쓰', 'VV', 33, 1),\n",
              "   ('네', 'EC', 34, 1),\n",
              "   ('\"', 'SS', 35, 1)],\n",
              "  -109.51708984375)]"
            ]
          },
          "metadata": {
            "tags": []
          },
          "execution_count": 8
        }
      ]
    },
    {
      "cell_type": "markdown",
      "metadata": {
        "id": "C_jPlDLd3fXU"
      },
      "source": [
        "#### 사용자 사전"
      ]
    },
    {
      "cell_type": "code",
      "metadata": {
        "id": "-OGtNsf43Bpz"
      },
      "source": [
        "# 청일전쟁, 일청전쟁을 하나의 형태소로 인식하려면?\n",
        "kiwi.analyze('이인직은 청일전쟁을 배경으로 한 소설을 썼다.')"
      ],
      "execution_count": null,
      "outputs": []
    },
    {
      "cell_type": "code",
      "metadata": {
        "id": "p8XhTrp03Tm6"
      },
      "source": [
        "# 코드에서 추가하기\n",
        "kiwi = Kiwi()\n",
        "kiwi.add_user_word('청일전쟁','NNP')\n",
        "kiwi.add_user_word('일청전쟁','NNP')\n",
        "kiwi.prepare()"
      ],
      "execution_count": null,
      "outputs": []
    },
    {
      "cell_type": "code",
      "metadata": {
        "id": "xNugjQMq5Mug"
      },
      "source": [
        "# 사전 파일로 추가하기\n",
        "kiwi = Kiwi()\n",
        "kiwi.load_user_dictionary(\"user_dic.txt\")\n",
        "kiwi.prepare()"
      ],
      "execution_count": null,
      "outputs": []
    },
    {
      "cell_type": "code",
      "metadata": {
        "id": "MpeAt7Ym4Spt"
      },
      "source": [
        "kiwi.analyze('이인직은 청일전쟁을 배경으로 한 소설을 썼다.')"
      ],
      "execution_count": null,
      "outputs": []
    },
    {
      "cell_type": "markdown",
      "metadata": {
        "id": "us08koNpxvU1"
      },
      "source": [
        "## 2. 개체명 인식\n",
        "pororo : https://kakaobrain.github.io/pororo/"
      ]
    },
    {
      "cell_type": "code",
      "metadata": {
        "id": "j808xcfxNotQ"
      },
      "source": [
        "from google.colab import files\n",
        "from pororo import Pororo"
      ],
      "execution_count": null,
      "outputs": []
    },
    {
      "cell_type": "code",
      "metadata": {
        "id": "qGBlKUOcQuIh"
      },
      "source": [
        "# ner 모듈 불러오기\n",
        "ner = Pororo(task = 'ner',lang='ko')"
      ],
      "execution_count": null,
      "outputs": []
    },
    {
      "cell_type": "code",
      "metadata": {
        "id": "2iYsg0j4S9x2"
      },
      "source": [
        "ner(\"이는 당시 아시아의 지식인들이 메이지 유신으로 혹은 명치유신 발전한 일본에 대해서\")"
      ],
      "execution_count": null,
      "outputs": []
    },
    {
      "cell_type": "code",
      "metadata": {
        "id": "mpBJZ42xvG_A"
      },
      "source": [
        "# 사전 파일 위치 확인\n",
        "# !find / -name wiki.ko.items\n",
        "# # 기존 개체명인식 사전파일 다운로드\n",
        "# files.download('/root/.pororo/misc/wiki.ko.items')\n",
        "# # 파일 업로드 후 기존 사전에 덮어쓰기\n",
        "# !cp -f /content/wiki.ko.items /root/.pororo/misc/wiki.ko.items"
      ],
      "execution_count": null,
      "outputs": []
    },
    {
      "cell_type": "markdown",
      "metadata": {
        "id": "PCp_-ErmRPq-"
      },
      "source": [
        "## 3. 실습"
      ]
    },
    {
      "cell_type": "code",
      "metadata": {
        "id": "vyJrxHXzsMSH"
      },
      "source": [
        "# 분석할 텍스트 직접 삽입\n",
        "text = '''\n",
        "팔베개를 하고서 사십성상(四十星霜) 동안 참으로 잘 잤다. 곁에서 잠꼬대를 하는 자는 우리 이천만 동포다. 바다 건너에 와보니 종이 한 장이 매일 아침 베개 밑에 날아서 떨어진다. 아- 신기하고 새워서 몽롱한 눈을 비비고 한번 보니 신문(新聞)이라고 이름 붙여 천하의 별별 소식을 가득 싣고 있다. 만기활동(萬幾活動)의 원천이다. 나는 단단히 마음먹고 계획을 세워 지식을 세계에서 구하기 위해 귀국(貴國)에 유학하였는데, 학교에서 배우는 여가에 도신문사(都新聞社)에서 신문사업을 견습하기 위해 여기에 왔다. 나는 신문을 가지고 세계 문명을 그대로 옮기는 사진기계(寫眞機械)가 되고 새로운 소식을 말로 전하는 기계가 되겠다. 나는 그 문명의 참모습을 그대로 그려서 우리 국민에게 충고하는 중계자가 되기를 바란다. 우리 나라의 신문은 이삼 종류가 있고 그 중 제일 인기 있는 것은 황성신문(皇城新聞)이라고 하는 신문이다. 그러나 그것은 일간(日刊) 삼천여 장에 지나지 않는다. 내가 간절하게 원하는 것은 도신문사(都新聞社) 여러 군자(君子)에게서 문묵(文墨)으로 천하만기(天下萬機)의 선악을 상벌하는 활동의 좋은 수단(手段)을 배우고, 우리 이천만 동포들의 베개 맡에 이를 힘껏 던져서 이들이 앞으로 잠자지 못하도록 하게 하는 일이다. 유지제군(有志諸君)으로부터 열심히 가르침을 받으리라. 이것은 나 혼자만 도와주는 것이 아니라, 우리 나라 이천만 동포에게 경성(警醒)을 권하기 위한 것이라고 생각한다. 하지만 아직 우리 국민에게는 이 뜻을 표하는 데까지지는 미치지 못하고 다만 여기에 느낀 바를 말할 뿐이다.\n",
        "'''\n",
        "text = text.strip()"
      ],
      "execution_count": null,
      "outputs": []
    },
    {
      "cell_type": "code",
      "metadata": {
        "id": "QqvqkA9Dw4uW"
      },
      "source": [
        "text"
      ],
      "execution_count": null,
      "outputs": []
    },
    {
      "cell_type": "code",
      "metadata": {
        "id": "1AJ-6LFCxCjK"
      },
      "source": [
        "# 분석 텍스트 파일에서 불러오기\n",
        "with open('입사설.txt','r') as f:\n",
        "  text = f.read()"
      ],
      "execution_count": null,
      "outputs": []
    },
    {
      "cell_type": "code",
      "metadata": {
        "id": "kDF4D1jO1X15"
      },
      "source": [
        "text"
      ],
      "execution_count": null,
      "outputs": []
    },
    {
      "cell_type": "markdown",
      "metadata": {
        "id": "aMz7-4nLgnkW"
      },
      "source": [
        "#### a. 개체명 인식"
      ]
    },
    {
      "cell_type": "code",
      "metadata": {
        "id": "3hrPFhs8iOpF"
      },
      "source": [
        "from pororo import Pororo\n",
        "# ner 모듈 불러오기\n",
        "ner = Pororo(task = 'ner',lang='ko')"
      ],
      "execution_count": null,
      "outputs": []
    },
    {
      "cell_type": "code",
      "metadata": {
        "id": "BHOCGzY3stWz"
      },
      "source": [
        "# result 변수에 결과 담기\n",
        "result = ner(text)"
      ],
      "execution_count": null,
      "outputs": []
    },
    {
      "cell_type": "code",
      "metadata": {
        "id": "W6zd006Uz-qx"
      },
      "source": [
        "# 인식된 단어만 추출\n",
        "[t for t in result if t[1]!='O']"
      ],
      "execution_count": null,
      "outputs": []
    },
    {
      "cell_type": "code",
      "metadata": {
        "id": "rVkkScmu7PoU"
      },
      "source": [
        "# 선택된 태그 단어만 추출\n",
        "[t for t in result if t[1] in ['ORGANIZATION','LOCATION', 'CIVILIZATION','EVENT']]"
      ],
      "execution_count": null,
      "outputs": []
    },
    {
      "cell_type": "code",
      "metadata": {
        "id": "X4sT9fBsVrTS"
      },
      "source": [
        "# 추출된 단어 뽑기\n",
        "[t[0] for t in result if t[1] in ['ORGANIZATION','LOCATION', 'CIVILIZATION','EVENT']]"
      ],
      "execution_count": null,
      "outputs": []
    },
    {
      "cell_type": "markdown",
      "metadata": {
        "id": "2WYqqOS-hper"
      },
      "source": [
        "#### b. 형태소 분석\n",
        "비문학 텍스트에는 '명사' 위주로 추출"
      ]
    },
    {
      "cell_type": "code",
      "metadata": {
        "id": "GCEeLqfRiLGE"
      },
      "source": [
        "# kiwi\n",
        "from kiwipiepy import Kiwi\n",
        "kiwi = Kiwi()\n",
        "kiwi.prepare()\n",
        "\n",
        "from collections import Counter"
      ],
      "execution_count": null,
      "outputs": []
    },
    {
      "cell_type": "code",
      "metadata": {
        "id": "oZfpxTUkhvBJ"
      },
      "source": [
        "def kiwi_tokenize(sent):\n",
        "    res, score = kiwi.analyze(sent)[0] # 첫번째 결과를 사용\n",
        "    return [word\n",
        "            for word, tag, _, _ in res\n",
        "            if tag.startswith('NN')] # 명사만 (NNG/일반명사, NNP/고유명사)"
      ],
      "execution_count": null,
      "outputs": []
    },
    {
      "cell_type": "code",
      "metadata": {
        "id": "vTk5hNvLh_7u"
      },
      "source": [
        "# 형태소 분석\n",
        "token = kiwi_tokenize(text)\n",
        "cnt = Counter(token)"
      ],
      "execution_count": null,
      "outputs": []
    },
    {
      "cell_type": "code",
      "metadata": {
        "id": "Agd2237Ki_3B"
      },
      "source": [
        "# 상위 n개 단어 확인\n",
        "cnt.most_common(20) # 상위 20개"
      ],
      "execution_count": null,
      "outputs": []
    },
    {
      "cell_type": "markdown",
      "metadata": {
        "id": "R4inNld2ikHL"
      },
      "source": [
        "#### c. 개체로 지정\n",
        "개체명 인식과 형태소 분석으로 개체(individual)로 지정할 단어 후보군이 확정되면 이를 텍스트에 반영한다"
      ]
    },
    {
      "cell_type": "code",
      "metadata": {
        "id": "9XxZUPf4nAHv"
      },
      "source": [
        "import regex as re"
      ],
      "execution_count": null,
      "outputs": []
    },
    {
      "cell_type": "code",
      "metadata": {
        "id": "m6fgUAYyjo1x"
      },
      "source": [
        "# 확정된 개체 후보군 리스트 형태로 입력\n",
        "indivi = ['황성신문','신문','국민','문명','지식','도신문사']"
      ],
      "execution_count": null,
      "outputs": []
    },
    {
      "cell_type": "code",
      "metadata": {
        "id": "p70lCI2OvbHu"
      },
      "source": [
        "# 도출된 클래스 패턴 묶기\n",
        "indivi_pat = '|'.join(indivi)"
      ],
      "execution_count": null,
      "outputs": []
    },
    {
      "cell_type": "code",
      "metadata": {
        "id": "7eVogmg4m5oE"
      },
      "source": [
        "# 테스트 용 텍스트\n",
        "test = '제일 인기 신문은 황성신문 (皇城新聞)과 도신문사(都新聞社)'"
      ],
      "execution_count": null,
      "outputs": []
    },
    {
      "cell_type": "code",
      "metadata": {
        "id": "Ry5W1n-fsCTU"
      },
      "source": [
        "# 정규표현식 활용\n",
        "## \\p{Han} == [[:Han:]]\n",
        "re.sub(fr'({indivi_pat})(\\s*\\(*[[:Han:]]*\\)*)',r'[[\\1|\\1\\2]]',test)"
      ],
      "execution_count": null,
      "outputs": []
    },
    {
      "cell_type": "code",
      "metadata": {
        "id": "is1Ec-fBuLxn"
      },
      "source": [
        "# 개체 적용한 Wiki 텍스트 추출\n",
        "text_wiki = re.sub(fr'({indivi_pat})(\\s*\\(*[[:Han:]]*\\)*)',r'[[\\1|\\1\\2]]',text)\n",
        "text_wiki"
      ],
      "execution_count": null,
      "outputs": []
    },
    {
      "cell_type": "code",
      "metadata": {
        "id": "2ivEg5-JyjfZ"
      },
      "source": [
        "# txt 파일로 저장\n",
        "with open(\"입사설_wiki.txt\", \"w\") as f:\n",
        "    f.write(text_wiki)"
      ],
      "execution_count": null,
      "outputs": []
    },
    {
      "cell_type": "markdown",
      "metadata": {
        "id": "Z9zdp5l-6hxs"
      },
      "source": [
        "#### d. 클래스 적용 (실험중)"
      ]
    },
    {
      "cell_type": "code",
      "metadata": {
        "id": "UJ-jcjxJ6lv8"
      },
      "source": [
        "# 클래스-개체 딕셔너리(dict) 생성\n",
        "## 개체 = ['황성신문','신문','국민','문명','지식','도신문사']\n",
        "### 클래스 : 개체\n",
        "class_dict ={\n",
        "    '개념':['신문','국민','문명','지식'],\n",
        "    '언론사' : ['황성신문','도신문사']\n",
        "}"
      ],
      "execution_count": null,
      "outputs": []
    },
    {
      "cell_type": "code",
      "metadata": {
        "id": "cLl2DcqtanDV"
      },
      "source": [
        "# 클래스-개체 딕셔너리와 분석 대상 텍스트를 투입하면 클래스-개체 적용한 wiki 텍스트가 나옴\n",
        "def class_indivi(class_dict,text):\n",
        "  for key, value in class_dict.items():\n",
        "    pat = '|'.join(value)\n",
        "    text = re.sub(fr'\\s*({pat})(\\s*\\(*[[:Han:]]*\\)*)',fr'[[\\1|\\1\\2<sup>{key}</sup>]]',text)\n",
        "    print(text)\n",
        "  return text"
      ],
      "execution_count": null,
      "outputs": []
    },
    {
      "cell_type": "code",
      "metadata": {
        "id": "ZvcrJ-BpGw2E"
      },
      "source": [
        "text_wiki_class = class_indivi(class_dict,text)"
      ],
      "execution_count": null,
      "outputs": []
    },
    {
      "cell_type": "code",
      "metadata": {
        "id": "YkkFnunpcmXO"
      },
      "source": [
        "class_indivi(class_dict,'국민은 신문이다. 도신문사')"
      ],
      "execution_count": null,
      "outputs": []
    }
  ]
}