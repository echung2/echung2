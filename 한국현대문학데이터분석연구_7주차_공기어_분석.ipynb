{
  "nbformat": 4,
  "nbformat_minor": 0,
  "metadata": {
    "colab": {
      "provenance": [],
      "toc_visible": true,
      "include_colab_link": true
    },
    "kernelspec": {
      "name": "python3",
      "display_name": "Python 3"
    },
    "language_info": {
      "name": "python"
    }
  },
  "cells": [
    {
      "cell_type": "markdown",
      "metadata": {
        "id": "view-in-github",
        "colab_type": "text"
      },
      "source": [
        "<a href=\"https://colab.research.google.com/github/echung2/echung2/blob/master/%ED%95%9C%EA%B5%AD%ED%98%84%EB%8C%80%EB%AC%B8%ED%95%99%EB%8D%B0%EC%9D%B4%ED%84%B0%EB%B6%84%EC%84%9D%EC%97%B0%EA%B5%AC_7%EC%A3%BC%EC%B0%A8_%EA%B3%B5%EA%B8%B0%EC%96%B4_%EB%B6%84%EC%84%9D.ipynb\" target=\"_parent\"><img src=\"https://colab.research.google.com/assets/colab-badge.svg\" alt=\"Open In Colab\"/></a>"
      ]
    },
    {
      "cell_type": "markdown",
      "metadata": {
        "id": "AwdE2ywZO5T0"
      },
      "source": [
        "# 공기어 분석"
      ]
    },
    {
      "cell_type": "markdown",
      "metadata": {
        "id": "B-9bCkq-R0C2"
      },
      "source": [
        "### 0. 자료 준비"
      ]
    },
    {
      "cell_type": "code",
      "metadata": {
        "id": "_5DP-76mU8oa"
      },
      "source": [
        "# 나눔고딕\n",
        "!apt-get update -qq\n",
        "!apt-get install fonts-nanum* -qq\n",
        "\n",
        "# 패키지 설치\n",
        "!pip install kiwipiepy flashtext -q"
      ],
      "execution_count": null,
      "outputs": []
    },
    {
      "cell_type": "code",
      "metadata": {
        "id": "LFPVmFO-SEcn"
      },
      "source": [
        "import pandas as pd\n",
        "import numpy as np\n",
        "from sklearn.feature_extraction.text import CountVectorizer\n",
        "from sklearn.feature_extraction.text import TfidfVectorizer\n",
        "\n",
        "from kiwipiepy import Kiwi, Option\n",
        "kiwi = Kiwi()\n",
        "kiwi.prepare()\n",
        "\n",
        "from tqdm.notebook import tqdm\n",
        "tqdm.pandas()\n",
        "\n",
        "import matplotlib.pyplot as plt\n",
        "font_path = '/usr/share/fonts/truetype/nanum/NanumBarunGothic.ttf'\n",
        "\n",
        "import itertools\n",
        "from collections import Counter\n",
        "\n",
        "import regex #확장된 정규표현식. 일반 정규표현식은 import re\n",
        "\n",
        "from flashtext import KeywordProcessor\n",
        "kp = KeywordProcessor()"
      ],
      "execution_count": null,
      "outputs": []
    },
    {
      "cell_type": "code",
      "metadata": {
        "id": "b0iWh9GlO-OY"
      },
      "source": [
        "# 이인직 소설 자료 다운로드\n",
        "!wget --no-check-certificate 'https://drive.google.com/uc?export=download&id=1AY763FcPXN_iBo_sVMXHugQ8UHFvb_nN' -O lee.xlsx"
      ],
      "execution_count": null,
      "outputs": []
    },
    {
      "cell_type": "code",
      "metadata": {
        "id": "9VlLn1HNQL9U"
      },
      "source": [
        "df = pd.read_excel('lee.xlsx')\n",
        "df"
      ],
      "execution_count": null,
      "outputs": []
    },
    {
      "cell_type": "markdown",
      "metadata": {
        "id": "Ly5eJsDOTt9_"
      },
      "source": [
        "### 1. 형태소 분석 및 전처리"
      ]
    },
    {
      "cell_type": "markdown",
      "metadata": {
        "id": "Kyryal6aVoQX"
      },
      "source": [
        "##### 사용자 사전 등록"
      ]
    },
    {
      "cell_type": "code",
      "metadata": {
        "id": "SpKqjU3YW1Hq",
        "colab": {
          "base_uri": "https://localhost:8080/"
        },
        "outputId": "29a7c513-2ce6-4634-99c5-64b720f77ed4"
      },
      "source": [
        "kiwi.analyze('혈의누의 옥련은 운다. 훌쩍이다')"
      ],
      "execution_count": null,
      "outputs": [
        {
          "output_type": "execute_result",
          "data": {
            "text/plain": [
              "[([('혈', 'NNG', 0, 1),\n",
              "   ('의', 'JKG', 1, 1),\n",
              "   ('누', 'NNG', 2, 1),\n",
              "   ('의', 'JKG', 3, 1),\n",
              "   ('옥련', 'NNG', 5, 2),\n",
              "   ('은', 'JX', 7, 1),\n",
              "   ('울', 'VV', 8, 2),\n",
              "   ('ᆫ다', 'EF', 10, 1),\n",
              "   ('.', 'SF', 11, 1),\n",
              "   ('훌쩍이', 'VV', 13, 3),\n",
              "   ('다', 'EC', 16, 1)],\n",
              "  -91.01134490966797)]"
            ]
          },
          "metadata": {
            "tags": []
          },
          "execution_count": 55
        }
      ]
    },
    {
      "cell_type": "code",
      "metadata": {
        "id": "Nm67pepBWd0M"
      },
      "source": [
        "kiwi.load_user_dictionary(\"dic.txt\")\n",
        "# kiwi.prepare()"
      ],
      "execution_count": null,
      "outputs": []
    },
    {
      "cell_type": "code",
      "metadata": {
        "id": "OsdbpXhwYg1z",
        "colab": {
          "base_uri": "https://localhost:8080/"
        },
        "outputId": "c85dec68-b37e-4bb8-ed37-8994e3fac869"
      },
      "source": [
        "kiwi.analyze('옥련은 혈의누의 주인공이다.')"
      ],
      "execution_count": null,
      "outputs": [
        {
          "output_type": "execute_result",
          "data": {
            "text/plain": [
              "[([('옥련', 'NNG', 0, 2),\n",
              "   ('은', 'JX', 2, 1),\n",
              "   ('혈', 'NNG', 4, 1),\n",
              "   ('의', 'JKG', 5, 1),\n",
              "   ('누', 'NNG', 6, 1),\n",
              "   ('의', 'JKG', 7, 1),\n",
              "   ('주인공', 'NNG', 9, 3),\n",
              "   ('이', 'VCP', 12, 1),\n",
              "   ('다', 'EF', 13, 1),\n",
              "   ('.', 'SF', 14, 1)],\n",
              "  -57.77159881591797)]"
            ]
          },
          "metadata": {
            "tags": []
          },
          "execution_count": 67
        }
      ]
    },
    {
      "cell_type": "markdown",
      "metadata": {
        "id": "fvinXevpXZ2r"
      },
      "source": [
        "##### 형태소 분석\n",
        "품사 참고 : https://bab2min.github.io/kiwipiepy/v0.9.2/kr/#_7"
      ]
    },
    {
      "cell_type": "code",
      "metadata": {
        "id": "rOwnDTGrXbeg"
      },
      "source": [
        "# 몇가지 품사 제외한 모든 품사 추출\n",
        "def tokenize(sent):\n",
        "    res, score = kiwi.analyze(sent)[0] # 첫번째 결과를 사용\n",
        "    return [word + ('다' if tag.startswith('V') else '') # 동사/형용사에는 '다'를 붙여줌\n",
        "    # return [word + ('다' if tag.startswith('V') else '')+ '/'+ tag # 동사/형용사에는 '다'를 붙여줌 + / 품사\n",
        "            for word, tag, _, _ in res\n",
        "            if not tag.startswith('E') and not tag.startswith('J') and not tag.startswith('S')] # 조사, 어미, 특수기호 및 stopwords에 포함된 단어는 제거"
      ],
      "execution_count": null,
      "outputs": []
    },
    {
      "cell_type": "code",
      "metadata": {
        "id": "gkRpQBt9uawh"
      },
      "source": [
        "# 몇가지 품사 제외한 모든 품사 추출 + 품사 태그 포함\n",
        "def tokenize_tag(sent):\n",
        "    res, score = kiwi.analyze(sent)[0] # 첫번째 결과를 사용\n",
        "    return [word + ('다' if tag.startswith('V') else '')+ '/'+ tag # 동사/형용사에는 '다'를 붙여줌 + / 품사\n",
        "            for word, tag, _, _ in res\n",
        "            if not tag.startswith('E') and not tag.startswith('J') and not tag.startswith('S')] # 조사, 어미, 특수기호 및 stopwords에 포함된 단어는 제거"
      ],
      "execution_count": null,
      "outputs": []
    },
    {
      "cell_type": "code",
      "metadata": {
        "id": "P6NIuzeWs_Yz"
      },
      "source": [
        "# 특정 품사만 추출\n",
        "def tokenize_part(sent):\n",
        "    res, score = kiwi.analyze(sent)[0] # 첫번째 결과를 사용\n",
        "    return [word\n",
        "            for word, tag, _, _ in res\n",
        "            if tag.startswith('NN')] # 'NN'으로 시작하는 품사만 추출 = 명사만 추출"
      ],
      "execution_count": null,
      "outputs": []
    },
    {
      "cell_type": "code",
      "metadata": {
        "id": "3Hx20NWkY20W"
      },
      "source": [
        "df['paragraph'][0]"
      ],
      "execution_count": null,
      "outputs": []
    },
    {
      "cell_type": "code",
      "metadata": {
        "id": "JbyeLTunXxO2"
      },
      "source": [
        "tokenize(df['paragraph'][0])"
      ],
      "execution_count": null,
      "outputs": []
    },
    {
      "cell_type": "code",
      "metadata": {
        "id": "NdOGyWHBZfRz"
      },
      "source": [
        "df['tokens'] = df['paragraph'].progress_map(lambda x:tokenize(x))"
      ],
      "execution_count": null,
      "outputs": []
    },
    {
      "cell_type": "code",
      "metadata": {
        "id": "kXSODw4mZoRo"
      },
      "source": [
        "df['tokens']"
      ],
      "execution_count": null,
      "outputs": []
    },
    {
      "cell_type": "markdown",
      "metadata": {
        "id": "1pMTOWpBZC80"
      },
      "source": [
        "##### 불용어 제거"
      ]
    },
    {
      "cell_type": "code",
      "metadata": {
        "id": "l5nnTorSjXWP"
      },
      "source": [
        "# 상위 n개 단어 확인\n",
        "token_list = list(itertools.chain(*df['tokens'].tolist()))\n",
        "cnt = Counter(token_list)\n",
        "cnt.most_common(30) # 상위 20개"
      ],
      "execution_count": null,
      "outputs": []
    },
    {
      "cell_type": "code",
      "metadata": {
        "id": "0ytKtIMzZEhl"
      },
      "source": [
        " # 불용어 리스트\n",
        "stopwords = ['이다','하다','그','이','들','하','위하','있다','것','없다','아니하다'] # 품사가 포함된 경우에는 '이다/VCP' 이런식으로 바꾸어야 함"
      ],
      "execution_count": null,
      "outputs": []
    },
    {
      "cell_type": "code",
      "metadata": {
        "id": "YNJbHEXAhfAT"
      },
      "source": [
        "# 불용어 제거\n",
        "df['tokens'] = df['tokens'].map(lambda x:[w for w in x if not w in set(stopwords)])"
      ],
      "execution_count": null,
      "outputs": []
    },
    {
      "cell_type": "code",
      "metadata": {
        "id": "V1k3d6ohrSRj"
      },
      "source": [
        "# 유효한 1음절은 살리고 나머지는 제거\n",
        "hangul_1_except = regex.compile(r'^(?!삶|앎|꿈|말|시)\\p{Hangul}{1}$') # 파이프(|)로 구분해 입력. 맨마지막 단어에는 파이프 입력하지 말것.\n",
        "df['tokens'] = df['tokens'].progress_map(lambda x:[w for w in x if not hangul_1_except.match(w)]) #매치되는 것을 제거한다."
      ],
      "execution_count": null,
      "outputs": []
    },
    {
      "cell_type": "code",
      "metadata": {
        "id": "nbnYMSuhkc6D"
      },
      "source": [
        "df['tokens']"
      ],
      "execution_count": null,
      "outputs": []
    },
    {
      "cell_type": "markdown",
      "metadata": {
        "id": "nUlpSmXqllBV"
      },
      "source": [
        "##### 동의어 처리"
      ]
    },
    {
      "cell_type": "code",
      "metadata": {
        "id": "Aa_2Kgi5loT8"
      },
      "source": [
        "# flashtext용 동의어 딕셔너리\n",
        "# 통일단어 : 바꿀단어\n",
        "#'startup':['start up','start ups','start-up','start-ups','start_up','start_ups'],\n",
        "\n",
        "synonym_dict = {\n",
        "'옥련':['옥련이'] # 부인?\n",
        "\n",
        "}\n",
        "kp.add_keywords_from_dict(synonym_dict)"
      ],
      "execution_count": null,
      "outputs": []
    },
    {
      "cell_type": "code",
      "metadata": {
        "id": "b0IQcoarmPnT"
      },
      "source": [
        "# 동의어 처리 실행\n",
        "df['tokens'] = [[kp.replace_keywords(x) for x in w] for w in tqdm(df['tokens'])]"
      ],
      "execution_count": null,
      "outputs": []
    },
    {
      "cell_type": "markdown",
      "metadata": {
        "id": "4YA5XDw6lpwH"
      },
      "source": [
        "##### 기타 전처리 (유효한 행만 남긱기)"
      ]
    },
    {
      "cell_type": "code",
      "metadata": {
        "colab": {
          "base_uri": "https://localhost:8080/",
          "height": 418
        },
        "id": "FzjLuAoNJPTt",
        "outputId": "c8ed996f-ce66-4f0d-9320-72d0abd1e78c"
      },
      "source": [
        "# 특정 형태소가 들어간 행만 남기기\n",
        "query_list = ['울다','훌쩍이다'] # OR 조건\n",
        "# df['tokens'].map(lambda x:query in x)\n",
        "df[df['tokens'].map(lambda x:any(query in x for query in query_list))]"
      ],
      "execution_count": null,
      "outputs": [
        {
          "output_type": "execute_result",
          "data": {
            "text/html": [
              "<div>\n",
              "<style scoped>\n",
              "    .dataframe tbody tr th:only-of-type {\n",
              "        vertical-align: middle;\n",
              "    }\n",
              "\n",
              "    .dataframe tbody tr th {\n",
              "        vertical-align: top;\n",
              "    }\n",
              "\n",
              "    .dataframe thead th {\n",
              "        text-align: right;\n",
              "    }\n",
              "</style>\n",
              "<table border=\"1\" class=\"dataframe\">\n",
              "  <thead>\n",
              "    <tr style=\"text-align: right;\">\n",
              "      <th></th>\n",
              "      <th>idx</th>\n",
              "      <th>title</th>\n",
              "      <th>paragraph</th>\n",
              "      <th>dialogue</th>\n",
              "      <th>tokens</th>\n",
              "    </tr>\n",
              "  </thead>\n",
              "  <tbody>\n",
              "    <tr>\n",
              "      <th>23</th>\n",
              "      <td>24</td>\n",
              "      <td>혈의 누/현대어 해석</td>\n",
              "      <td>밤은 깊어 사람의 자취도 없고 사면에서 닭은 홰를 치며 울고 개는 여염집 평대문 개...</td>\n",
              "      <td>0</td>\n",
              "      <td>[깊다, 사람, 자취, 사면, 치다, 울다, 여염집, 평대문, 개구멍, 주둥이, 내...</td>\n",
              "    </tr>\n",
              "    <tr>\n",
              "      <th>24</th>\n",
              "      <td>25</td>\n",
              "      <td>혈의 누/현대어 해석</td>\n",
              "      <td>“개야, 너 혼자 집을 지키고 있구나. 우리가 피란 갈 때에 너를 부엌에 가두고 나...</td>\n",
              "      <td>1</td>\n",
              "      <td>[혼자, 지키다, 우리, 피란, 가다, 부엌, 가두다, 나오다, 어디, 나오다, 같...</td>\n",
              "    </tr>\n",
              "    <tr>\n",
              "      <th>49</th>\n",
              "      <td>50</td>\n",
              "      <td>혈의 누/현대어 해석</td>\n",
              "      <td>두 날개 탁탁 치며 꼬끼요 우는 소리는 첫닭이 분명한데 이 밤 새우기는 참 어렵도다...</td>\n",
              "      <td>0</td>\n",
              "      <td>[날개, 치다, 꼬끼, 울다, 소리, 첫닭, 분명, 새우다, 어렵다, 그렇게, 적적...</td>\n",
              "    </tr>\n",
              "    <tr>\n",
              "      <th>72</th>\n",
              "      <td>73</td>\n",
              "      <td>혈의 누/현대어 해석</td>\n",
              "      <td>평양의 난리 소문이 다른 사람 듣기에는 이웃집에 초상났다는 소문과 같이 심상히 들리...</td>\n",
              "      <td>0</td>\n",
              "      <td>[평양, 난리, 소문, 다른, 사람, 듣다, 이웃집, 초상, 나다, 소문, 같이, ...</td>\n",
              "    </tr>\n",
              "    <tr>\n",
              "      <th>87</th>\n",
              "      <td>88</td>\n",
              "      <td>혈의 누/현대어 해석</td>\n",
              "      <td>뒤떨어졌던 고장팔의 모가 들어 달아오면서 덩달아 운다.</td>\n",
              "      <td>0</td>\n",
              "      <td>[뒤떨어지다, 고장, 들다, 달다, 오다, 덩달다, 울다]</td>\n",
              "    </tr>\n",
              "    <tr>\n",
              "      <th>...</th>\n",
              "      <td>...</td>\n",
              "      <td>...</td>\n",
              "      <td>...</td>\n",
              "      <td>...</td>\n",
              "      <td>...</td>\n",
              "    </tr>\n",
              "    <tr>\n",
              "      <th>3156</th>\n",
              "      <td>1158</td>\n",
              "      <td>치악산</td>\n",
              "      <td>정월 초하룻날 밤부터는 옥단이가 안방 상직잠을 자는 터이라, 고두쇠가 빈 행랑방에서...</td>\n",
              "      <td>0</td>\n",
              "      <td>[정월, 초하룻날, 옥단이, 안방, 상직, 자다, 고두쇠, 비다, 행랑, 심심, 울...</td>\n",
              "    </tr>\n",
              "    <tr>\n",
              "      <th>3157</th>\n",
              "      <td>1159</td>\n",
              "      <td>치악산</td>\n",
              "      <td>“조 방정맞은 귀신, 제가 울면 누구를 어찌할 터인가, 제가 사람을 잡아 갈 수 있...</td>\n",
              "      <td>1</td>\n",
              "      <td>[방정맞다, 귀신, 울다, 누구, 어찌, 사람, 잡다, 가다, 벌써, 오다, 잡아가...</td>\n",
              "    </tr>\n",
              "    <tr>\n",
              "      <th>3168</th>\n",
              "      <td>1170</td>\n",
              "      <td>치악산</td>\n",
              "      <td>(고)“본래 아씨를 치악산에 버리고 오기는 소인이 한 일이올시다. 소인이 이 길로 ...</td>\n",
              "      <td>1</td>\n",
              "      <td>[본래, 아씨, 치악산, 버리다, 오다, 소인, 소인, 원귀, 울다, 혼자, 나가다...</td>\n",
              "    </tr>\n",
              "    <tr>\n",
              "      <th>3175</th>\n",
              "      <td>1177</td>\n",
              "      <td>치악산</td>\n",
              "      <td>시골구석의 무식한 사람들이 귀신을 어찌 몹시 믿던지, 고두쇠란 놈은 홍참의 며느리 ...</td>\n",
              "      <td>0</td>\n",
              "      <td>[시골, 구석, 무식, 사람, 귀신, 어찌, 몹시, 믿다, 고두쇠, 홍참, 며느리,...</td>\n",
              "    </tr>\n",
              "    <tr>\n",
              "      <th>3177</th>\n",
              "      <td>1179</td>\n",
              "      <td>치악산</td>\n",
              "      <td>금봉이가 장사패들을 데리고 치악산 장포수 들었던 집에 있는데, 낮이면 장사패가 사냥...</td>\n",
              "      <td>0</td>\n",
              "      <td>[금봉, 장사, 데리다, 치악산, 포수, 듣다, 장사, 사냥, 메다, 마리, 잡다,...</td>\n",
              "    </tr>\n",
              "  </tbody>\n",
              "</table>\n",
              "<p>172 rows × 5 columns</p>\n",
              "</div>"
            ],
            "text/plain": [
              "       idx  ...                                             tokens\n",
              "23      24  ...  [깊다, 사람, 자취, 사면, 치다, 울다, 여염집, 평대문, 개구멍, 주둥이, 내...\n",
              "24      25  ...  [혼자, 지키다, 우리, 피란, 가다, 부엌, 가두다, 나오다, 어디, 나오다, 같...\n",
              "49      50  ...  [날개, 치다, 꼬끼, 울다, 소리, 첫닭, 분명, 새우다, 어렵다, 그렇게, 적적...\n",
              "72      73  ...  [평양, 난리, 소문, 다른, 사람, 듣다, 이웃집, 초상, 나다, 소문, 같이, ...\n",
              "87      88  ...                   [뒤떨어지다, 고장, 들다, 달다, 오다, 덩달다, 울다]\n",
              "...    ...  ...                                                ...\n",
              "3156  1158  ...  [정월, 초하룻날, 옥단이, 안방, 상직, 자다, 고두쇠, 비다, 행랑, 심심, 울...\n",
              "3157  1159  ...  [방정맞다, 귀신, 울다, 누구, 어찌, 사람, 잡다, 가다, 벌써, 오다, 잡아가...\n",
              "3168  1170  ...  [본래, 아씨, 치악산, 버리다, 오다, 소인, 소인, 원귀, 울다, 혼자, 나가다...\n",
              "3175  1177  ...  [시골, 구석, 무식, 사람, 귀신, 어찌, 몹시, 믿다, 고두쇠, 홍참, 며느리,...\n",
              "3177  1179  ...  [금봉, 장사, 데리다, 치악산, 포수, 듣다, 장사, 사냥, 메다, 마리, 잡다,...\n",
              "\n",
              "[172 rows x 5 columns]"
            ]
          },
          "metadata": {
            "tags": []
          },
          "execution_count": 66
        }
      ]
    },
    {
      "cell_type": "code",
      "metadata": {
        "id": "VECFcpcpluLL"
      },
      "source": [
        "df['tokens'].map(lambda x:len(x))"
      ],
      "execution_count": null,
      "outputs": []
    },
    {
      "cell_type": "code",
      "metadata": {
        "id": "QQm-zeltrGKN"
      },
      "source": [
        "df['tokens'].map(lambda x:len(x)).describe()"
      ],
      "execution_count": null,
      "outputs": []
    },
    {
      "cell_type": "code",
      "metadata": {
        "id": "wgKbTW2Lt69h"
      },
      "source": [
        "df['tokens'].map(lambda x:len(x)).hist()"
      ],
      "execution_count": null,
      "outputs": []
    },
    {
      "cell_type": "code",
      "metadata": {
        "id": "ZCsR9vChrHam"
      },
      "source": [
        "# token 개수가 N개 이상인 행만 살리기\n",
        "df = df[df['tokens'].map(lambda x:len(x)>=3)] #3개 이상\n",
        "df"
      ],
      "execution_count": null,
      "outputs": []
    },
    {
      "cell_type": "code",
      "metadata": {
        "id": "ImTloGfYrIvV"
      },
      "source": [
        "# paragraph 열 중복행이 있으면 제거 \n",
        "df = df.drop_duplicates(subset=['paragraph'])"
      ],
      "execution_count": null,
      "outputs": []
    },
    {
      "cell_type": "code",
      "metadata": {
        "id": "A4dMziCs50Hq"
      },
      "source": [
        "# reset index\n",
        "df = df.reset_index(drop=True)"
      ],
      "execution_count": null,
      "outputs": []
    },
    {
      "cell_type": "markdown",
      "metadata": {
        "id": "8bqOMfrEVr-U"
      },
      "source": [
        "### 2. 키워드 추출 / 단어 네트워크"
      ]
    },
    {
      "cell_type": "markdown",
      "metadata": {
        "id": "f4b6HmBiV0va"
      },
      "source": [
        "##### Term Frequency (단순 빈도수)"
      ]
    },
    {
      "cell_type": "code",
      "metadata": {
        "id": "V6Ft6hoR62hN"
      },
      "source": [
        "tf_vectorizer = CountVectorizer(analyzer='word',\n",
        "                             lowercase=False,\n",
        "                             tokenizer=None,\n",
        "                             preprocessor=None,\n",
        "                             min_df=100, # 최소 100개 문서에서 등장해야 함\n",
        "                             ngram_range=(1,2) #bigram까지\n",
        "                             )"
      ],
      "execution_count": null,
      "outputs": []
    },
    {
      "cell_type": "code",
      "metadata": {
        "id": "hdSTJS5G637a"
      },
      "source": [
        "tf_vector = tf_vectorizer.fit_transform(df['tokens'].astype(str))"
      ],
      "execution_count": null,
      "outputs": []
    },
    {
      "cell_type": "code",
      "metadata": {
        "id": "u79xB8Ci666w"
      },
      "source": [
        "# 빈도수 내림차순으로 정렬\n",
        "tf_scores = tf_vector.toarray().sum(axis=0)\n",
        "tf_idx = np.argsort(-tf_scores)\n",
        "tf_scores = tf_scores[tf_idx]\n",
        "tf_vocab = np.array(tf_vectorizer.get_feature_names())[tf_idx]"
      ],
      "execution_count": null,
      "outputs": []
    },
    {
      "cell_type": "code",
      "metadata": {
        "id": "Lk0Flnxi67_N"
      },
      "source": [
        "# 상위 50개 단어\n",
        "print(list(zip(tf_vocab, tf_scores))[:50])"
      ],
      "execution_count": null,
      "outputs": []
    },
    {
      "cell_type": "code",
      "metadata": {
        "id": "tfHzwxcPVjkZ"
      },
      "source": [
        "# 워드클라이드 (참고용)\n",
        "keywords = dict(zip(tf_vocab, tf_scores))\n",
        "\n",
        "# wordcloud = wordcloud.generate_from_text(texts)\n",
        "wordcloud = wordcloud.generate_from_frequencies(keywords)\n",
        "wordcloud = WordCloud(\n",
        "    font_path = font_path,\n",
        "    width = 800,\n",
        "    height = 800\n",
        ")\n",
        "wordcloud = wordcloud.generate_from_frequencies(keywords)\n",
        "array = wordcloud.to_array()\n",
        "fig = plt.figure(figsize=(5, 5))\n",
        "plt.imshow(array, interpolation=\"bilinear\")\n",
        "plt.show()"
      ],
      "execution_count": null,
      "outputs": []
    },
    {
      "cell_type": "markdown",
      "metadata": {
        "id": "TLH8kcR-69WJ"
      },
      "source": [
        "##### TF-IDF(빈도수 * 역문서 빈도수)"
      ]
    },
    {
      "cell_type": "code",
      "metadata": {
        "id": "L3-DDcVF7Au6"
      },
      "source": [
        "tfidf_vectorizer = TfidfVectorizer(analyzer='word',\n",
        "                             lowercase=False,\n",
        "                             tokenizer=None,\n",
        "                             preprocessor=None,\n",
        "                             min_df=100, \n",
        "                             ngram_range=(1,2), #bigram \n",
        "                             smooth_idf=True)"
      ],
      "execution_count": null,
      "outputs": []
    },
    {
      "cell_type": "code",
      "metadata": {
        "id": "UnA2emj17Ce8"
      },
      "source": [
        "tfidf_vector = tfidf_vectorizer.fit_transform(kim['token'].astype(str))"
      ],
      "execution_count": null,
      "outputs": []
    },
    {
      "cell_type": "code",
      "metadata": {
        "id": "me220sPY7EZ2"
      },
      "source": [
        "tfidf_scores = tfidf_vector.toarray().sum(axis=0)\n",
        "tfidf_idx = np.argsort(-tfidf_scores)\n",
        "tfidf_scores = tfidf_scores[tfidf_idx]\n",
        "tfidf_vocab = np.array(tfidf_vectorizer.get_feature_names())[tfidf_idx]"
      ],
      "execution_count": null,
      "outputs": []
    },
    {
      "cell_type": "code",
      "metadata": {
        "id": "uvvOPuFk7Fh-"
      },
      "source": [
        "print(list(zip(tfidf_vocab, tfidf_scores))[:50]) #상위 50개 단어"
      ],
      "execution_count": null,
      "outputs": []
    },
    {
      "cell_type": "markdown",
      "metadata": {
        "id": "c1ki6Zae7GNV"
      },
      "source": [
        "##### 단어 빈도수 테이블 정리"
      ]
    },
    {
      "cell_type": "code",
      "metadata": {
        "id": "YBq-Mu697IbE"
      },
      "source": [
        "###TF, TF-IDF 단어 테이블 정리###\n",
        "list(zip(tf_vocab, tf_scores,tfidf_vocab,tfidf_scores))[:100] #상위 100개\n",
        "tf_tfidf_vocab = pd.DataFrame(list(zip(tf_vocab, tf_scores,tfidf_vocab,tfidf_scores)),\n",
        "                              columns=['TF 단어','TF','TFIDF 단어','TFIDF'])"
      ],
      "execution_count": null,
      "outputs": []
    },
    {
      "cell_type": "code",
      "metadata": {
        "id": "xl8fn1V-7KVa"
      },
      "source": [
        "tf_tfidf_vocab"
      ],
      "execution_count": null,
      "outputs": []
    },
    {
      "cell_type": "code",
      "metadata": {
        "id": "JFWwd--_7MV6"
      },
      "source": [
        "tf_tfidf_vocab.to_excel('이인직 키워드 빈도.xlsx') # 엑셀파일로 저장"
      ],
      "execution_count": null,
      "outputs": []
    },
    {
      "cell_type": "markdown",
      "metadata": {
        "id": "smiDeW6w7eqS"
      },
      "source": [
        "##### 코사인 유사도 기반의 단어-단어 행렬"
      ]
    },
    {
      "cell_type": "code",
      "metadata": {
        "id": "Ie4ukkrZ7i9R"
      },
      "source": [
        "tfidf_term_term_mat = cosine_similarity(tfidf_vector.T)\n",
        "tfidf_term_term_mat = pd.DataFrame(tfidf_term_term_mat,index=tfidf_vectorizer.vocabulary_,columns=tfidf_vectorizer.vocabulary_)"
      ],
      "execution_count": null,
      "outputs": []
    },
    {
      "cell_type": "code",
      "metadata": {
        "id": "HUONw4eh7mNX"
      },
      "source": [
        "tfidf_term_term_mat"
      ],
      "execution_count": null,
      "outputs": []
    },
    {
      "cell_type": "code",
      "metadata": {
        "id": "N2AnFfSc7ouu"
      },
      "source": [
        "# tf-idf 기준 상위 100개 단어만# tf-idf 기준 상위 100개 단어만\n",
        "tfidf_term_term_mat_100 = tfidf_term_term_mat[tfidf_term_term_mat.keys().isin(tfidf_vocab[:100])]\n",
        "tfidf_term_term_mat_100 = tfidf_term_term_mat_100[tfidf_term_term_mat_100.columns.intersection(tfidf_vocab[:100])]\n",
        "tfidf_term_term_mat_100"
      ],
      "execution_count": null,
      "outputs": []
    },
    {
      "cell_type": "code",
      "metadata": {
        "id": "_0ViqKGM9cpZ"
      },
      "source": [
        "# csv로 저장\n",
        "tfidf_term_term_mat_100.iloc[:100,:100].to_csv('단어 매트릭스.csv')"
      ],
      "execution_count": null,
      "outputs": []
    }
  ]
}